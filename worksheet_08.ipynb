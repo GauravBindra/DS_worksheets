{
 "cells": [
  {
   "attachments": {},
   "cell_type": "markdown",
   "metadata": {},
   "source": [
    "\\# Worksheet 08\n",
    "\n",
    "Name:  Gauravdeep Singh Bindra\n",
    "UID: U23346660\n",
    "\n",
    "### Topics\n",
    "\n",
    "- Soft Clustering\n",
    "- Clustering Aggregation\n",
    "\n",
    "### Probability Review\n",
    "\n",
    "\n",
    "Read through [the following](https://medium.com/@gallettilance/overview-of-probability-3272b72c82c8)\n",
    "\n",
    "### Soft Clustering\n",
    "\n",
    "We generate 10 data points that come from a normal distribution with mean 5 and variance 1."
   ]
  },
  {
   "cell_type": "code",
   "execution_count": 3,
   "metadata": {},
   "outputs": [
    {
     "name": "stdout",
     "output_type": "stream",
     "text": [
      "[4.018710911495575, 4.535465384077881, 6.534159911651646, 5.907882156846552, 5.526348937457065, 5.774580649925459, 4.600195058953441, 3.3824136111571232, 6.56012980221487, 5.316846218056069]\n"
     ]
    }
   ],
   "source": [
    "import random\n",
    "import numpy as np\n",
    "from sklearn.cluster import KMeans\n",
    "\n",
    "mean = 5\n",
    "stdev = 1\n",
    "\n",
    "c1 = np.random.normal(mean, stdev, 10).tolist()\n",
    "print(c1)"
   ]
  },
  {
   "cell_type": "markdown",
   "metadata": {},
   "source": [
    "a) Generate 10 more data points, this time coming from a normal distribution with mean 8 and variance 1."
   ]
  },
  {
   "cell_type": "code",
   "execution_count": 4,
   "metadata": {},
   "outputs": [
    {
     "name": "stdout",
     "output_type": "stream",
     "text": [
      "[9.264959771673091, 10.082726462331886, 9.074814816678643, 9.204041123575838, 8.110020645619104, 8.451104793783365, 9.882084294106875, 7.166878432262782, 7.966886901953358, 8.232308563450378]\n"
     ]
    }
   ],
   "source": [
    "mean = 8\n",
    "stdev = 1\n",
    "c2 = np.random.normal( mean ,stdev, 10 ).tolist()\n",
    "print(c2)"
   ]
  },
  {
   "cell_type": "code",
   "execution_count": null,
   "metadata": {},
   "outputs": [],
   "source": []
  },
  {
   "cell_type": "markdown",
   "metadata": {},
   "source": [
    "b) Flip a fair coin 10 times. If the coin lands on H, then pick the last data point of `c1` and remove it from `c1`, if T then pick the last data point from `c2` and remove it from `c2`. Add these 10 points to a list called `data`."
   ]
  },
  {
   "cell_type": "code",
   "execution_count": 5,
   "metadata": {},
   "outputs": [
    {
     "name": "stdout",
     "output_type": "stream",
     "text": [
      "[8.232308563450378, 5.316846218056069, 7.966886901953358, 7.166878432262782, 6.56012980221487, 9.882084294106875, 3.3824136111571232, 4.600195058953441, 8.451104793783365, 8.110020645619104]\n"
     ]
    }
   ],
   "source": [
    "data = []\n",
    "for i in range(10):\n",
    "    # flip coin\n",
    "    coin_output = random.choice([0, 1])\n",
    "    if coin_output == 0:\n",
    "        p1 = c1[-1]\n",
    "        n1 = len(c1)\n",
    "        c1 = c1[:n1-1]\n",
    "        data.append(p1)\n",
    "    else:\n",
    "        p2 = c2[-1]\n",
    "        n2 = len(c2)\n",
    "        c2 = c2[:n2-1]\n",
    "        data.append(p2)\n",
    "print(data)"
   ]
  },
  {
   "cell_type": "code",
   "execution_count": 6,
   "metadata": {},
   "outputs": [
    {
     "name": "stdout",
     "output_type": "stream",
     "text": [
      "6\n"
     ]
    }
   ],
   "source": [
    "print(len(c1))"
   ]
  },
  {
   "cell_type": "markdown",
   "metadata": {},
   "source": [
    "c) This `data` is a Gaussian Mixture Distribution with 2 mixture components. Over the next few questions we will walk through the GMM algorithm to see if we can uncover the parameters we used to generate this data. First, please list all these parameters of the GMM that created `data` and the values we know they have."
   ]
  },
  {
   "cell_type": "markdown",
   "metadata": {},
   "source": [
    "Parameters \n",
    "1st distribution - Mean 5, Variance 1\n",
    "2nd distribution - Mean 8, Variance 1\n",
    "Probability of distributions = 1/2 "
   ]
  },
  {
   "cell_type": "markdown",
   "metadata": {},
   "source": [
    "d) Let's assume there are two mixture components (note: we could plot the data and make the observation that there are two clusters). The EM algorithm asks us to start with a random `mean_j`, `variance_j`, `P(C_j)` for each component j. One method we could use to find sensible values for these is to apply K means with k=2 here.\n",
    "\n",
    "1. the centroids would be the estimates of the `mean_j`\n",
    "2. the intra-cluster variance could be the estimate of `variance_j`\n",
    "3. the proportion of points in each cluster could be the estimate of `P(C_j)`\n",
    "\n",
    "Go through this process and list the parameter estimates it gives. Are they close or far from the true values?"
   ]
  },
  {
   "cell_type": "code",
   "execution_count": 7,
   "metadata": {},
   "outputs": [
    {
     "data": {
      "text/plain": [
       "array([[8.23230856],\n",
       "       [5.31684622],\n",
       "       [7.9668869 ],\n",
       "       [7.16687843],\n",
       "       [6.5601298 ],\n",
       "       [9.88208429],\n",
       "       [3.38241361],\n",
       "       [4.60019506],\n",
       "       [8.45110479],\n",
       "       [8.11002065]])"
      ]
     },
     "execution_count": 7,
     "metadata": {},
     "output_type": "execute_result"
    }
   ],
   "source": [
    "np.array(data).reshape(-1, 1)"
   ]
  },
  {
   "cell_type": "code",
   "execution_count": 8,
   "metadata": {},
   "outputs": [
    {
     "name": "stdout",
     "output_type": "stream",
     "text": [
      "[5.316846218056069, 3.3824136111571232, 4.600195058953441]\n",
      "[8.232308563450378, 7.966886901953358, 7.166878432262782, 6.56012980221487, 9.882084294106875, 8.451104793783365, 8.110020645619104]\n",
      "P(C_1) = 0.3,  P(C_2) = 0.7\n",
      "mean_1 = 4.4331516293888775,  mean_2 = 8.052773347627246\n",
      "var_1 = 0.6376233387859875,  var_2 = 0.9372468090050542\n"
     ]
    },
    {
     "name": "stderr",
     "output_type": "stream",
     "text": [
      "/usr/local/lib/python3.11/site-packages/sklearn/cluster/_kmeans.py:1416: FutureWarning: The default value of `n_init` will change from 10 to 'auto' in 1.4. Set the value of `n_init` explicitly to suppress the warning\n",
      "  super()._check_params_vs_input(X, default_n_init=10)\n"
     ]
    }
   ],
   "source": [
    "kmeans = KMeans(2, init='k-means++').fit(X=np.array(data).reshape(-1, 1))\n",
    "\n",
    "c1 = [x[0] for x in filter(lambda x: x[1] == 0, zip(data, kmeans.labels_))]\n",
    "print(c1)\n",
    "c2 = [x[0] for x in filter(lambda x: x[1] == 1, zip(data, kmeans.labels_))]\n",
    "print(c2)\n",
    "\n",
    "prob_c = [ len(c1) / (len(c1) + len(c2)) , len(c2)/(len(c1) + len(c2))]\n",
    "mean = [ sum(c1)/len(c1) , sum(c2)/len(c2)]\n",
    "var = [ sum(map(lambda x : (x - mean[0])**2, c1)) / len(c1) , sum(map(lambda x : (x - mean[1])**2, c2)) / len(c2) ]\n",
    "\n",
    "print(\"P(C_1) = \" + str(prob_c[0]) + \",  P(C_2) = \" + str(prob_c[1]))\n",
    "print(\"mean_1 = \" + str(mean[0]) + \",  mean_2 = \" + str(mean[1]))\n",
    "print(\"var_1 = \" + str(var[0]) + \",  var_2 = \" + str(var[1]))"
   ]
  },
  {
   "cell_type": "code",
   "execution_count": 9,
   "metadata": {},
   "outputs": [
    {
     "data": {
      "text/plain": [
       "1.2226567635835334e-08"
      ]
     },
     "execution_count": 9,
     "metadata": {},
     "output_type": "execute_result"
    }
   ],
   "source": [
    "from scipy.stats import norm\n",
    "norm.pdf(data[0], mean[0], var[0])"
   ]
  },
  {
   "cell_type": "markdown",
   "metadata": {},
   "source": []
  },
  {
   "cell_type": "markdown",
   "metadata": {},
   "source": [
    "e) For each data point, compute `P(C_j | X_i)`. Comment on which cluster you think each point belongs to based on the estimated probabilities. How does that compare to the truth?"
   ]
  },
  {
   "cell_type": "code",
   "execution_count": 10,
   "metadata": {},
   "outputs": [
    {
     "name": "stdout",
     "output_type": "stream",
     "text": [
      "point =  8.232308563450378\n",
      "probability of observing that point if it came from cluster 0 =  0.0\n",
      "probability of observing that point if it came from cluster 1 =  0.41792\n",
      "point =  5.316846218056069\n",
      "probability of observing that point if it came from cluster 0 =  0.23947\n",
      "probability of observing that point if it came from cluster 1 =  0.00601\n",
      "point =  7.966886901953358\n",
      "probability of observing that point if it came from cluster 0 =  0.0\n",
      "probability of observing that point if it came from cluster 1 =  0.42387\n",
      "point =  7.166878432262782\n",
      "probability of observing that point if it came from cluster 0 =  6e-05\n",
      "probability of observing that point if it came from cluster 1 =  0.2723\n",
      "point =  6.56012980221487\n",
      "probability of observing that point if it came from cluster 0 =  0.0024\n",
      "probability of observing that point if it came from cluster 1 =  0.11976\n",
      "point =  9.882084294106875\n",
      "probability of observing that point if it came from cluster 0 =  0.0\n",
      "probability of observing that point if it came from cluster 1 =  0.06336\n",
      "point =  3.3824136111571232\n",
      "probability of observing that point if it came from cluster 0 =  0.16094\n",
      "probability of observing that point if it came from cluster 1 =  0.0\n",
      "point =  4.600195058953441\n",
      "probability of observing that point if it came from cluster 0 =  0.60456\n",
      "probability of observing that point if it came from cluster 1 =  0.00048\n",
      "point =  8.451104793783365\n",
      "probability of observing that point if it came from cluster 0 =  0.0\n",
      "probability of observing that point if it came from cluster 1 =  0.3889\n",
      "point =  8.110020645619104\n",
      "probability of observing that point if it came from cluster 0 =  0.0\n",
      "probability of observing that point if it came from cluster 1 =  0.42486\n",
      "8.232308563450378\n",
      "Probability of coming from C_1 = 1.2538327273210195e-08\n",
      "Probability of coming from C_2 = 0.9999999874616726\n",
      "\n",
      "5.316846218056069\n",
      "Probability of coming from C_1 = 0.944701235094738\n",
      "Probability of coming from C_2 = 0.055298764905261845\n",
      "\n",
      "7.966886901953358\n",
      "Probability of coming from C_1 = 1.3540240290272334e-07\n",
      "Probability of coming from C_2 = 0.999999864597597\n",
      "\n",
      "7.166878432262782\n",
      "Probability of coming from C_1 = 0.00010040919335420582\n",
      "Probability of coming from C_2 = 0.9998995908066458\n",
      "\n",
      "6.56012980221487\n",
      "Probability of coming from C_1 = 0.008512345636385879\n",
      "Probability of coming from C_2 = 0.9914876543636142\n",
      "\n",
      "9.882084294106875\n",
      "Probability of coming from C_1 = 5.868405354110168e-16\n",
      "Probability of coming from C_2 = 0.9999999999999994\n",
      "\n",
      "3.3824136111571232\n",
      "Probability of coming from C_1 = 0.9999749741256451\n",
      "Probability of coming from C_2 = 2.5025874354941926e-05\n",
      "\n",
      "4.600195058953441\n",
      "Probability of coming from C_1 = 0.998146035997401\n",
      "Probability of coming from C_2 = 0.0018539640025991293\n",
      "\n",
      "8.451104793783365\n",
      "Probability of coming from C_1 = 1.644322541429683e-09\n",
      "Probability of coming from C_2 = 0.9999999983556774\n",
      "\n",
      "8.110020645619104\n",
      "Probability of coming from C_1 = 3.796422321243816e-08\n",
      "Probability of coming from C_2 = 0.9999999620357769\n",
      "\n"
     ]
    }
   ],
   "source": [
    "from scipy.stats import norm\n",
    "\n",
    "prob_c0_x = [] # P(C_0 | X_i)\n",
    "prob_c1_x = [] # P(C_1 | X_i)\n",
    "prob_x = [] # P(X_i)\n",
    "\n",
    "k = 2\n",
    "\n",
    "for p in data:\n",
    "    print(\"point = \", p)\n",
    "    pdf_i = []\n",
    "\n",
    "    for j in range(k):\n",
    "        # P(X_i | C_j)\n",
    "        pdf_i.append(norm.pdf(p, mean[j], var[j]))\n",
    "        print(\"probability of observing that point if it came from cluster \" + str(j) + \" = \", round(pdf_i[j],5))\n",
    "        # P(C_j) already computed\n",
    "        prob_c[j]\n",
    "\n",
    "    # P(X_i) = P(C_0)P(X_i | C_0) + P(C_1)P(X_i | C_1)\n",
    "    prob_x = prob_c[0] * pdf_i[0] + prob_c[1] * pdf_i[1]\n",
    "    # print('prob_x',prob_x)\n",
    "    # P(C_j | X_i) = P(X_i | C_j)P(C_j) / P(X_i)\n",
    "    prob_c0_x.append( (prob_c[0] * pdf_i[0])/prob_x )\n",
    "    prob_c1_x.append( (prob_c[1] * pdf_i[1])/prob_x )\n",
    "    # print('prob_c0_x',prob_c0_x)\n",
    "\n",
    "\n",
    "probs = zip(data, prob_c0_x, prob_c1_x)\n",
    "for p in probs:\n",
    "    print(p[0])\n",
    "    print(\"Probability of coming from C_1 = \" + str(round(p[1],100)))\n",
    "    print(\"Probability of coming from C_2 = \" + str(round(p[2],100)))\n",
    "    print()\n"
   ]
  },
  {
   "cell_type": "markdown",
   "metadata": {},
   "source": [
    "f) Having computed `P(C_j | X_i)`, update the estimates of `mean_j`, `var_j`, and `P(C_j)`. How different are these values from the original ones you got from K means? briefly comment."
   ]
  },
  {
   "cell_type": "code",
   "execution_count": 12,
   "metadata": {},
   "outputs": [
    {
     "name": "stdout",
     "output_type": "stream",
     "text": [
      "P(C_1) = 0.2951435187596801,  P(C_2) = 0.7048564812403199\n",
      "mean_1 = 4.422726233864407,  mean_2 = 8.032199461399223\n",
      "var_1 = 0.646651206233956,  var_2 = 0.9896019237425809\n"
     ]
    }
   ],
   "source": [
    "prob_c = [sum(prob_c0_x)/ len(prob_c0_x), sum(prob_c1_x)/ len(prob_c1_x) ]\n",
    "mean = [sum([x[0] * x[1] for x in zip(prob_c0_x, data)]) / sum(prob_c0_x), sum([x[0] * x[1] for x in zip(prob_c1_x, data)]) / sum(prob_c1_x) ]\n",
    "var = [ sum([x[0] * (x[1]-mean[0])**2 for x in zip(prob_c0_x, data)]) / sum(prob_c0_x) , sum([x[0] * (x[1]-mean[1])**2 for x in zip(prob_c1_x, data)]) / sum(prob_c1_x)]\n",
    "\n",
    "print(\"P(C_1) = \" + str(prob_c[0]) + \",  P(C_2) = \" + str(prob_c[1]))\n",
    "print(\"mean_1 = \" + str(mean[0]) + \",  mean_2 = \" + str(mean[1]))\n",
    "print(\"var_1 = \" + str(var[0]) + \",  var_2 = \" + str(var[1]))\n"
   ]
  },
  {
   "cell_type": "markdown",
   "metadata": {},
   "source": [
    "These values are a bit different, not a lot. There is around a 1% differencer in probabilities which gets to a 5% difference in variance. /"
   ]
  },
  {
   "cell_type": "markdown",
   "metadata": {},
   "source": [
    "g) Update `P(C_j | X_i)`. Comment on any differences or lack thereof you observe."
   ]
  },
  {
   "cell_type": "code",
   "execution_count": 13,
   "metadata": {},
   "outputs": [
    {
     "name": "stdout",
     "output_type": "stream",
     "text": [
      "point =  8.232308563450378\n",
      "probability of observing that point if it came from cluster 0 =  0.0\n",
      "probability of observing that point if it came from cluster 1 =  0.39498\n",
      "point =  5.316846218056069\n",
      "probability of observing that point if it came from cluster 0 =  0.23719\n",
      "probability of observing that point if it came from cluster 1 =  0.00934\n",
      "point =  7.966886901953358\n",
      "probability of observing that point if it came from cluster 0 =  0.0\n",
      "probability of observing that point if it came from cluster 1 =  0.40226\n",
      "point =  7.166878432262782\n",
      "probability of observing that point if it came from cluster 0 =  8e-05\n",
      "probability of observing that point if it came from cluster 1 =  0.27505\n",
      "point =  6.56012980221487\n",
      "probability of observing that point if it came from cluster 0 =  0.00262\n",
      "probability of observing that point if it came from cluster 1 =  0.13334\n",
      "point =  9.882084294106875\n",
      "probability of observing that point if it came from cluster 0 =  0.0\n",
      "probability of observing that point if it came from cluster 1 =  0.07025\n",
      "point =  3.3824136111571232\n",
      "probability of observing that point if it came from cluster 0 =  0.16913\n",
      "probability of observing that point if it came from cluster 1 =  1e-05\n",
      "point =  4.600195058953441\n",
      "probability of observing that point if it came from cluster 0 =  0.59413\n",
      "probability of observing that point if it came from cluster 1 =  0.00099\n",
      "point =  8.451104793783365\n",
      "probability of observing that point if it came from cluster 0 =  0.0\n",
      "probability of observing that point if it came from cluster 1 =  0.36859\n",
      "point =  8.110020645619104\n",
      "probability of observing that point if it came from cluster 0 =  0.0\n",
      "probability of observing that point if it came from cluster 1 =  0.40189\n",
      "8.232308563450378\n",
      "Probability of coming from C_1 = 1.9015891911038563e-08\n",
      "Probability of coming from C_2 = 0.9999999809841082\n",
      "\n",
      "5.316846218056069\n",
      "Probability of coming from C_1 = 0.914000859739191\n",
      "Probability of coming from C_2 = 0.08599914026080908\n",
      "\n",
      "7.966886901953358\n",
      "Probability of coming from C_1 = 1.9264846378170548e-07\n",
      "Probability of coming from C_2 = 0.9999998073515362\n",
      "\n",
      "7.166878432262782\n",
      "Probability of coming from C_1 = 0.0001154035734163379\n",
      "Probability of coming from C_2 = 0.9998845964265837\n",
      "\n",
      "6.56012980221487\n",
      "Probability of coming from C_1 = 0.008152076654976503\n",
      "Probability of coming from C_2 = 0.9918479233450236\n",
      "\n",
      "9.882084294106875\n",
      "Probability of coming from C_1 = 1.2250120358095302e-15\n",
      "Probability of coming from C_2 = 0.9999999999999989\n",
      "\n",
      "3.3824136111571232\n",
      "Probability of coming from C_1 = 0.9999085398253545\n",
      "Probability of coming from C_2 = 9.146017464537173e-05\n",
      "\n",
      "4.600195058953441\n",
      "Probability of coming from C_1 = 0.9960537809760317\n",
      "Probability of coming from C_2 = 0.003946219023968145\n",
      "\n",
      "8.451104793783365\n",
      "Probability of coming from C_1 = 2.6218059828230086e-09\n",
      "Probability of coming from C_2 = 0.9999999973781941\n",
      "\n",
      "8.110020645619104\n",
      "Probability of coming from C_1 = 5.593175073107083e-08\n",
      "Probability of coming from C_2 = 0.9999999440682492\n",
      "\n"
     ]
    }
   ],
   "source": [
    "prob_c0_x = [] # P(C_0 | X_i)\n",
    "prob_c1_x = [] # P(C_1 | X_i)\n",
    "prob_x = [] # P(X_i)\n",
    "\n",
    "k = 2\n",
    "\n",
    "for p in data:\n",
    "    print(\"point = \", p)\n",
    "    pdf_i = []\n",
    "\n",
    "    for j in range(k):\n",
    "        # P(X_i | C_j)\n",
    "        pdf_i.append(norm.pdf(p, mean[j], var[j]))\n",
    "        print(\"probability of observing that point if it came from cluster \" + str(j) + \" = \", round(pdf_i[j],5))\n",
    "        # P(C_j) already computed\n",
    "        prob_c[j]\n",
    "\n",
    "    # P(X_i) = P(C_0)P(X_i | C_0) + P(C_1)P(X_i | C_1)\n",
    "    prob_x = prob_c[0] * pdf_i[0] + prob_c[1] * pdf_i[1]\n",
    "    # print('prob_x',prob_x)\n",
    "    # P(C_j | X_i) = P(X_i | C_j)P(C_j) / P(X_i)\n",
    "    prob_c0_x.append( (prob_c[0] * pdf_i[0])/prob_x )\n",
    "    prob_c1_x.append( (prob_c[1] * pdf_i[1])/prob_x )\n",
    "    # print('prob_c0_x',prob_c0_x)\n",
    "\n",
    "\n",
    "probs = zip(data, prob_c0_x, prob_c1_x)\n",
    "for p in probs:\n",
    "    print(p[0])\n",
    "    print(\"Probability of coming from C_1 = \" + str(round(p[1],100)))\n",
    "    print(\"Probability of coming from C_2 = \" + str(round(p[2],100)))\n",
    "    print()"
   ]
  },
  {
   "cell_type": "markdown",
   "metadata": {},
   "source": [
    "All probabilities have been updated "
   ]
  },
  {
   "cell_type": "markdown",
   "metadata": {},
   "source": [
    "h) Use `P(C_j | X_i)` to create a hard assignment - label each point as belonging to a specific cluster (0 or 1)"
   ]
  },
  {
   "cell_type": "code",
   "execution_count": 14,
   "metadata": {},
   "outputs": [
    {
     "name": "stdout",
     "output_type": "stream",
     "text": [
      "point =  8.232308563450378\n",
      "probability of observing that point if it came from cluster 0 =  0.0\n",
      "probability of observing that point if it came from cluster 1 =  0.39498\n",
      "point =  5.316846218056069\n",
      "probability of observing that point if it came from cluster 0 =  0.23719\n",
      "probability of observing that point if it came from cluster 1 =  0.00934\n",
      "point =  7.966886901953358\n",
      "probability of observing that point if it came from cluster 0 =  0.0\n",
      "probability of observing that point if it came from cluster 1 =  0.40226\n",
      "point =  7.166878432262782\n",
      "probability of observing that point if it came from cluster 0 =  8e-05\n",
      "probability of observing that point if it came from cluster 1 =  0.27505\n",
      "point =  6.56012980221487\n",
      "probability of observing that point if it came from cluster 0 =  0.00262\n",
      "probability of observing that point if it came from cluster 1 =  0.13334\n",
      "point =  9.882084294106875\n",
      "probability of observing that point if it came from cluster 0 =  0.0\n",
      "probability of observing that point if it came from cluster 1 =  0.07025\n",
      "point =  3.3824136111571232\n",
      "probability of observing that point if it came from cluster 0 =  0.16913\n",
      "probability of observing that point if it came from cluster 1 =  1e-05\n",
      "point =  4.600195058953441\n",
      "probability of observing that point if it came from cluster 0 =  0.59413\n",
      "probability of observing that point if it came from cluster 1 =  0.00099\n",
      "point =  8.451104793783365\n",
      "probability of observing that point if it came from cluster 0 =  0.0\n",
      "probability of observing that point if it came from cluster 1 =  0.36859\n",
      "point =  8.110020645619104\n",
      "probability of observing that point if it came from cluster 0 =  0.0\n",
      "probability of observing that point if it came from cluster 1 =  0.40189\n",
      "8.232308563450378\n",
      "Probability of coming from C_1 = 0.0\n",
      "Probability of coming from C_2 = 1.0\n",
      "\n",
      "5.316846218056069\n",
      "Probability of coming from C_1 = 0.9\n",
      "Probability of coming from C_2 = 0.1\n",
      "\n",
      "7.966886901953358\n",
      "Probability of coming from C_1 = 0.0\n",
      "Probability of coming from C_2 = 1.0\n",
      "\n",
      "7.166878432262782\n",
      "Probability of coming from C_1 = 0.0\n",
      "Probability of coming from C_2 = 1.0\n",
      "\n",
      "6.56012980221487\n",
      "Probability of coming from C_1 = 0.0\n",
      "Probability of coming from C_2 = 1.0\n",
      "\n",
      "9.882084294106875\n",
      "Probability of coming from C_1 = 0.0\n",
      "Probability of coming from C_2 = 1.0\n",
      "\n",
      "3.3824136111571232\n",
      "Probability of coming from C_1 = 1.0\n",
      "Probability of coming from C_2 = 0.0\n",
      "\n",
      "4.600195058953441\n",
      "Probability of coming from C_1 = 1.0\n",
      "Probability of coming from C_2 = 0.0\n",
      "\n",
      "8.451104793783365\n",
      "Probability of coming from C_1 = 0.0\n",
      "Probability of coming from C_2 = 1.0\n",
      "\n",
      "8.110020645619104\n",
      "Probability of coming from C_1 = 0.0\n",
      "Probability of coming from C_2 = 1.0\n",
      "\n"
     ]
    }
   ],
   "source": [
    "prob_c0_x = [] # P(C_0 | X_i)\n",
    "prob_c1_x = [] # P(C_1 | X_i)\n",
    "prob_x = [] # P(X_i)\n",
    "\n",
    "k = 2\n",
    "\n",
    "for p in data:\n",
    "    print(\"point = \", p)\n",
    "    pdf_i = []\n",
    "\n",
    "    for j in range(k):\n",
    "        # P(X_i | C_j)\n",
    "        pdf_i.append(norm.pdf(p, mean[j], var[j]))\n",
    "        print(\"probability of observing that point if it came from cluster \" + str(j) + \" = \", round(pdf_i[j],5))\n",
    "        # P(C_j) already computed\n",
    "        prob_c[j]\n",
    "\n",
    "    # P(X_i) = P(C_0)P(X_i | C_0) + P(C_1)P(X_i | C_1)\n",
    "    prob_x = prob_c[0] * pdf_i[0] + prob_c[1] * pdf_i[1]\n",
    "    # print('prob_x',prob_x)\n",
    "    # P(C_j | X_i) = P(X_i | C_j)P(C_j) / P(X_i)\n",
    "    prob_c0_x.append( (prob_c[0] * pdf_i[0])/prob_x )\n",
    "    prob_c1_x.append( (prob_c[1] * pdf_i[1])/prob_x )\n",
    "    # print('prob_c0_x',prob_c0_x)\n",
    "\n",
    "\n",
    "probs = zip(data, prob_c0_x, prob_c1_x)\n",
    "for p in probs:\n",
    "    print(p[0])\n",
    "    print(\"Probability of coming from C_1 = \" + str(round(p[1],1)))\n",
    "    print(\"Probability of coming from C_2 = \" + str(round(p[2],1)))\n",
    "    print()"
   ]
  },
  {
   "cell_type": "markdown",
   "metadata": {},
   "source": [
    "Creating a hard assignment by rounding to 1 decimal place. "
   ]
  },
  {
   "cell_type": "markdown",
   "metadata": {},
   "source": [
    "### Clustering Aggregation\n",
    "\n",
    "| Point | C | P |\n",
    "|-------|---|---|\n",
    "| A     | 0 | a |\n",
    "| B     | 0 | b |\n",
    "| C     | 2 | b |\n",
    "| D     | 1 | c |\n",
    "| E     | 1 | d |\n",
    "\n",
    "a) Fill in the following table where for each pair of points determine whether C and P agree or disagree on how to cluster that pair."
   ]
  },
  {
   "cell_type": "markdown",
   "metadata": {},
   "source": [
    "| Pair | Disagreement |\n",
    "|------|--------------|\n",
    "| A  B |      Disagree      |\n",
    "| A  C |      Disagree       |\n",
    "| A  D |      Disagree       |\n",
    "| A  E |      Disagree       |\n",
    "| B  C |      Disagree       |\n",
    "| B  D |      Disagree       |\n",
    "| B  E |      Disagree       |\n",
    "| C  D |      Disagree       |\n",
    "| C  E |      Disagree       |\n",
    "| D  E |      Disagree       |\n"
   ]
  },
  {
   "cell_type": "markdown",
   "metadata": {},
   "source": [
    "As datasets become very large, this process can become computationally challenging.\n",
    "\n",
    "b) Given N points, what is the formula for the number of unique pairs of points one can create?"
   ]
  },
  {
   "cell_type": "markdown",
   "metadata": {},
   "source": [
    "nC2 = n!/((n-2)!*2!) = n(n-1)/2"
   ]
  },
  {
   "cell_type": "markdown",
   "metadata": {},
   "source": [
    "Assume that clustering C clusters all points in the same cluster and clustering P clusters points as such:\n",
    "\n",
    "| Point | P |\n",
    "|-------|---|\n",
    "| A     | 0 |\n",
    "| B     | 0 |\n",
    "| C     | 0 |\n",
    "| D     | 1 |\n",
    "| E     | 1 |\n",
    "| F     | 2 |\n",
    "| G     | 2 |\n",
    "| H     | 2 |\n",
    "| I     | 2 |\n",
    "\n",
    "c) What is the maximum number of disagreements there could be for a dataset of this size? (use the formula from b)?"
   ]
  },
  {
   "cell_type": "markdown",
   "metadata": {},
   "source": [
    "9*8/2 = 36 disagreements, though in this case as there can be 6 agreements so 30 disagreemnets b/w C and P "
   ]
  },
  {
   "cell_type": "markdown",
   "metadata": {},
   "source": [
    "d) If we look at cluster 0. There are (3 x 2) / 2 = 3 pairs that agree with C (since all points in C are in the same cluster). For each cluster, determine how many agreements there are. How many total agreements are there? How many disagreements does that mean there are between C and P?"
   ]
  },
  {
   "cell_type": "markdown",
   "metadata": {},
   "source": [
    "Cluster 0 = 3 agreements, Cluster 1 = 1 agreement, Cluster 2 = 6 agreements. Total agreeements can be = 6 since we can only match 1 cluster from P to the all-element cluster in C"
   ]
  },
  {
   "cell_type": "markdown",
   "metadata": {},
   "source": [
    "e) Assuming that filtering the dataset by cluster number is a computationally easy operation, describe an algorithm inspired by the above process that can efficiently compute disagreement distances on large datasets."
   ]
  },
  {
   "cell_type": "markdown",
   "metadata": {},
   "source": [
    "Input:\n",
    "Two clustering results: A, B\n",
    "Dataset: D\n",
    "Output:\n",
    "Disagreement distance: dis_dist\n",
    "Steps:\n",
    "Initialize Counter:\n",
    "Initialize a counter disagreement_count to 0.\n",
    "\n",
    "Iterate through Data Points:\n",
    "For each data point p in D, perform the following sub-steps:\n",
    "\n",
    "a. Identify Clusters:\n",
    "Identify the clusters C_A and C_B to which point p belongs in clustering A and B, respectively.\n",
    "\n",
    "b. Filter Neighboring Points:\n",
    "Retrieve all points P_A in cluster C_A and P_B in cluster C_B.\n",
    "\n",
    "c. Compute Local Disagreement:\n",
    "Compute the local disagreement by checking whether points that are in the same cluster in A are in different clusters in B and vice versa. Specifically:\n",
    "\n",
    "Increment disagreement_count for each pair (p_i, p_j) where p_i ∈ P_A and p_j ∈ P_A but p_i and p_j are not in the same cluster in B.\n",
    "Increment disagreement_count for each pair (p_x, p_y) where p_x ∈ P_B and p_y ∈ P_B but p_x and p_y are not in the same cluster in A.\n",
    "(Note: Avoid double-counting the pairs in different iterations)"
   ]
  },
  {
   "cell_type": "markdown",
   "metadata": {},
   "source": []
  }
 ],
 "metadata": {
  "interpreter": {
   "hash": "76ca05dc3ea24b2e3b98cdb7774adfbb40773424bf5109b477fd793f623715af"
  },
  "kernelspec": {
   "display_name": "Python 3.9.9 64-bit ('env': venv)",
   "language": "python",
   "name": "python3"
  },
  "language_info": {
   "codemirror_mode": {
    "name": "ipython",
    "version": 3
   },
   "file_extension": ".py",
   "mimetype": "text/x-python",
   "name": "python",
   "nbconvert_exporter": "python",
   "pygments_lexer": "ipython3",
   "version": "3.11.5"
  },
  "orig_nbformat": 4
 },
 "nbformat": 4,
 "nbformat_minor": 2
}
