{
 "cells": [
  {
   "cell_type": "markdown",
   "metadata": {},
   "source": [
    "# Viterbi in Log Space\n",
    "\n",
    "This notebook contains code to convert the Viterbi algorithm to\n",
    "log space, which will fix the problem with underflow creating\n",
    "the `Key Error: None` that some of you have seen. \n",
    "\n",
    "Another feature of this patch is that it avoids the creation\n",
    "of arrays for the statistics on starting, transition, and \n",
    "emission probabilities. "
   ]
  },
  {
   "cell_type": "code",
   "execution_count": 3,
   "metadata": {
    "scrolled": false
   },
   "outputs": [],
   "source": [
    "import math\n",
    "import numpy as np\n",
    "from numpy.random import shuffle, seed, choice\n",
    "from tqdm import tqdm\n",
    "from collections import defaultdict\n"
   ]
  },
  {
   "cell_type": "code",
   "execution_count": 4,
   "metadata": {},
   "outputs": [
    {
     "data": {
      "text/plain": [
       "defaultdict(<function __main__.<lambda>()>, {})"
      ]
     },
     "execution_count": 4,
     "metadata": {},
     "output_type": "execute_result"
    }
   ],
   "source": [
    "# Calculate statistics from part of tagged sentences\n",
    "\n",
    "# First, create dictionary of starting frequencies for each tag\n",
    "\n",
    "start_p = defaultdict(int)\n",
    "\n",
    "# etc. to create start_p\n",
    "    \n",
    "# now convert it into log probabilities\n",
    "    \n",
    "start_p_log = defaultdict(lambda: float('-inf'))\n",
    "\n",
    "for tag in start_p:\n",
    "    start_p_log[tag] = np.log( start_p[tag] )\n",
    "                \n",
    "start_p_log"
   ]
  },
  {
   "cell_type": "code",
   "execution_count": 5,
   "metadata": {
    "scrolled": true
   },
   "outputs": [],
   "source": [
    "# First, create nested dictionary of transition frequencies for each tag\n",
    "#  where t2 follows t1\n",
    "\n",
    "trans_p = defaultdict(lambda: defaultdict(int))\n",
    "\n",
    "# etc to create trans_p\n",
    "\n",
    "# now convert it into log probabilities\n",
    "        \n",
    "trans_p_log = defaultdict(lambda: defaultdict(lambda: float('-inf')))\n",
    "\n",
    "for t1 in trans_p:\n",
    "    for t2 in trans_p[t1]:\n",
    "        trans_p_log[t1][t2] = np.log( trans_p[t1][t2] )\n",
    "        "
   ]
  },
  {
   "cell_type": "code",
   "execution_count": 6,
   "metadata": {},
   "outputs": [],
   "source": [
    "# First, create nested dictionary of emission frequencies for each tag:\n",
    "# given tag, how many times does word occur with that tag?\n",
    "\n",
    "emit_p = defaultdict(lambda: defaultdict(int))\n",
    "\n",
    "# etc to create emit_p\n",
    "    \n",
    "# now convert it into log probabilities\n",
    "        \n",
    "emit_p_log = defaultdict(lambda: defaultdict(lambda: float('-inf')))\n",
    "\n",
    "for t in emit_p:\n",
    "    for w in emit_p[t]:\n",
    "        emit_p_log[t][w] = np.log( emit_p[t][w] )\n",
    "\n"
   ]
  },
  {
   "cell_type": "code",
   "execution_count": 7,
   "metadata": {},
   "outputs": [],
   "source": [
    "import numpy as np\n",
    "\n",
    "# Adapted from the Wikipedia article just referenced\n",
    "# Obs_sequence is sequence of words \"observed\"; returns\n",
    "# most likely sequence of states = POS. \n",
    "\n",
    "# start_p, trans_p, emit_p are dictionaries giving probabilities\n",
    "# set logspace to False if these are normal probabilities (not in log space)\n",
    "\n",
    "def viterbi(obs_sequence, obs, states, start_p, trans_p, emit_p,logspace=True):\n",
    "    \n",
    "    V = [{}]\n",
    "    for st in states:\n",
    "        if logspace:\n",
    "            V[0] [st] = {\"prob\": start_p[st] + emit_p[st][obs_sequence[0]], \"prev\": None}\n",
    "        else:\n",
    "            V[0] [st] = {\"prob\": start_p[st] * emit_p[st][obs_sequence[0]], \"prev\": None}\n",
    "        \n",
    "    # Run Viterbi when t > 0\n",
    "    \n",
    "    for t in range(1, len(obs_sequence)):\n",
    "        V.append({})\n",
    "        for st in states:\n",
    "            \n",
    "            if logspace:\n",
    "                max_tr_prob = V[t - 1] [states[0]] [\"prob\"] + trans_p[states[0]] [st]\n",
    "            else:\n",
    "                max_tr_prob = V[t - 1] [states[0]] [\"prob\"] * trans_p[states[0]] [st]\n",
    "                \n",
    "            prev_st_selected = states[0]\n",
    "            \n",
    "            for prev_st in states[1:]:\n",
    "                \n",
    "                if logspace:\n",
    "                    tr_prob = V[t - 1] [prev_st] [\"prob\"] + trans_p[prev_st] [st]\n",
    "                else:\n",
    "                    tr_prob = V[t - 1] [prev_st] [\"prob\"] * trans_p[prev_st] [st]\n",
    "                    \n",
    "                if tr_prob > max_tr_prob:\n",
    "                    max_tr_prob = tr_prob\n",
    "                    prev_st_selected = prev_st\n",
    "\n",
    "            if logspace:\n",
    "                max_prob = max_tr_prob + emit_p[st] [obs_sequence[t]]\n",
    "            else:\n",
    "                max_prob = max_tr_prob * emit_p[st] [obs_sequence[t]]\n",
    "                \n",
    "            V[t] [st] = {\"prob\": max_prob, \"prev\": prev_st_selected}\n",
    "\n",
    "    opt = []\n",
    "    max_prob = float('-inf')\n",
    "    best_st = None\n",
    "\n",
    "    # Get most probable state and its backtrack\n",
    "    for st, data in V[-1].items():\n",
    "        if data[\"prob\"] > max_prob:\n",
    "            max_prob = data[\"prob\"]\n",
    "            best_st = st\n",
    "    opt.append(best_st)\n",
    "    previous = best_st\n",
    "\n",
    "    # Follow the backtrack till the first observation\n",
    "    for t in range(len(V) - 2, -1, -1):\n",
    "        opt.insert(0, V[t + 1] [previous] [\"prev\"])\n",
    "        previous = V[t + 1] [previous] [\"prev\"]\n",
    "\n",
    "    return (opt,max_prob)"
   ]
  },
  {
   "cell_type": "code",
   "execution_count": 8,
   "metadata": {},
   "outputs": [
    {
     "ename": "NameError",
     "evalue": "name 'tagged_sentences' is not defined",
     "output_type": "error",
     "traceback": [
      "\u001b[0;31m---------------------------------------------------------------------------\u001b[0m",
      "\u001b[0;31mNameError\u001b[0m                                 Traceback (most recent call last)",
      "\u001b[1;32m/Users/gauravbindra/Desktop/NLP/hw05/Viterbi.LogSpace.ipynb Cell 7\u001b[0m line \u001b[0;36m3\n\u001b[1;32m      <a href='vscode-notebook-cell:/Users/gauravbindra/Desktop/NLP/hw05/Viterbi.LogSpace.ipynb#W6sZmlsZQ%3D%3D?line=0'>1</a>\u001b[0m \u001b[39m# Try it with normal probabilities\u001b[39;00m\n\u001b[0;32m----> <a href='vscode-notebook-cell:/Users/gauravbindra/Desktop/NLP/hw05/Viterbi.LogSpace.ipynb#W6sZmlsZQ%3D%3D?line=2'>3</a>\u001b[0m sent \u001b[39m=\u001b[39m tagged_sentences[\u001b[39m3\u001b[39m]\n\u001b[1;32m      <a href='vscode-notebook-cell:/Users/gauravbindra/Desktop/NLP/hw05/Viterbi.LogSpace.ipynb#W6sZmlsZQ%3D%3D?line=3'>4</a>\u001b[0m (s,t) \u001b[39m=\u001b[39m \u001b[39mlist\u001b[39m(\u001b[39mzip\u001b[39m(\u001b[39m*\u001b[39msent))\n\u001b[1;32m      <a href='vscode-notebook-cell:/Users/gauravbindra/Desktop/NLP/hw05/Viterbi.LogSpace.ipynb#W6sZmlsZQ%3D%3D?line=4'>5</a>\u001b[0m (t_hat,p) \u001b[39m=\u001b[39m viterbi(s, np\u001b[39m.\u001b[39marray(all_words), np\u001b[39m.\u001b[39marray(all_tags),start_p,trans_p,emit_p,logspace\u001b[39m=\u001b[39m\u001b[39mFalse\u001b[39;00m)\n",
      "\u001b[0;31mNameError\u001b[0m: name 'tagged_sentences' is not defined"
     ]
    }
   ],
   "source": [
    "# Try it with normal probabilities\n",
    "\n",
    "sent = tagged_sentences[3]\n",
    "(s,t) = list(zip(*sent))\n",
    "(t_hat,p) = viterbi(s, np.array(all_words), np.array(all_tags),start_p,trans_p,emit_p,logspace=False)\n",
    "\n",
    "for k in range(len(s)):\n",
    "    print(f'{s[k]:20}\\t{t[k]:10}\\t{t_hat[k]:10}')"
   ]
  },
  {
   "cell_type": "code",
   "execution_count": 14,
   "metadata": {
    "scrolled": true
   },
   "outputs": [
    {
     "name": "stdout",
     "output_type": "stream",
     "text": [
      "She                 \tPRON      \tPRON      \n",
      "said                \tVERB      \tVERB      \n",
      ",                   \t.         \t.         \n",
      "``                  \t.         \t.         \n",
      "I                   \tPRON      \tPRON      \n",
      "guess               \tVERB      \tVERB      \n",
      "the                 \tDET       \tDET       \n",
      "Lord                \tNOUN      \tNOUN      \n",
      "looks               \tVERB      \tVERB      \n",
      "out                 \tPRT       \tPRT       \n",
      "for                 \tADP       \tADP       \n",
      "fools               \tNOUN      \tNOUN      \n",
      ",                   \t.         \t.         \n",
      "drunkards           \tNOUN      \tNOUN      \n",
      ",                   \t.         \t.         \n",
      "and                 \tCONJ      \tCONJ      \n",
      "innocents           \tNOUN      \tNOUN      \n",
      "''                  \t.         \t.         \n",
      ".                   \t.         \t.         \n"
     ]
    }
   ],
   "source": [
    "# try it with log probabilities\n",
    "\n",
    "sent = tagged_sentences[3]\n",
    "(s,t) = list(zip(*sent))\n",
    "(t_hat,p) = viterbi(s, np.array(all_words), np.array(all_tags),start_p_log,trans_p_log,emit_p_log)\n",
    "\n",
    "for k in range(len(s)):\n",
    "    print(f'{s[k]:20}\\t{t[k]:10}\\t{t_hat[k]:10}')"
   ]
  }
 ],
 "metadata": {
  "kernelspec": {
   "display_name": "Python 3 (ipykernel)",
   "language": "python",
   "name": "python3"
  },
  "language_info": {
   "codemirror_mode": {
    "name": "ipython",
    "version": 3
   },
   "file_extension": ".py",
   "mimetype": "text/x-python",
   "name": "python",
   "nbconvert_exporter": "python",
   "pygments_lexer": "ipython3",
   "version": "3.11.6"
  }
 },
 "nbformat": 4,
 "nbformat_minor": 4
}
