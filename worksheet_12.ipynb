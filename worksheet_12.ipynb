{
 "cells": [
  {
   "attachments": {},
   "cell_type": "markdown",
   "metadata": {},
   "source": [
    "# Worksheet 12\n",
    "\n",
    "Name:  Gauravdeep Singh Bindra\n",
    "UID: U23346660\n",
    "\n",
    "### Topics\n",
    "\n",
    "- Introduction to Classification\n",
    "- K Nearest Neighbors\n",
    "\n",
    "### Introduction to Classification\n",
    "\n",
    "a) For the following examples, say whether they are or aren't an example of classification.\n",
    "\n",
    "1. Predicting whether a student will be offered a job after graduating given their GPA. \n",
    "2. Predicting how long it will take (in number of months) for a student to be offered a job after graduating, given their GPA.\n",
    "3. Predicting the number of stars (1-5) a person will assign in their yelp review given the description they wrote in the review.\n",
    "4. Predicting the number of births occuring in a specified minute."
   ]
  },
  {
   "cell_type": "markdown",
   "metadata": {},
   "source": [
    "1. YES \n",
    "2. NO \n",
    "3. YES \n",
    "4. NO "
   ]
  },
  {
   "cell_type": "markdown",
   "metadata": {},
   "source": [
    "b) Given a dataset, how would you set things up such that you can both learn a model and get an idea of how this model might perform on data it has never seen?"
   ]
  },
  {
   "cell_type": "markdown",
   "metadata": {},
   "source": [
    "Create a graph of the number of errors versus the amount of epochs the model has been trained on. "
   ]
  },
  {
   "cell_type": "markdown",
   "metadata": {},
   "source": [
    "c) In your own words, briefly explain:\n",
    "\n",
    "- underfitting\n",
    "- overfitting\n",
    "\n",
    "and what signs to look out for for each."
   ]
  },
  {
   "cell_type": "markdown",
   "metadata": {},
   "source": [
    "Underfitting - The model is too simple and makes too many mistakes on the training data \n",
    "Overfitting - The model has learned the training data too much and as a result become more complex than necessary for the given data. It has in a way memorised data and performs really really well on the training data but doesnt do well on the testing data. "
   ]
  },
  {
   "cell_type": "markdown",
   "metadata": {},
   "source": [
    "### K Nearest Neighbors"
   ]
  },
  {
   "cell_type": "code",
   "execution_count": 219,
   "metadata": {},
   "outputs": [],
   "source": [
    "import numpy as np\n",
    "import matplotlib.pyplot as plt\n",
    "\n",
    "data = {\n",
    "    \"Attribute A\" : [3.5, 0, 1, 2.5, 2, 1.5, 2, 3.5, 1, 3, 2, 2, 2.5, 0.5, 0., 10],\n",
    "    \"Attribute B\" : [4, 1.5, 2, 1, 3.5, 2.5, 1, 0, 3, 1.5, 4, 2, 2.5, 0.5, 2.5, 10],\n",
    "    \"Class\" : [1, 0, 1, 0, 1, 0, 1, 0, 1, 0, 1, 0, 0, 1, 1, 0],\n",
    "}"
   ]
  },
  {
   "cell_type": "markdown",
   "metadata": {},
   "source": [
    "a) Plot the data in a 2D plot coloring each scatter point one of two colors depending on its corresponding class."
   ]
  },
  {
   "cell_type": "code",
   "execution_count": 220,
   "metadata": {},
   "outputs": [
    {
     "data": {
      "image/png": "[encoded data removed]",
      "text/plain": [
       "<Figure size 640x480 with 1 Axes>"
      ]
     },
     "metadata": {},
     "output_type": "display_data"
    }
   ],
   "source": [
    "colors = np.array([x for x in 'bgrcmyk'])\n",
    "plt.scatter(data[\"Attribute A\"], data[\"Attribute B\"], color=colors[data[\"Class\"]].tolist())\n",
    "\n",
    "# Add labels and title\n",
    "plt.xlabel(\"Attribute A\")\n",
    "plt.ylabel(\"Attribute B\")\n",
    "plt.title(\"2D Scatter Plot with Class Labels\")\n",
    "\n",
    "plt.show()"
   ]
  },
  {
   "cell_type": "markdown",
   "metadata": {},
   "source": [
    "Outliers are points that lie far from the rest of the data. They are not necessarily invalid points however. Imagine sampling from a Normal Distribution with mean 10 and variance 1. You would expect most points you sample to be in the range [7, 13] but it's entirely possible to see 20 which, on average, should be very far from the rest of the points in the sample (unless we're VERY (un)lucky). These outliers can inhibit our ability to learn general patterns in the data since they are not representative of likely outcomes. They can still be useful in of themselves and can be analyzed in great depth depending on the problem at hand.\n",
    "\n",
    "b) Are there any points in the dataset that could be outliers? If so, please remove them from the dataset."
   ]
  },
  {
   "cell_type": "markdown",
   "metadata": {},
   "source": []
  },
  {
   "cell_type": "code",
   "execution_count": 221,
   "metadata": {},
   "outputs": [],
   "source": [
    "\n",
    "# from scipy import stats\n",
    "# import numpy as np\n",
    "# import pandas as pd\n",
    "\n",
    "# # Convert data to pandas DataFrame\n",
    "# df = pd.DataFrame(data)\n",
    "\n",
    "# # Calculate the z-scores of each column\n",
    "# z_scores = np.abs(stats.zscore(df[['Attribute A', 'Attribute B']]))\n",
    "\n",
    "# # Consider a data point as an outlier if the z-score is above a threshold (commonly 2.0 or 3.0)\n",
    "# threshold = 3\n",
    "# outliers = np.where(z_scores > threshold)\n",
    "# df_no_outliers= df[(z_scores < threshold).all(axis=1)]\n"
   ]
  },
  {
   "cell_type": "code",
   "execution_count": 222,
   "metadata": {},
   "outputs": [],
   "source": [
    "# colors = np.array([x for x in 'bgrcmyk'])\n",
    "# plt.scatter(df_no_outliers[\"Attribute A\"], df_no_outliers[\"Attribute B\"], color=colors[df_no_outliers[\"Class\"]].tolist())\n",
    "# plt.show()"
   ]
  },
  {
   "cell_type": "code",
   "execution_count": 223,
   "metadata": {},
   "outputs": [],
   "source": [
    "data = {\n",
    "    \"Attribute A\": [x for i, x in enumerate(data[\"Attribute A\"]) if (x, data[\"Attribute B\"][i]) != (10, 10)],\n",
    "    \"Attribute B\": [x for i, x in enumerate(data[\"Attribute B\"]) if (data[\"Attribute A\"][i], x) != (10, 10)],\n",
    "    \"Class\": [x for i, x in enumerate(data[\"Class\"]) if (data[\"Attribute A\"][i], data[\"Attribute B\"][i]) != (10, 10)],\n",
    "}"
   ]
  },
  {
   "cell_type": "markdown",
   "metadata": {},
   "source": [
    "Noise points are points that could be considered invalid under the general trend in the data. These could be the result of actual errors in the data or randomness that we could attribute to oversimplification (for example if missing some information / feature about each point). Considering noise points in our model can often lead to overfitting.\n",
    "\n",
    "c) Are there any points in the dataset that could be noise points?"
   ]
  },
  {
   "cell_type": "markdown",
   "metadata": {},
   "source": [
    "Yes, point like 0,1.5 can be considered as a noise point"
   ]
  },
  {
   "cell_type": "markdown",
   "metadata": {},
   "source": [
    "For the following point\n",
    "\n",
    "|  A  |  B  |\n",
    "|-----|-----|\n",
    "| 0.5 |  1  |\n",
    "\n",
    "d) Plot it in a different color along with the rest of the points in the dataset."
   ]
  },
  {
   "cell_type": "code",
   "execution_count": 224,
   "metadata": {},
   "outputs": [
    {
     "data": {
      "image/png": "[encoded data removed]",
      "text/plain": [
       "<Figure size 640x480 with 1 Axes>"
      ]
     },
     "metadata": {},
     "output_type": "display_data"
    }
   ],
   "source": [
    "import matplotlib.pyplot as plt\n",
    "import numpy as np\n",
    "\n",
    "\n",
    "\n",
    "# Create the scatter plot for existing data points\n",
    "plt.scatter(data[\"Attribute A\"], data[\"Attribute B\"], c=colors[data[\"Class\"]].tolist(), label='Existing Points')\n",
    "\n",
    "# Add the new point in a different color, let's say 'red'\n",
    "new_point = (0.5, 1)\n",
    "plt.scatter(new_point[0], new_point[1], c='r', marker='x', label='New Point')\n",
    "\n",
    "# Add labels and title\n",
    "plt.xlabel(\"Attribute A\")\n",
    "plt.ylabel(\"Attribute B\")\n",
    "plt.title(\"2D Scatter Plot with Class Labels and New Point\")\n",
    "plt.legend()\n",
    "\n",
    "# Show the plot\n",
    "plt.show()"
   ]
  },
  {
   "cell_type": "code",
   "execution_count": 225,
   "metadata": {},
   "outputs": [],
   "source": [
    "# colors = np.array([x for x in 'bgrcmyk'])\n",
    "# plt.scatter(df[\"Attribute A\"], df[\"Attribute B\"], color=colors[df[\"Class\"]].tolist())\n",
    "# plt.show()"
   ]
  },
  {
   "cell_type": "code",
   "execution_count": 226,
   "metadata": {},
   "outputs": [],
   "source": [
    "# df_without_class = df.drop(columns=['Class'])"
   ]
  },
  {
   "cell_type": "markdown",
   "metadata": {},
   "source": [
    "e) Write a function to compute the Euclidean distance from it to all points in the dataset and pick the 3 closest points to it. In a scatter plot, draw a circle centered around the point with radius the distance of the farthest of the three points."
   ]
  },
  {
   "cell_type": "code",
   "execution_count": 227,
   "metadata": {},
   "outputs": [
    {
     "name": "stdout",
     "output_type": "stream",
     "text": [
      "[(0.5, (0.5, 0.5)), (0.7071067811865476, (0, 1.5)), (1.118033988749895, (1, 2))]\n"
     ]
    },
    {
     "data": {
      "image/png": "[encoded data removed]",
      "text/plain": [
       "<Figure size 640x480 with 1 Axes>"
      ]
     },
     "metadata": {},
     "output_type": "display_data"
    }
   ],
   "source": [
    "def euclidean_distance(point1,point2):\n",
    "    return np.sqrt((point1[0]-point2[0])**2 + (point1[1]-point2[1])**2)\n",
    "\n",
    "def n_closest_to(example,n,data):\n",
    "    distances = []\n",
    "\n",
    "    for i in range(len(data['Attribute A'])):\n",
    "        point = (data['Attribute A'][i], data['Attribute B'][i])\n",
    "        distance = euclidean_distance(example,point)\n",
    "        distances.append((distance,point))\n",
    "\n",
    "    distances.sort(key = lambda x:x[0])\n",
    "    return distances[:n]\n",
    "\n",
    "location = (0.5, 1)\n",
    "\n",
    "closest_points = n_closest_to(location, 3, data)\n",
    "print(closest_points)\n",
    "\n",
    "radius = closest_points[-1][0]\n",
    "\n",
    "_, axes = plt.subplots()\n",
    "axes.scatter(data[\"Attribute A\"], data[\"Attribute B\"], c=colors[data[\"Class\"]].tolist())\n",
    "axes.scatter(location[0], location[1], c='r', marker='x')\n",
    "cir = plt.Circle(location, radius, fill = False, alpha=0.8)\n",
    "axes.add_patch(cir)\n",
    "axes.set_aspect('equal') # necessary so that the circle is not oval\n",
    "plt.show()\n",
    "\n"
   ]
  },
  {
   "cell_type": "markdown",
   "metadata": {},
   "source": [
    "f) Write a function that takes the three points returned by your function in e) and returns the class that the majority of points have (break ties with a deterministic default class of your choosing). Print the class assigned to this new point by your function."
   ]
  },
  {
   "cell_type": "code",
   "execution_count": 236,
   "metadata": {},
   "outputs": [
    {
     "data": {
      "text/plain": [
       "1"
      ]
     },
     "execution_count": 236,
     "metadata": {},
     "output_type": "execute_result"
    }
   ],
   "source": [
    "def majority(points,data):\n",
    "    class_counts = [0,0]\n",
    "    # print(points)\n",
    "\n",
    "    for distance, point in points:\n",
    "        for ind, (x, y) in enumerate(zip(data[\"Attribute A\"], data[\"Attribute B\"])):\n",
    "            # print(point)\n",
    "            if point == (x,y):\n",
    "     \n",
    "            # id = data['Attribute A'].index(point[0])\n",
    "                point_class = data['Class'][ind]\n",
    "                # print(point,point_class,999)\n",
    "\n",
    "                if point_class==0:\n",
    "                    class_counts[0]+=1\n",
    "                else:\n",
    "                    class_counts[1]+=1\n",
    "    \n",
    "    if class_counts[0] > class_counts[1]:\n",
    "        return 0\n",
    "    return 1\n",
    "        \n",
    "        \n",
    "    # print(points,max(class_counts.items(), key = lambda x:x[1], default = (0,0))[0])\n",
    "    \n",
    "\n",
    "    # return max(class_counts.items(), key = lambda x:x[1], default = (0,0))[0]\n",
    "\n",
    "\n",
    "\n",
    "\n",
    "    # return points['Class'].mode()[0]\n",
    "\n",
    "majority(closest_points,data)"
   ]
  },
  {
   "cell_type": "markdown",
   "metadata": {},
   "source": [
    "g) Re-using the functions from e) and f), you should be able to assign a class to any new point. In this exercise we will implement Leave-one-out cross validiation in order to evaluate the performance of our model.\n",
    "\n",
    "For each point in the dataset:\n",
    "\n",
    "- consider that point as your test set and the rest of the data as your training set\n",
    "- classify that point using the training set\n",
    "- keep track of whether you were correct with the use of a counter\n",
    "\n",
    "Once you've iterated through the entire dataset, divide the counter by the number of points in the dataset to report an overall testing accuracy."
   ]
  },
  {
   "cell_type": "code",
   "execution_count": 238,
   "metadata": {},
   "outputs": [
    {
     "name": "stdout",
     "output_type": "stream",
     "text": [
      "Overall accuracy = 0.73\n"
     ]
    }
   ],
   "source": [
    "count = 0\n",
    "for i in range(len(data['Attribute A'])):\n",
    "\n",
    "    example = (data['Attribute A'][i],data['Attribute B'][i])\n",
    "    actual_class = data[\"Class\"][i]\n",
    "\n",
    "    training_set = {\n",
    "        \"Attribute A\": [x for j, x in enumerate(data[\"Attribute A\"]) if j != i],\n",
    "        \"Attribute B\": [x for j, x in enumerate(data[\"Attribute B\"]) if j != i],\n",
    "        \"Class\": [x for j, x in enumerate(data[\"Class\"]) if j != i],\n",
    "    }\n",
    "\n",
    "    closest_points = n_closest_to(example, 3, training_set)\n",
    "    # print(closest_points)\n",
    "    prediction = majority(closest_points, training_set)\n",
    "    # print(example,prediction)\n",
    "    # print(training_set)\n",
    "\n",
    "    \n",
    "    if prediction == actual_class:\n",
    "        count += 1\n",
    "\n",
    "overall_accuracy = count / len(data[\"Attribute A\"])\n",
    "print(f\"Overall accuracy = {overall_accuracy:.2f}\") "
   ]
  },
  {
   "cell_type": "code",
   "execution_count": 166,
   "metadata": {},
   "outputs": [
    {
     "data": {
      "text/plain": [
       "15"
      ]
     },
     "execution_count": 166,
     "metadata": {},
     "output_type": "execute_result"
    }
   ],
   "source": [
    "len(data['Attribute A'])"
   ]
  },
  {
   "cell_type": "code",
   "execution_count": 167,
   "metadata": {},
   "outputs": [
    {
     "data": {
      "text/plain": [
       "10.95"
      ]
     },
     "execution_count": 167,
     "metadata": {},
     "output_type": "execute_result"
    }
   ],
   "source": [
    ".73*15"
   ]
  },
  {
   "cell_type": "code",
   "execution_count": null,
   "metadata": {},
   "outputs": [],
   "source": []
  }
 ],
 "metadata": {
  "interpreter": {
   "hash": "76ca05dc3ea24b2e3b98cdb7774adfbb40773424bf5109b477fd793f623715af"
  },
  "kernelspec": {
   "display_name": "Python 3.9.9 64-bit ('env': venv)",
   "language": "python",
   "name": "python3"
  },
  "language_info": {
   "codemirror_mode": {
    "name": "ipython",
    "version": 3
   },
   "file_extension": ".py",
   "mimetype": "text/x-python",
   "name": "python",
   "nbconvert_exporter": "python",
   "pygments_lexer": "ipython3",
   "version": "3.11.6"
  },
  "orig_nbformat": 4
 },
 "nbformat": 4,
 "nbformat_minor": 2
}
