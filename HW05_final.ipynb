{
 "cells": [
  {
   "cell_type": "markdown",
   "metadata": {},
   "source": [
    "# CS 505 Homework 05:  Recurrent Neural Networks\n",
    "\n",
    "#### Due Monday  11/27 at midnight (1 minute after 11:59 pm) in Gradescope (with a grace period of 6 hours)\n",
    "#### You may submit the homework up to 24 hours late (with the same grace period) for a penalty of 10%. \n",
    "\n",
    "All homeworks will be scored with a maximum of 100 points; point values are given\n",
    "for individual problems, and if parts of problems do not have point values given, they\n",
    "will be counted equally toward the total for that problem. \n",
    "\n",
    "Note: This homework is a bit different from the first four in this class in that in some parts we are specified **what** you need to do for your solutions, but much less of the **how** you write the details of the code. There are three reasons for this:\n",
    "\n",
    "- In a graduate level CS class, after four homeworks and two months of lectures, you should be well-equipped to work out the coding issues for yourself, and in general, going forward, this is how you will solve the kinds of problems presented here; \n",
    "- Suggestions for resources (mostly ML blogs) will be suggested; there are many resources, but these are from bloggers that I trust and have used in the past;\n",
    "- I am expecting that you will make good use of chatGPT for help with the details of syntax and low-level organization of your code. There is often nothing very stimulating or informative about precisely what is the syntax needed for a particular kind of layer in a network, and rather than poke around on StackOverflow, chatGPT is particularly good at summarizing existing approaches to ML coding tasks. \n",
    "\n",
    "#### Submission Instructions\n",
    "\n",
    "You must complete the homework by editing <b>this notebook</b> and submitting the following two files in Gradescope by the due date and time:\n",
    "\n",
    "  - A file <code>HW05.ipynb</code> (be sure to select <code>Kernel -> Restart and Run All</code> before you submit, to make sure everything works); and\n",
    "  - A file <code>HW05.pdf</code> created from the previous.\n",
    "  \n",
    "  For best results obtaining a clean PDF file on the Mac, select <code>File -> Print Review</code> from the Jupyter window, then choose <code>File-> Print</code> in your browser and then <code>Save as PDF</code>.  Something  similar should be possible on a Windows machine -- just make sure it is readable and no cell contents have been cut off. Make it easy to grade!\n",
    "  \n",
    "The date and time of your submission is the last file you submitted, so if your IPYNB file is submitted on time, but your PDF is late, then your submission is late. "
   ]
  },
  {
   "cell_type": "markdown",
   "metadata": {},
   "source": [
    "## Collaborators (5 pts)\n",
    "\n",
    "Describe briefly but precisely\n",
    "\n",
    "1. Any persons you discussed this homework with and the nature of the discussion;\n",
    "2. Any online resources you consulted and what information you got from those resources; and\n",
    "3. Any AI agents (such as chatGPT or CoPilot) or other applications you used to complete the homework, and the nature of the help you received. \n",
    "\n",
    "A few brief sentences is all that I am looking for here. \n",
    "\n",
    "Discussed the approach of Problem 1 - character level language model with another student in the class - Zach\n",
    "Consulted the blog by Karpathy and the code present there. used chatGPT for syntax \n",
    "\n",
    "For problem 2 i consulted prof's lecture on Youtube and lecture slides. \n",
    "also consulted the blog linked and used ChatGPT to help convert the code from keras to pytorch whereever i got stuck \n",
    "i had got stuck in beam-search, perplexity part of the problem and i asked zach for help there. \n",
    "\n",
    "For problem 3, i heavily consulted chatGPT specially for 3C and optional. \n",
    "The prof had mentioned on Piazza that this was encouraged. "
   ]
  },
  {
   "cell_type": "code",
   "execution_count": 1,
   "metadata": {},
   "outputs": [],
   "source": [
    "import math\n",
    "import numpy as np\n",
    "from numpy.random import shuffle, seed, choice\n",
    "from tqdm import tqdm\n",
    "from collections import defaultdict, Counter\n",
    "import pandas as pd\n",
    "import re\n",
    "import matplotlib.pyplot as plt\n",
    "\n",
    "import torch\n",
    "from torch.utils.data import Dataset,DataLoader\n",
    "import torch.nn.functional as F\n",
    "from torch.utils.data import random_split,Dataset,DataLoader\n",
    "from torchvision import datasets, transforms\n",
    "from torch import nn, optim\n",
    "\n",
    "import torchvision.transforms as T\n",
    "\n",
    "from sklearn.decomposition import PCA, TruncatedSVD\n",
    "from sklearn.feature_extraction.text import TfidfVectorizer, CountVectorizer\n",
    "import string\n",
    "\n",
    "\n"
   ]
  },
  {
   "cell_type": "markdown",
   "metadata": {},
   "source": [
    "## Problem One:  Character-Level Generative Model (20 pts)\n",
    "\n",
    "A basic character-level model has been provided on the class web site in the row for Lecture 14: \n",
    "<a href=\"https://www.cs.bu.edu/fac/snyder/cs505/CharacterLevelLSTM.ipynb\">IPYNB</a>. Your first step is to download this and run it in Colab (or download the data file, which is in the CS 505 Data Directory and also linked on the web site, and run it on your local machine) and understand all its various features. Most of it is straight-forward at this point in the course, but the definition of the model is a bit messy, and you will need to read about LSTM layers in the Pytorch documents to really understand what it is doing and what the hyperparameters mean. \n",
    "\n",
    "Also take a look at the article \"The Unreasonable Effectiveness of Recurrent Neural Networks\" linked with lecture 14. \n",
    "\n",
    "For this problem, you will run this code on a dataset consisting of Java code files, which has been uploaded to the CS 505 Data Directory and also to the class web site: <a href=\"https://www.cs.bu.edu/fac/snyder/cs505/JavaFiles/\">DIR</a>  Select some number of these files and concatenate them into one long text file, such that you have approximately 10-20K characters (if you have trouble running out of RAM you can use fewer, but try to get at least 10K). \n",
    "\n",
    "You will run the character-level model on this dataset. You may either cut and paste code into this notebook, or submit the file with your changes and output along with this notebook to Gradescope.\n",
    "\n",
    "Your task is to get a character-level model that has not simply memorized the Java text file by overfitting, and does not do much other than spit out random characters (underfitting).  You will get the former if you simply run it for many epochs without any changes to the hyperparameters; you will get the latter if you run it only a few epochs. \n",
    "\n",
    "You should experiment with different hyperparameters, which in the notebook are indicated\n",
    "by \n",
    "\n",
    "          <== something to play with\n",
    "\n",
    "and try to get a model that seems to recognize typical Java syntax such as comments, matching parentheses, expressions, assignments, and formatting, but is not just repeating\n",
    "exact text from the data file. Clearly, the number of epochs plays a crucial role, but I also want you to\n",
    "experiment with the various hyperparameters to try to avoid overfitting. See my lectures on T 10/31 and Th 11/2 (recorded and on my YT channel) for the background to this.\n",
    "\n",
    "Note that the code you will work from does not use validation and testing sets, nor does it calculate the accuracy, but only tracks the loss. The nature of the data sets for character-level models does not seem to lend itself to accuracy metrics, but you may wish to try this -- I have not found it to be useful, but have simply focussed on the output and \"eyeballed\" the results to determine how much they have generalized\n",
    "from the data. \n",
    "\n",
    "Submit your notebook(s) to Gradescope as usual, and also provide a summary of your results in the next cell. \n",
    " "
   ]
  },
  {
   "cell_type": "markdown",
   "metadata": {},
   "source": [
    "Download and read the file "
   ]
  },
  {
   "cell_type": "code",
   "execution_count": 2,
   "metadata": {},
   "outputs": [
    {
     "data": {
      "text/plain": [
       "'public class HashTableLPResizing {\\n  \\n  private final int neverUsed = -1;\\n  private final int usedBut'"
      ]
     },
     "execution_count": 2,
     "metadata": {},
     "output_type": "execute_result"
    }
   ],
   "source": [
    "with open(\"HashTableLPResizing.java\", \"r\") as text_file:\n",
    "    text = text_file.read()\n",
    "\n",
    "text[:101]"
   ]
  },
  {
   "cell_type": "markdown",
   "metadata": {},
   "source": [
    "Info about the file \n",
    "\n",
    "\n",
    "Training a character-level language model on the provided Java file, \"HashTableLPResizing.java,\" is an interesting project. This file appears to be a Java class implementation of a hash table with linear probing and dynamic resizing. The class includes various methods for inserting, deleting, checking membership, resizing the table, rehashing, and printing the table contents.\n",
    "\n",
    "Training a character-level model on this code can help the model learn Java syntax, programming patterns specific to hash table implementations, and even stylistic nuances of code writing, like commenting and structuring.\n",
    "\n",
    "The process involves feeding the model with the text of this Java file and allowing it to learn the patterns in the characters. The model will then be able to generate text that resembles Java code, potentially even synthesizing new code snippets that are syntactically correct and logically sound, based on the learned patterns.\n",
    "\n",
    "This approach can be useful for understanding code structure, assisting in code completion, and even in educational settings to help new programmers understand coding patterns and practices. Remember, the effectiveness of the model will largely depend on the size and diversity of the training data. Since this is a single file, the scope of learning will be limited to the patterns and structures within this specific implementation.\n",
    "\n",
    "\n",
    "\n",
    "\n",
    "\n"
   ]
  },
  {
   "cell_type": "code",
   "execution_count": 48,
   "metadata": {},
   "outputs": [
    {
     "name": "stdout",
     "output_type": "stream",
     "text": [
      "Text is 10000 characters long.\n"
     ]
    }
   ],
   "source": [
    "print(f\"Text is {len(text)} characters long.\")\n",
    "\n",
    "size = 10000\n",
    "\n",
    "text = text[:size]"
   ]
  },
  {
   "cell_type": "markdown",
   "metadata": {},
   "source": [
    "working with first 10k characters"
   ]
  },
  {
   "cell_type": "code",
   "execution_count": 4,
   "metadata": {},
   "outputs": [
    {
     "name": "stdout",
     "output_type": "stream",
     "text": [
      "There are 75 characters in the text.\n",
      "Character set: ['\\n', ' ', '!', '\"', '%', '&', '(', ')', '*', '+', ',', '-', '.', '/', '0', '1', '2', '3', '4', '5', '6', '7', '8', '9', ':', ';', '<', '=', '>', 'A', 'B', 'E', 'F', 'H', 'K', 'L', 'M', 'N', 'O', 'P', 'R', 'S', 'T', 'U', 'W', '[', '\\\\', ']', 'a', 'b', 'c', 'd', 'e', 'f', 'g', 'h', 'i', 'j', 'k', 'l', 'm', 'n', 'o', 'p', 'r', 's', 't', 'u', 'v', 'w', 'x', 'y', 'z', '{', '}'].\n"
     ]
    }
   ],
   "source": [
    "chars_in_text = sorted(list(set(text)))\n",
    "num_chars = len(chars_in_text)\n",
    "print(f'There are {num_chars} characters in the text.')\n",
    "print(f'Character set: {chars_in_text}.')"
   ]
  },
  {
   "cell_type": "code",
   "execution_count": 5,
   "metadata": {},
   "outputs": [],
   "source": [
    "# Create functions mapping characters to integers and back\n",
    "\n",
    "def char2int(c):\n",
    "    return chars_in_text.index(c)\n",
    "\n",
    "def int2char(i):\n",
    "    return chars_in_text[i] "
   ]
  },
  {
   "cell_type": "code",
   "execution_count": 6,
   "metadata": {},
   "outputs": [],
   "source": [
    "sample_len = 75\n",
    "\n",
    "# Creating lists that will hold our input and target sample sequences\n",
    "\n",
    "input_seq_chars = []\n",
    "target_seq_chars = []\n",
    "\n",
    "for k in range(len(text)-sample_len+1):\n",
    "\n",
    "    # Remove last character for input sequence\n",
    "    input_seq_chars.append(text[k:k+sample_len-1])\n",
    "\n",
    "    # Remove firsts character for target sequence\n",
    "    target_seq_chars.append(text[k+1:k+sample_len])\n",
    "\n",
    "# for i in range(5):\n",
    "#     print(f'Input sequence:\\n{input_seq_chars[i]}')\n",
    "#     print(f'Target sequence:\\n{target_seq_chars[i]}')\n",
    "#     print()"
   ]
  },
  {
   "cell_type": "code",
   "execution_count": 7,
   "metadata": {},
   "outputs": [
    {
     "name": "stdout",
     "output_type": "stream",
     "text": [
      "[63, 67, 49, 59, 56, 50, 1, 50, 59, 48, 65, 65, 1, 33, 48, 65, 55, 42, 48, 49, 59, 52, 35, 39, 40, 52, 65, 56, 72, 56, 61, 54, 1, 73, 0, 1, 1, 0, 1, 1, 63, 64, 56, 68, 48, 66, 52, 1, 53, 56, 61, 48, 59, 1, 56, 61, 66, 1, 61, 52, 68, 52, 64, 43, 65, 52, 51, 1, 27, 1, 11, 15, 25, 0]\n"
     ]
    }
   ],
   "source": [
    "input_seq = []\n",
    "target_seq = []\n",
    "\n",
    "for i in range(len(input_seq_chars)):\n",
    "    input_seq.append( [char2int(ch) for ch in input_seq_chars[i]])\n",
    "    target_seq.append([char2int(ch) for ch in target_seq_chars[i]])\n",
    "\n",
    "print(input_seq[0])"
   ]
  },
  {
   "cell_type": "code",
   "execution_count": 8,
   "metadata": {},
   "outputs": [
    {
     "data": {
      "text/plain": [
       "array([[0., 0., 1., 0., 0., 0., 0., 0., 0., 0.],\n",
       "       [0., 0., 0., 1., 0., 0., 0., 0., 0., 0.],\n",
       "       [0., 1., 0., 0., 0., 0., 0., 0., 0., 0.],\n",
       "       [0., 0., 1., 0., 0., 0., 0., 0., 0., 0.],\n",
       "       [0., 0., 0., 1., 0., 0., 0., 0., 0., 0.],\n",
       "       [0., 0., 0., 0., 1., 0., 0., 0., 0., 0.]])"
      ]
     },
     "execution_count": 8,
     "metadata": {},
     "output_type": "execute_result"
    }
   ],
   "source": [
    "# convert an integer into a one-hot encoding of the given size (= number of characters)\n",
    "def int2OneHot(X,size):\n",
    "\n",
    "    def int2OneHot1(x,size=10):\n",
    "        tmp = np.zeros(size)\n",
    "        tmp[int(x)] = 1.0\n",
    "        return tmp\n",
    "\n",
    "    return np.array([ int2OneHot1(x, size) for x in X ]).astype('double')\n",
    "\n",
    "int2OneHot( np.array([ 2,3,1,2,3,4 ]),10)"
   ]
  },
  {
   "cell_type": "code",
   "execution_count": 9,
   "metadata": {},
   "outputs": [
    {
     "data": {
      "text/plain": [
       "array([[[0., 0., 1., 0., 0., 0., 0., 0., 0., 0.],\n",
       "        [0., 0., 0., 1., 0., 0., 0., 0., 0., 0.],\n",
       "        [0., 1., 0., 0., 0., 0., 0., 0., 0., 0.],\n",
       "        [0., 0., 1., 0., 0., 0., 0., 0., 0., 0.],\n",
       "        [0., 0., 0., 1., 0., 0., 0., 0., 0., 0.],\n",
       "        [0., 0., 0., 0., 1., 0., 0., 0., 0., 0.]],\n",
       "\n",
       "       [[0., 0., 1., 0., 0., 0., 0., 0., 0., 0.],\n",
       "        [0., 0., 0., 1., 0., 0., 0., 0., 0., 0.],\n",
       "        [0., 1., 0., 0., 0., 0., 0., 0., 0., 0.],\n",
       "        [0., 0., 1., 0., 0., 0., 0., 0., 0., 0.],\n",
       "        [0., 0., 0., 1., 0., 0., 0., 0., 0., 0.],\n",
       "        [0., 0., 0., 0., 1., 0., 0., 0., 0., 0.]],\n",
       "\n",
       "       [[0., 0., 1., 0., 0., 0., 0., 0., 0., 0.],\n",
       "        [0., 0., 0., 1., 0., 0., 0., 0., 0., 0.],\n",
       "        [0., 1., 0., 0., 0., 0., 0., 0., 0., 0.],\n",
       "        [0., 0., 1., 0., 0., 0., 0., 0., 0., 0.],\n",
       "        [0., 0., 0., 1., 0., 0., 0., 0., 0., 0.],\n",
       "        [0., 0., 0., 0., 1., 0., 0., 0., 0., 0.]]])"
      ]
     },
     "execution_count": 9,
     "metadata": {},
     "output_type": "execute_result"
    }
   ],
   "source": [
    "# do the same thing, but for a list/array of integers\n",
    "\n",
    "def seq2OneHot(seq,size):\n",
    "    return np.array([ int2OneHot(x, size) for x in seq ])\n",
    "\n",
    "seq2OneHot( np.array([[ 2,3,1,2,3,4 ],[ 2,3,1,2,3,4 ],[ 2,3,1,2,3,4 ]]),10)"
   ]
  },
  {
   "cell_type": "code",
   "execution_count": 10,
   "metadata": {},
   "outputs": [
    {
     "data": {
      "text/plain": [
       "(9926, 74, 75)"
      ]
     },
     "execution_count": 10,
     "metadata": {},
     "output_type": "execute_result"
    }
   ],
   "source": [
    "# Convert our input sequences to one-hot form\n",
    "\n",
    "input_seq = seq2OneHot(input_seq,size=num_chars)\n",
    "input_seq.shape"
   ]
  },
  {
   "cell_type": "code",
   "execution_count": 11,
   "metadata": {},
   "outputs": [
    {
     "data": {
      "text/plain": [
       "(9926, 74, 75)"
      ]
     },
     "execution_count": 11,
     "metadata": {},
     "output_type": "execute_result"
    }
   ],
   "source": [
    "# Convert our target sequences to one-hot form\n",
    "\n",
    "target_seq = seq2OneHot(target_seq,size=num_chars)\n",
    "target_seq.shape"
   ]
  },
  {
   "cell_type": "code",
   "execution_count": 12,
   "metadata": {},
   "outputs": [],
   "source": [
    "input_seq = torch.Tensor(input_seq).type(torch.DoubleTensor)\n",
    "target_seq = torch.Tensor(target_seq).type(torch.DoubleTensor)"
   ]
  },
  {
   "cell_type": "code",
   "execution_count": 13,
   "metadata": {},
   "outputs": [
    {
     "data": {
      "text/plain": [
       "9926"
      ]
     },
     "execution_count": 13,
     "metadata": {},
     "output_type": "execute_result"
    }
   ],
   "source": [
    "class Basic_Dataset(Dataset):\n",
    "\n",
    "    def __init__(self, X,Y):\n",
    "        self.X = X\n",
    "        self.Y = Y\n",
    "\n",
    "    def __len__(self):\n",
    "        return len(self.X)\n",
    "\n",
    "    # return a pair x,y at the index idx in the data set\n",
    "    def __getitem__(self, idx):\n",
    "        return self.X[idx], self.Y[idx]\n",
    "\n",
    "ds = Basic_Dataset(input_seq,target_seq)\n",
    "\n",
    "ds.__len__()"
   ]
  },
  {
   "cell_type": "code",
   "execution_count": 14,
   "metadata": {},
   "outputs": [],
   "source": [
    "batch_size = 128\n",
    "\n",
    "data_loader = DataLoader(ds, batch_size=batch_size, shuffle=True)"
   ]
  },
  {
   "cell_type": "code",
   "execution_count": 15,
   "metadata": {},
   "outputs": [
    {
     "name": "stdout",
     "output_type": "stream",
     "text": [
      "GPU not available, CPU used\n"
     ]
    }
   ],
   "source": [
    "# torch.cuda.is_available() checks and returns a Boolean True if a GPU is available, else it'll return False\n",
    "# is_cuda = torch.cuda.is_available()\n",
    "is_cuda = False\n",
    "\n",
    "# If we have a GPU available, we'll set our device to GPU. We'll use this device variable later in our code.\n",
    "if is_cuda:\n",
    "    device = torch.device(\"cuda\")\n",
    "    print(\"GPU is available\")\n",
    "else:\n",
    "    device = torch.device(\"cpu\")\n",
    "    print(\"GPU not available, CPU used\")"
   ]
  },
  {
   "cell_type": "code",
   "execution_count": 16,
   "metadata": {},
   "outputs": [],
   "source": [
    "from os import device_encoding\n",
    "class Model(nn.Module):\n",
    "    def __init__(self, input_size, output_size, hidden_dim, n_layers,dropout):\n",
    "        super(Model, self).__init__()\n",
    "\n",
    "        # Defining some parameters\n",
    "        self.hidden_dim = hidden_dim\n",
    "        self.n_layers = n_layers\n",
    "\n",
    "        #Defining the layers\n",
    "        self.lstm = nn.LSTM(input_size, hidden_dim, n_layers,dropout=dropout,batch_first=True)\n",
    "        # Fully connected layer\n",
    "        self.fc1 = nn.Linear(hidden_dim, output_size)\n",
    "\n",
    "    def forward(self, x):\n",
    "\n",
    "        hidden_state_size = x.size(0)\n",
    "\n",
    "        x = x.to(torch.double)\n",
    "\n",
    "        h0 = torch.zeros(self.n_layers,hidden_state_size,self.hidden_dim).double().to(device)\n",
    "        c0 = torch.zeros(self.n_layers,hidden_state_size,self.hidden_dim).double().to(device)\n",
    "\n",
    "        self.lstm = self.lstm.double()\n",
    "\n",
    "        self.fc1 = self.fc1.double()\n",
    "\n",
    "        # Passing in the input and hidden state into the model and obtaining outputs\n",
    "        out, (hx,cx) = self.lstm(x, (h0,c0))\n",
    "\n",
    "        # Reshaping the outputs such that it can be fit into the fully connected layer\n",
    "        out = out.contiguous().view(-1, self.hidden_dim)\n",
    "        out = self.fc1(out)\n",
    "\n",
    "        return out"
   ]
  },
  {
   "cell_type": "code",
   "execution_count": 17,
   "metadata": {},
   "outputs": [
    {
     "name": "stdout",
     "output_type": "stream",
     "text": [
      "Model(\n",
      "  (lstm): LSTM(75, 25, batch_first=True)\n",
      "  (fc1): Linear(in_features=25, out_features=75, bias=True)\n",
      ")\n"
     ]
    }
   ],
   "source": [
    "# Instantiate the model with hyperparameters\n",
    "\n",
    "model = Model(input_size=num_chars, output_size=num_chars, hidden_dim=25, n_layers=1,dropout=0)\n",
    "\n",
    "print(model)\n",
    "\n",
    "model = model.double().to(device)\n",
    "\n",
    "# Define Loss, Optimizer\n",
    "loss_fn = nn.CrossEntropyLoss()\n",
    "\n",
    "optimizer = torch.optim.Adam(model.parameters(), lr=0.01,weight_decay=0)\n"
   ]
  },
  {
   "cell_type": "code",
   "execution_count": 40,
   "metadata": {},
   "outputs": [
    {
     "name": "stderr",
     "output_type": "stream",
     "text": [
      "100%|██████████| 78/78 [00:08<00:00,  9.04it/s]\n",
      "100%|██████████| 78/78 [00:05<00:00, 13.51it/s]\n",
      "100%|██████████| 78/78 [00:05<00:00, 14.13it/s]\n",
      "100%|██████████| 78/78 [00:05<00:00, 14.52it/s]\n",
      "100%|██████████| 78/78 [00:05<00:00, 14.74it/s]\n",
      "100%|██████████| 78/78 [00:05<00:00, 15.49it/s]\n",
      "100%|██████████| 78/78 [00:05<00:00, 15.53it/s]\n",
      "100%|██████████| 78/78 [00:05<00:00, 15.01it/s]\n",
      "100%|██████████| 78/78 [00:05<00:00, 15.56it/s]\n",
      "100%|██████████| 78/78 [00:05<00:00, 15.45it/s]\n",
      "100%|██████████| 78/78 [00:04<00:00, 15.78it/s]\n",
      "100%|██████████| 78/78 [00:04<00:00, 15.89it/s]\n",
      "100%|██████████| 78/78 [00:05<00:00, 15.52it/s]\n",
      "100%|██████████| 78/78 [00:04<00:00, 15.68it/s]\n",
      "100%|██████████| 78/78 [00:04<00:00, 15.85it/s]\n",
      "100%|██████████| 78/78 [00:04<00:00, 15.99it/s]\n",
      "100%|██████████| 78/78 [00:04<00:00, 15.84it/s]\n",
      "100%|██████████| 78/78 [00:04<00:00, 16.03it/s]\n",
      "100%|██████████| 78/78 [00:04<00:00, 16.02it/s]\n",
      "100%|██████████| 78/78 [00:04<00:00, 15.73it/s]\n",
      "100%|██████████| 78/78 [00:04<00:00, 16.22it/s]\n",
      "100%|██████████| 78/78 [00:04<00:00, 16.16it/s]\n",
      "100%|██████████| 78/78 [00:04<00:00, 15.86it/s]\n",
      "100%|██████████| 78/78 [00:04<00:00, 15.71it/s]\n",
      "100%|██████████| 78/78 [00:04<00:00, 15.81it/s]\n",
      "100%|██████████| 78/78 [00:05<00:00, 15.59it/s]\n",
      "100%|██████████| 78/78 [00:04<00:00, 15.80it/s]\n",
      "100%|██████████| 78/78 [00:05<00:00, 15.57it/s]\n",
      "100%|██████████| 78/78 [00:04<00:00, 15.80it/s]\n",
      "100%|██████████| 78/78 [00:05<00:00, 15.13it/s]\n",
      "100%|██████████| 78/78 [00:04<00:00, 15.79it/s]\n",
      "100%|██████████| 78/78 [00:04<00:00, 16.11it/s]\n",
      "100%|██████████| 78/78 [00:04<00:00, 16.02it/s]\n",
      "100%|██████████| 78/78 [00:04<00:00, 16.06it/s]\n",
      "100%|██████████| 78/78 [00:04<00:00, 15.70it/s]\n",
      "100%|██████████| 78/78 [00:04<00:00, 16.01it/s]\n",
      "100%|██████████| 78/78 [00:04<00:00, 15.91it/s]\n",
      "100%|██████████| 78/78 [00:04<00:00, 15.76it/s]\n",
      "100%|██████████| 78/78 [00:04<00:00, 16.07it/s]\n",
      "100%|██████████| 78/78 [00:04<00:00, 15.83it/s]\n",
      "100%|██████████| 78/78 [00:05<00:00, 15.58it/s]\n",
      "100%|██████████| 78/78 [00:04<00:00, 15.81it/s]\n",
      "100%|██████████| 78/78 [00:04<00:00, 15.90it/s]\n",
      "100%|██████████| 78/78 [00:04<00:00, 15.81it/s]\n",
      "100%|██████████| 78/78 [00:05<00:00, 14.87it/s]\n",
      "100%|██████████| 78/78 [00:04<00:00, 15.68it/s]\n",
      "100%|██████████| 78/78 [00:04<00:00, 15.72it/s]\n",
      "100%|██████████| 78/78 [00:04<00:00, 15.68it/s]\n",
      "100%|██████████| 78/78 [00:05<00:00, 15.57it/s]\n",
      "100%|██████████| 78/78 [00:04<00:00, 15.82it/s]\n",
      "100%|██████████| 50/50 [04:13<00:00,  5.08s/it]\n"
     ]
    },
    {
     "data": {
      "text/plain": [
       "[<matplotlib.lines.Line2D at 0x1965d40d0>]"
      ]
     },
     "execution_count": 40,
     "metadata": {},
     "output_type": "execute_result"
    },
    {
     "data": {
      "image/png": "[encoded data removed]",
      "text/plain": [
       "<Figure size 640x480 with 1 Axes>"
      ]
     },
     "metadata": {},
     "output_type": "display_data"
    }
   ],
   "source": [
    "num_epochs = 50\n",
    "\n",
    "losses = []\n",
    "\n",
    "model.train()\n",
    "\n",
    "for epoch in tqdm(range(num_epochs)):\n",
    "\n",
    "    for input_seq_batch,target_seq_batch in tqdm(data_loader):\n",
    "        input_seq_batch = input_seq_batch.to(device)\n",
    "        target_seq_batch = target_seq_batch.to(device)\n",
    "        optimizer.zero_grad()\n",
    "        target_seq_hat = model(input_seq_batch)\n",
    "        loss = loss_fn(target_seq_hat,target_seq_batch.view(-1,num_chars))\n",
    "        loss.backward()\n",
    "        optimizer.step()\n",
    "\n",
    "    losses.append(loss.item())\n",
    "\n",
    "\n",
    "plt.title('Loss')\n",
    "plt.plot(losses)"
   ]
  },
  {
   "cell_type": "code",
   "execution_count": 41,
   "metadata": {},
   "outputs": [
    {
     "name": "stdout",
     "output_type": "stream",
     "text": [
      "Example of softmax with temperature.\n",
      "distribution: [0.1, 0.3, 0.6]\n",
      "[1.9287498479637375e-22, 9.3576229688393e-14, 0.9999999999999064]\n",
      "[0.006377460922442302, 0.04712341652466416, 0.9464991225528936]\n",
      "[0.06289001324586753, 0.1709527801977903, 0.7661572065563421]\n",
      "[0.12132647558421489, 0.23631170657656433, 0.6423618178392208]\n",
      "[0.2583896517379799, 0.3155978333128144, 0.4260125149492058]\n",
      "[0.3255767455856355, 0.3321538321280155, 0.3422694222863489]\n"
     ]
    }
   ],
   "source": [
    "def softmax_with_temperature(vec, temperature):\n",
    "    sum_exp = sum(math.exp(x/temperature) for x in vec)\n",
    "    return [math.exp(x/temperature)/sum_exp for x in vec]\n",
    "\n",
    "print(\"Example of softmax with temperature.\")\n",
    "dist = [0.1, 0.3, 0.6]\n",
    "print('distribution:',dist)\n",
    "print(softmax_with_temperature(dist,0.01))\n",
    "print(softmax_with_temperature(dist,0.1))\n",
    "print(softmax_with_temperature(dist,0.2))\n",
    "print(softmax_with_temperature(dist,0.3))\n",
    "print(softmax_with_temperature(dist,1))\n",
    "print(softmax_with_temperature(dist,10))"
   ]
  },
  {
   "cell_type": "code",
   "execution_count": 42,
   "metadata": {},
   "outputs": [
    {
     "data": {
      "text/plain": [
       "'i'"
      ]
     },
     "execution_count": 42,
     "metadata": {},
     "output_type": "execute_result"
    }
   ],
   "source": [
    "temperature = 0.35\n",
    "\n",
    "def predict(model, ch):\n",
    "\n",
    "    # only look at last sample_len - 1 characters\n",
    "\n",
    "    ch = ch[-(sample_len - 1):]\n",
    "\n",
    "    # One-hot encoding our input to fit into the model\n",
    "    ch = np.array([char2int(c) for c in ch])\n",
    "    ch = np.array([int2OneHot(ch, num_chars)])\n",
    "    ch = torch.from_numpy(ch).to(device)\n",
    "\n",
    "    out = model(ch)\n",
    "\n",
    "    # take the probability distribution of the last character in the sequence produced by the model\n",
    "    prob = softmax_with_temperature(out[-1],temperature)\n",
    "\n",
    "    # Choosing a character based on the probability distribution, with temperature\n",
    "    char_ind = choice(list(range(num_chars)), p=prob)\n",
    "\n",
    "    return int2char(char_ind)\n",
    "\n",
    "#predict(model,\"Of man's first disobedience, and the fruit o\")\n",
    "predict(model,\"public class HashTableLPResiz\")"
   ]
  },
  {
   "cell_type": "code",
   "execution_count": 43,
   "metadata": {},
   "outputs": [],
   "source": [
    "def sample(model, out_len, start):\n",
    "    model.eval() # eval mode\n",
    "    # First off, run through the starting characters\n",
    "    chars = [ch for ch in start]\n",
    "    size = out_len - len(chars)\n",
    "    # Now pass in the previous characters and get a new one\n",
    "    for ii in range(size):\n",
    "        char = predict(model, chars)\n",
    "        chars.append(char)\n",
    "\n",
    "    return ''.join(chars)"
   ]
  },
  {
   "cell_type": "code",
   "execution_count": 29,
   "metadata": {},
   "outputs": [
    {
     "name": "stdout",
     "output_type": "stream",
     "text": [
      "public class HashTableLPResizing();\n",
      "        A[i] = neverUsed;\n",
      "    if(inResizingMode) {                                               // n that or f return trig\n",
      "               // prime if(ANew[i] == neverUsed)\n",
      "          if(A[i] == key) {\n",
      "                     // next pric booloom] < 00) \n",
      "    for(i to ANew = -1;\n",
      "  private int i; \n",
      "    int N = 0.59 \n",
      "      , 797, 907, 979, 757, 737, 701, 701, 701, 709, 753, 887, 883, 887, 883, 881, 887, 887, 883, 871, 789, 781, 79, 87, 87, 87, 87, 17, 17, 17, 11, 17, 11, 131, 141, 151, 151, 163, 197, 199, 107, 109, 123,1129,1753,1189,1187,1753,1757,1781,1873,1873,1899,1889e\n",
      "       // key table in rus insert = \"+ \"+i+\"]: \"); \n",
      "      else if(ANew[i] == neverUsed;   return trig && relsizen(\"ANew[\"+i+\"]: \" + A[i]); \n",
      "    }\n",
      "        System.out.println(\"ANew[\"+i+\"]: \" + A[i]); \n",
      "    }\n",
      "      for(i = hash(key,A.length); A[i] != neverUsed && remaining > 0; i = (i + 1) % ANew.length) {\n",
      "        if(ANew[i] == neverUsed;   return trig\n",
      "        private int K = A.length; \n",
      "     \n"
     ]
    }
   ],
   "source": [
    "print(sample(model, 1000, \"public class HashTableLPRes\"))"
   ]
  },
  {
   "cell_type": "code",
   "execution_count": 24,
   "metadata": {},
   "outputs": [],
   "source": [
    "# Result after 10 epochs \n"
   ]
  },
  {
   "cell_type": "markdown",
   "metadata": {},
   "source": [
    "public class HashTableLPResizing(); "
   ]
  },
  {
   "cell_type": "code",
   "execution_count": 30,
   "metadata": {},
   "outputs": [],
   "source": [
    "#Result after 25 epochs "
   ]
  },
  {
   "cell_type": "markdown",
   "metadata": {},
   "source": [
    "<!-- public class HashTableLPResizing();\n",
    "        A[i] = neverUsed;\n",
    "    if(inResizingMode) {                                               // n that or f return trig\n",
    "               // prime if(ANew[i] == neverUsed)\n",
    "          if(A[i] == key) {\n",
    "                     // next pric booloom] < 00) \n",
    "    for(i to ANew = -1;\n",
    "  private int i; \n",
    "    int N = 0.59 \n",
    "      , 797, 907, 979, 757, 737, 701, 701, 701, 709, 753, 887, 883, 887, 883, 881, 887, 887, 883, 871, 789, 781, 79, 87, 87, 87, 87, 17, 17, 17, 11, 17, 11, 131, 141, 151, 151, 163, 197, 199, 107, 109, 123,1129,1753,1189,1187,1753,1757,1781,1873,1873,1899,1889e\n",
    "       // key table in rus insert = \"+ \"+i+\"]: \"); \n",
    "      else if(ANew[i] == neverUsed;   return trig && relsizen(\"ANew[\"+i+\"]: \" + A[i]); \n",
    "    }\n",
    "        System.out.println(\"ANew[\"+i+\"]: \" + A[i]); \n",
    "    }\n",
    "      for(i = hash(key,A.length); A[i] != neverUsed && remaining > 0; i = (i + 1) % ANew.length) {\n",
    "        if(ANew[i] == neverUsed;   return trig\n",
    "        private int K = A.length;  -->"
   ]
  },
  {
   "cell_type": "code",
   "execution_count": 32,
   "metadata": {},
   "outputs": [
    {
     "ename": "IndentationError",
     "evalue": "unindent does not match any outer indentation level (<tokenize>, line 3)",
     "output_type": "error",
     "traceback": [
      "\u001b[0;36m  File \u001b[0;32m<tokenize>:3\u001b[0;36m\u001b[0m\n\u001b[0;31m    if(inResizingMode) {                                               // n that or f return trig\u001b[0m\n\u001b[0m    ^\u001b[0m\n\u001b[0;31mIndentationError\u001b[0m\u001b[0;31m:\u001b[0m unindent does not match any outer indentation level\n"
     ]
    }
   ],
   "source": [
    "public class HashTableLPResizing();\n",
    "        A[i] = neverUsed;\n",
    "    if(inResizingMode) {                                               // n that or f return trig\n",
    "               // prime if(ANew[i] == neverUsed)\n",
    "          if(A[i] == key) {\n",
    "                     // next pric booloom] < 00) \n",
    "    for(i to ANew = -1;\n",
    "  private int i; \n",
    "    int N = 0.59 \n",
    "      , 797, 907, 979, 757, 737, 701, 701, 701, 709, 753, 887, 883, 887, 883, 881, 887, 887, 883, 871, 789, 781, 79, 87, 87, 87, 87, 17, 17, 17, 11, 17, 11, 131, 141, 151, 151, 163, 197, 199, 107, 109, 123,1129,1753,1189,1187,1753,1757,1781,1873,1873,1899,1889e\n",
    "       // key table in rus insert = \"+ \"+i+\"]: \"); \n",
    "      else if(ANew[i] == neverUsed;   return trig && relsizen(\"ANew[\"+i+\"]: \" + A[i]); \n",
    "    }\n",
    "        System.out.println(\"ANew[\"+i+\"]: \" + A[i]); \n",
    "    }\n",
    "      for(i = hash(key,A.length); A[i] != neverUsed && remaining > 0; i = (i + 1) % ANew.length) {\n",
    "        if(ANew[i] == neverUsed;   return trig\n",
    "        private int K = A.length; "
   ]
  },
  {
   "cell_type": "code",
   "execution_count": 37,
   "metadata": {},
   "outputs": [],
   "source": [
    "# Output after 50 epochs"
   ]
  },
  {
   "cell_type": "code",
   "execution_count": 38,
   "metadata": {},
   "outputs": [
    {
     "name": "stdout",
     "output_type": "stream",
     "text": [
      "public class HashTableLPResizing H = new HashTableLPResizing(); \n",
      "    H.printTables();\n",
      "     T.insert( {\n",
      "    thins giner into the slot isEmpt intauctor gis \n",
      "  \n",
      "  private int nextSlot = 0;          // pld tubl , e aretiach (Stric sea keyimetraty thesimple one on ner rehashing(\"+key+\"Ne\"\"\"); \n",
      "        System.out.println(\"A[\"+i+\"]: \" + A[i]); \n",
      "    }\n",
      "      if(p, N == 0);   \n",
      "    ,1909,1729,1701,1701,1707,1727,1753, 757, 763, 753, 761, 733 \n",
      "    , 737, 797, 701, 709, 723, 733, 739, 733 \n",
      "    , 73, 8, \n",
      "  p, 66, 67, 71, 87, 673, 619, 619, 643, 649, 643, 653, 2679, 643, 653, 649, 653, 649, 643, 649, 653, 653, 653, 653, 653, 653, 653, 653, 653, 653, 653, 653, 653, 653, 653, 653, 653, 601, 607, 619, 643, 641, 643, 653, 2679, 653, 653, 653, 653, 601, 607, 619, 641, 641, 643, 653, 653, 653, 653, 653, 653, 653, 653, 653, 653, 653, 653, 653, 653, 653, 653, 653, 653, 653, 653, 653, 601, 607, 643, 653, 653, 653, 653, 653, 653, 653, 653, 653, 653, 653, 653, 653, 653, 601, 2067, 2089, 2273, 2111, 2377, 2387, \n"
     ]
    }
   ],
   "source": [
    "print(sample(model, 1000, \"public class HashTableLPRes\"))"
   ]
  },
  {
   "cell_type": "code",
   "execution_count": 39,
   "metadata": {},
   "outputs": [
    {
     "ename": "SyntaxError",
     "evalue": "unterminated triple-quoted string literal (detected at line 13) (934255942.py, line 6)",
     "output_type": "error",
     "traceback": [
      "\u001b[0;36m  Cell \u001b[0;32mIn[39], line 6\u001b[0;36m\u001b[0m\n\u001b[0;31m    private int nextSlot = 0;          // pld tubl , e aretiach (Stric sea keyimetraty thesimple one on ner rehashing(\"+key+\"Ne\"\"\");\u001b[0m\n\u001b[0m                                                                                                                               ^\u001b[0m\n\u001b[0;31mSyntaxError\u001b[0m\u001b[0;31m:\u001b[0m unterminated triple-quoted string literal (detected at line 13)\n"
     ]
    }
   ],
   "source": [
    "public class HashTableLPResizing H = new HashTableLPResizing(); \n",
    "    H.printTables();\n",
    "     T.insert( {\n",
    "    thins giner into the slot isEmpt intauctor gis \n",
    "  \n",
    "  private int nextSlot = 0;          // pld tubl , e aretiach (Stric sea keyimetraty thesimple one on ner rehashing(\"+key+\"Ne\"\"\"); \n",
    "        System.out.println(\"A[\"+i+\"]: \" + A[i]); \n",
    "    }\n",
    "      if(p, N == 0);   \n",
    "    ,1909,1729,1701,1701,1707,1727,1753, 757, 763, 753, 761, 733 \n",
    "    , 737, 797, 701, 709, 723, 733, 739, 733 \n",
    "    , 73, 8, \n",
    "  p, 66, 67, 71, 87, 673, 619, 619, 643, 649, 643, 653, 2679, 643, 653, 649, 653, 649, 643, 649, 653, 653, 653, 653, 653, 653, 653, 653, 653, 653, 653, 653, 653, 653, 653, 653, 653, 601, 607, 619, 643, 641, 643, 653, 2679, 653, 653, 653, 653, 601, 607, 619, 641, 641, 643, 653, 653, 653, 653, 653, 653, 653, 653, 653, 653, 653, 653, 653, 653, 653, 653, 653, 653, 653, 653, 653, 601, 607, 643, 653, 653, 653, 653, 653, 653, 653, 653, 653, 653, 653, 653, 653, 653, 601, 2067, 2089, 2273, 2111, 2377, 2387,"
   ]
  },
  {
   "cell_type": "code",
   "execution_count": 44,
   "metadata": {},
   "outputs": [],
   "source": [
    "# Output after 100 epochs"
   ]
  },
  {
   "cell_type": "code",
   "execution_count": 45,
   "metadata": {},
   "outputs": [
    {
     "name": "stdout",
     "output_type": "stream",
     "text": [
      "public class HashTableLPResizing {\n",
      "      // move one key fullrger A = new latic booch the \n",
      "      }\n",
      "      // move one key from old table and return the on that into ANew\n",
      "  // note that duplicates may be inserted into A because of a deletion of a key higher resizing mode\n",
      "  // and arrayFac old table\n",
      "  \n",
      "  private void printTables() {\n",
      "    printTable(); \n",
      "    if(inResizingMode)\n",
      "      printTableNew();\n",
      "    System.out.println(\"N = \" + N + \"\\n\"); \n",
      "  }\n",
      "  \n",
      "  \n",
      "  private int N = 0;                                                          // numbert(i + i) \n",
      "    int i; \n",
      "    for(i = hash(key,A.length); A[i] != neverUsed && remaining > 0; i = (i + 1) % ANew.length) {\n",
      "        if(ANew[i] == key) {\n",
      "          if(ANew[i] == key) {\n",
      "          A[i] = usedButEmpty; \n",
      "        --N;\n",
      "        \n",
      "      }\n",
      "      if(ANew[i] == key) {\n",
      "          ANew[i] = usedButEmpty; \n",
      "          --N;\n",
      "        \n",
      "      }\n",
      "      if(ANew[i] == key) {\n",
      "          A[i] = usedButEmpty; \n",
      "        --N;\n",
      "        return NLPHelper(p,lo,mid-1);\n",
      "      else\n",
      "      \n"
     ]
    }
   ],
   "source": [
    "print(sample(model, 1000, \"public class HashTableLPRes\"))"
   ]
  },
  {
   "cell_type": "code",
   "execution_count": 47,
   "metadata": {},
   "outputs": [
    {
     "ename": "IndentationError",
     "evalue": "unindent does not match any outer indentation level (<tokenize>, line 5)",
     "output_type": "error",
     "traceback": [
      "\u001b[0;36m  File \u001b[0;32m<tokenize>:5\u001b[0;36m\u001b[0m\n\u001b[0;31m    // note that duplicates may be inserted into A because of a deletion of a key higher resizing mode\u001b[0m\n\u001b[0m    ^\u001b[0m\n\u001b[0;31mIndentationError\u001b[0m\u001b[0;31m:\u001b[0m unindent does not match any outer indentation level\n"
     ]
    }
   ],
   "source": [
    "public class HashTableLPResizing {\n",
    "      // move one key fullrger A = new latic booch the \n",
    "      }\n",
    "      // move one key from old table and return the on that into ANew\n",
    "  // note that duplicates may be inserted into A because of a deletion of a key higher resizing mode\n",
    "  // and arrayFac old table\n",
    "  \n",
    "  private void printTables() {\n",
    "    printTable(); \n",
    "    if(inResizingMode)\n",
    "      printTableNew();\n",
    "    System.out.println(\"N = \" + N + \"\\n\"); \n",
    "  }\n",
    "  \n",
    "  \n",
    "  private int N = 0;                                                          // numbert(i + i) \n",
    "    int i; \n",
    "    for(i = hash(key,A.length); A[i] != neverUsed && remaining > 0; i = (i + 1) % ANew.length) {\n",
    "        if(ANew[i] == key) {\n",
    "          if(ANew[i] == key) {\n",
    "          A[i] = usedButEmpty; \n",
    "        --N;\n",
    "        \n",
    "      }\n",
    "      if(ANew[i] == key) {\n",
    "...\n",
    "        --N;\n",
    "        return NLPHelper(p,lo,mid-1);\n",
    "      else"
   ]
  },
  {
   "cell_type": "markdown",
   "metadata": {},
   "source": [
    "So we can see that even after 100 epochs the model cant produce error free code "
   ]
  },
  {
   "cell_type": "markdown",
   "metadata": {},
   "source": [
    "Code Outline : \n",
    "\n",
    "Text Preprocessing: The script starts by truncating the input text to a fixed size and creates mappings (char2int, int2char) to convert characters to integers and vice versa.\n",
    "\n",
    "Sequence Creation: It generates input and target sequences for training, where each input sequence is mapped to a target sequence offset by one character.\n",
    "\n",
    "One-Hot Encoding: The sequences are converted into one-hot encoded format, which is a standard way to represent categorical data for neural networks.\n",
    "\n",
    "Dataset and DataLoader: A custom dataset class Basic_Dataset is defined for the input and target sequences, and a DataLoader is used for batching and shuffling the data.\n",
    "\n",
    "Model Definition: The Model class defines an LSTM-based neural network with a fully connected layer for output.\n",
    "\n",
    "Training Loop: The model is trained over a number of epochs, using cross-entropy loss and Adam optimizer.\n",
    "\n",
    "Temperature-based Sampling: A softmax function with temperature is used to generate a probability distribution for the next character, which adds variability to the generated text.\n",
    "\n",
    "Text Generation: The sample function generates text by repeatedly predicting the next character based on the previously generated characters."
   ]
  },
  {
   "cell_type": "markdown",
   "metadata": {},
   "source": [
    "Various hyper-parameters in the code \n",
    "\n",
    "size: The size of the text used for training, truncating the original text to this length.\n",
    "\n",
    "sample_len: Length of each sample sequence used for training.\n",
    "\n",
    "batch_size: Number of samples per batch in training.\n",
    "\n",
    "num_epochs: The number of training epochs, or full passes through the dataset.\n",
    "\n",
    "hidden_dim: The dimensionality of the hidden state in the LSTM.\n",
    "\n",
    "n_layers: The number of layers in the LSTM.\n",
    "\n",
    "dropout: The dropout rate for regularization in the LSTM.\n",
    "\n",
    "lr (learning rate): The learning rate for the Adam optimizer.\n",
    "\n",
    "weight_decay: The weight decay (L2 penalty) parameter for the optimizer.\n",
    "\n",
    "temperature: Used in temperature-based sampling for text generation, affecting the randomness of the predictions.\n",
    "\n"
   ]
  },
  {
   "cell_type": "markdown",
   "metadata": {},
   "source": [
    "Values chosen for various hyper-paramters \n",
    "\n",
    "<!-- size: 10000 (used to truncate the text for training)\n",
    "sample_len: 75 (length of each training sample sequence)\n",
    "batch_size: 128 (number of samples per batch in training)\n",
    "num_epochs: 50 (number of training epochs)\n",
    "hidden_dim: 25 (dimensionality of the hidden state in the LSTM)\n",
    "n_layers: 1 (number of LSTM layers)\n",
    "dropout: 0 (dropout rate for regularization in the LSTM)\n",
    "lr (learning rate): 0.01 (learning rate for the Adam optimizer)\n",
    "weight_decay: 0 (weight decay or L2 penalty for the optimizer)\n",
    "temperature: 0.35 (used in temperature-based sampling for text generation) -->\n"
   ]
  },
  {
   "cell_type": "markdown",
   "metadata": {},
   "source": []
  },
  {
   "cell_type": "code",
   "execution_count": 50,
   "metadata": {},
   "outputs": [],
   "source": [
    "# Values chosen for various hyper-parameters \n",
    "# size: 10000 (used to truncate the text for training)\n",
    "# sample_len: 75 (length of each training sample sequence)\n",
    "# batch_size: 128 (number of samples per batch in training)\n",
    "# num_epochs: 50 (number of training epochs)\n",
    "# hidden_dim: 25 (dimensionality of the hidden state in the LSTM)\n",
    "# n_layers: 1 (number of LSTM layers)\n",
    "# dropout: 0 (dropout rate for regularization in the LSTM)\n",
    "# lr (learning rate): 0.01 (learning rate for the Adam optimizer)\n",
    "# weight_decay: 0 (weight decay or L2 penalty for the optimizer)\n",
    "# temperature: 0.35 (used in temperature-based sampling for text generation)"
   ]
  },
  {
   "cell_type": "markdown",
   "metadata": {},
   "source": [
    "It would have been preferable to be able to use a bigger 'size' \n",
    "\n",
    "sample_len of 75 is good enough \n",
    "\n",
    "for batch_size, i tried 128 and 64. Could have tried 32 or lower if i had more time. \n",
    "\n",
    "num_epochs : tried till 100 epochs. Based on the graph, it doesnt seem like training further will help. \n",
    "\n",
    "hidden_dim : This might be low for complex tasks. Increasing it can capture more complex patterns but increases computational cost.\n",
    "\n",
    "n_layers : More layers can model more complex patterns, but also increase the risk of overfitting and computational cost.\n",
    "\n",
    "dropout : didnt have the time to experiment with this \n",
    "\n",
    "lr : standard values \n",
    "\n",
    "temperature : tried various values in the range .3 -1 : this worked well "
   ]
  },
  {
   "cell_type": "markdown",
   "metadata": {
    "id": "VnB5z-ZoZEa5"
   },
   "source": [
    "### Your analysis\n",
    "\n",
    "Please describe your experiments and cut and paste various outputs to show how the model performed at\n",
    "various numbers of epochs and with various hyperparameters. What characteristics of Java was it able to learn? What did it not learn? The article \"The Unreasonable ...\" does a nice job of showing this kind of behavior as the number of epochs increases, and you might look at it before writing your answer here. \n",
    "\n",
    "\n",
    "\n",
    "\n"
   ]
  },
  {
   "cell_type": "markdown",
   "metadata": {},
   "source": [
    "Done above "
   ]
  },
  {
   "cell_type": "markdown",
   "metadata": {},
   "source": [
    "## Problem Two:  Word-Level Generative Model (40 pts)\n",
    "\n",
    "In this problem you will write another generative model, as you did in HW 03, but this time you will use an LSTM network, GloVe word embeddings, and beam search. \n",
    "\n",
    "Before you start, read the following blog post to see the core ideas involved in creating a generative model using word embeddings:\n",
    "\n",
    "https://machinelearningmastery.com/how-to-develop-a-word-level-neural-language-model-in-keras/\n",
    "\n",
    "You may also wish to consult with chatGPT about how to develop this kind of model in Pytorch.\n",
    "\n",
    "The requirements for this problem are as follows (they mostly consist of the extensions proposed at\n",
    "the end of the blog post linked above):\n",
    "\n",
    "- Develop your code in Pytorch, not Keras\n",
    "- Use the novel *Persuation* by Jane Austen as your training data (available through the NLTK, you can just grab the sentences using `nltk.corpus.gutenberg.sents('austen-persuasion.txt')`); if you have trouble with RAM you will need to cut down the number of sentences (perhaps by eliminating the longest sentences as well, see next point). \n",
    "- Develop a sentence-level model by padding sentences to the maximum sentence length in the novel (if this seems extreme, you may wish to delete a small number of the longest sentences to reduce the maximum length). Surround your data sentences with `<s>` and `</s>` and your model should generate one sentence at a time (as you did in HW 03), i.e., it should stop if it generates the `</s>` token. \n",
    "- Use pretrained GLoVe embeddings with dimension 200, and update them (refine by training further) on the sentences in the novel; if you have trouble with RAM you may use a smaller dimension. \n",
    "- Experiment with the hyperparameters (sample length, number of layers, uni- or bi-directional, weight_decay, dropout, number of epochs, temperature of the softmax, etc.) as you did in Problem One to find the \"sweet spot\" where you are generating interesting-looking sentences but not simply repeating sentences from the data. You may want to try adding more linear layers on top to pick the most likely next word. \n",
    "- Generate sentences using Beam Search, which we describe below. \n",
    "\n",
    "Your solution should be the code, samples of sentences generated with their score (described below), and your description of the investigation of various hyperparameters, and what strategy ended up seeming to generate the most realistic sentences that were not simply a repeat of sentences in the data. \n",
    " "
   ]
  },
  {
   "cell_type": "markdown",
   "metadata": {
    "id": "VnB5z-ZoZEa5"
   },
   "source": [
    "### Beam Search\n",
    "\n",
    "Beam search was described, and example shown, in Lecture 14. Here is a brief pseudo-code explaination of what\n",
    "you need to do:\n",
    "\n",
    "1. Develop your code as described above so that it can generate single sentences;\n",
    "2. Copy enough of your code over from HW 03 so that you can calculate the perplexity of\n",
    "        sentences (using the entire novel, or perhaps even a number of Jane Austen's novels as\n",
    "        the data source). As an alternative, you may wish to do this separately, store the nested dictionary\n",
    "        using Pickle, and load it here. \n",
    "3. Calculate the probability distribution of sentences in your data source that you used in the previous step, similar to what you did at the end of HW 01. \n",
    "4. Create a \"goodness function\" which estimates the quality of a sentence as the perplexity times the probability of its length.  This will be applied to all sequences of words, and not just sentences, but as a first approximation this is a way to attempt to make the distribution of sentence lengths similar to that in the novel.\n",
    "5. Follow the description in slide 7 of Lecture 14 to generate until you have 10 finished sentences. Print these out with their perplexity, probability of their length, and the combined goodness metric. "
   ]
  },
  {
   "cell_type": "code",
   "execution_count": 51,
   "metadata": {},
   "outputs": [
    {
     "name": "stderr",
     "output_type": "stream",
     "text": [
      "[nltk_data] Downloading package gutenberg to\n",
      "[nltk_data]     /Users/gauravbindra/nltk_data...\n",
      "[nltk_data]   Package gutenberg is already up-to-date!\n"
     ]
    }
   ],
   "source": [
    "# Code here \n",
    "import nltk \n",
    "nltk.download('gutenberg')\n",
    "from nltk.corpus import gutenberg\n",
    "sentences = gutenberg.sents('austen-persuasion.txt')\n"
   ]
  },
  {
   "cell_type": "code",
   "execution_count": 52,
   "metadata": {},
   "outputs": [
    {
     "name": "stdout",
     "output_type": "stream",
     "text": [
      "['[', 'Persuasion', 'by', 'Jane', 'Austen', '1818', ']']\n"
     ]
    }
   ],
   "source": [
    "print(sentences[0])"
   ]
  },
  {
   "cell_type": "code",
   "execution_count": 53,
   "metadata": {},
   "outputs": [
    {
     "name": "stdout",
     "output_type": "stream",
     "text": [
      "['[', 'Persuasion', 'by', 'Jane', 'Austen', '1818', ']']\n",
      "['Chapter', '1']\n",
      "['Sir', 'Walter', 'Elliot', ',', 'of', 'Kellynch', 'Hall', ',', 'in', 'Somersetshire', ',', 'was', 'a', 'man', 'who', ',', 'for', 'his', 'own', 'amusement', ',', 'never', 'took', 'up', 'any', 'book', 'but', 'the', 'Baronetage', ';', 'there', 'he', 'found', 'occupation', 'for', 'an', 'idle', 'hour', ',', 'and', 'consolation', 'in', 'a', 'distressed', 'one', ';', 'there', 'his', 'faculties', 'were', 'roused', 'into', 'admiration', 'and', 'respect', ',', 'by', 'contemplating', 'the', 'limited', 'remnant', 'of', 'the', 'earliest', 'patents', ';', 'there', 'any', 'unwelcome', 'sensations', ',', 'arising', 'from', 'domestic', 'affairs', 'changed', 'naturally', 'into', 'pity', 'and', 'contempt', 'as', 'he', 'turned', 'over', 'the', 'almost', 'endless', 'creations', 'of', 'the', 'last', 'century', ';', 'and', 'there', ',', 'if', 'every', 'other', 'leaf', 'were', 'powerless', ',', 'he', 'could', 'read', 'his', 'own', 'history', 'with', 'an', 'interest', 'which', 'never', 'failed', '.']\n",
      "['This', 'was', 'the', 'page', 'at', 'which', 'the', 'favourite', 'volume', 'always', 'opened', ':']\n",
      "['\"', 'ELLIOT', 'OF', 'KELLYNCH', 'HALL', '.']\n"
     ]
    }
   ],
   "source": [
    "count = 0\n",
    "for sentence in sentences: \n",
    "    print(sentence)\n",
    "    count+=1\n",
    "    if count==5:\n",
    "        break"
   ]
  },
  {
   "cell_type": "code",
   "execution_count": 55,
   "metadata": {},
   "outputs": [],
   "source": [
    "max_len = 0\n",
    "for sentence in sentences: \n",
    "    sentence_len = len(sentence)\n",
    "    if sentence_len > max_len:\n",
    "        max_len = sentence_len\n",
    "\n",
    "    "
   ]
  },
  {
   "cell_type": "code",
   "execution_count": 56,
   "metadata": {},
   "outputs": [
    {
     "data": {
      "text/plain": [
       "217"
      ]
     },
     "execution_count": 56,
     "metadata": {},
     "output_type": "execute_result"
    }
   ],
   "source": [
    "max_len"
   ]
  },
  {
   "cell_type": "markdown",
   "metadata": {},
   "source": [
    "The max length is 217"
   ]
  },
  {
   "cell_type": "code",
   "execution_count": 57,
   "metadata": {},
   "outputs": [
    {
     "data": {
      "text/plain": [
       "3747"
      ]
     },
     "execution_count": 57,
     "metadata": {},
     "output_type": "execute_result"
    }
   ],
   "source": [
    "len(sentences)"
   ]
  },
  {
   "cell_type": "code",
   "execution_count": 58,
   "metadata": {},
   "outputs": [],
   "source": [
    "sentence_with_spaces = [word.replace('–', ' ') for word in sentence]"
   ]
  },
  {
   "cell_type": "code",
   "execution_count": 59,
   "metadata": {},
   "outputs": [],
   "source": [
    "# def clean_sentence(sentence):\n",
    "#     # Replace dashes with a white space\n",
    "#     sentence_with_spaces = [word.replace('–', ' ') for word in sentence]\n",
    "\n",
    "#     # Further cleaning: lowercasing and removing punctuation\n",
    "#     cleaned = [word.lower().strip(string.punctuation) for word in sentence_with_spaces if word.isalpha()]\n",
    "#     return cleaned\n",
    "\n"
   ]
  },
  {
   "cell_type": "markdown",
   "metadata": {},
   "source": [
    "earlier had it removing punctuations as well, but after seeing the sentences generated, realised that it wasnt needed"
   ]
  },
  {
   "cell_type": "code",
   "execution_count": 60,
   "metadata": {},
   "outputs": [],
   "source": [
    "import string\n",
    "\n",
    "def clean_sentence(sentence):\n",
    "    # Replace dashes with a white space\n",
    "    sentence_with_spaces = [word.replace('–', ' ') for word in sentence]\n",
    "\n",
    "    # Further cleaning: lowercasing but keeping punctuation\n",
    "    cleaned = [word.lower() for word in sentence_with_spaces if word.isalpha() or word in string.punctuation]\n",
    "    return cleaned"
   ]
  },
  {
   "cell_type": "code",
   "execution_count": 61,
   "metadata": {},
   "outputs": [],
   "source": [
    "cleaned_sentences = [clean_sentence(sentence) for sentence in sentences]"
   ]
  },
  {
   "cell_type": "code",
   "execution_count": 62,
   "metadata": {},
   "outputs": [
    {
     "name": "stdout",
     "output_type": "stream",
     "text": [
      "['sir', 'walter', 'elliot', ',', 'of', 'kellynch', 'hall', ',', 'in', 'somersetshire', ',', 'was', 'a', 'man', 'who', ',', 'for', 'his', 'own', 'amusement', ',', 'never', 'took', 'up', 'any', 'book', 'but', 'the', 'baronetage', ';', 'there', 'he', 'found', 'occupation', 'for', 'an', 'idle', 'hour', ',', 'and', 'consolation', 'in', 'a', 'distressed', 'one', ';', 'there', 'his', 'faculties', 'were', 'roused', 'into', 'admiration', 'and', 'respect', ',', 'by', 'contemplating', 'the', 'limited', 'remnant', 'of', 'the', 'earliest', 'patents', ';', 'there', 'any', 'unwelcome', 'sensations', ',', 'arising', 'from', 'domestic', 'affairs', 'changed', 'naturally', 'into', 'pity', 'and', 'contempt', 'as', 'he', 'turned', 'over', 'the', 'almost', 'endless', 'creations', 'of', 'the', 'last', 'century', ';', 'and', 'there', ',', 'if', 'every', 'other', 'leaf', 'were', 'powerless', ',', 'he', 'could', 'read', 'his', 'own', 'history', 'with', 'an', 'interest', 'which', 'never', 'failed', '.']\n",
      "['Sir', 'Walter', 'Elliot', ',', 'of', 'Kellynch', 'Hall', ',', 'in', 'Somersetshire', ',', 'was', 'a', 'man', 'who', ',', 'for', 'his', 'own', 'amusement', ',', 'never', 'took', 'up', 'any', 'book', 'but', 'the', 'Baronetage', ';', 'there', 'he', 'found', 'occupation', 'for', 'an', 'idle', 'hour', ',', 'and', 'consolation', 'in', 'a', 'distressed', 'one', ';', 'there', 'his', 'faculties', 'were', 'roused', 'into', 'admiration', 'and', 'respect', ',', 'by', 'contemplating', 'the', 'limited', 'remnant', 'of', 'the', 'earliest', 'patents', ';', 'there', 'any', 'unwelcome', 'sensations', ',', 'arising', 'from', 'domestic', 'affairs', 'changed', 'naturally', 'into', 'pity', 'and', 'contempt', 'as', 'he', 'turned', 'over', 'the', 'almost', 'endless', 'creations', 'of', 'the', 'last', 'century', ';', 'and', 'there', ',', 'if', 'every', 'other', 'leaf', 'were', 'powerless', ',', 'he', 'could', 'read', 'his', 'own', 'history', 'with', 'an', 'interest', 'which', 'never', 'failed', '.']\n"
     ]
    }
   ],
   "source": [
    "print(cleaned_sentences[2])\n",
    "print(sentences[2])"
   ]
  },
  {
   "cell_type": "code",
   "execution_count": 63,
   "metadata": {},
   "outputs": [
    {
     "data": {
      "image/png": "[encoded data removed]",
      "text/plain": [
       "<Figure size 1000x600 with 1 Axes>"
      ]
     },
     "metadata": {},
     "output_type": "display_data"
    }
   ],
   "source": [
    "sentence_lengths = [len(sentence) for sentence in cleaned_sentences]\n",
    "plt.figure(figsize=(10, 6))\n",
    "plt.hist(sentence_lengths, bins=range(1, max(sentence_lengths) + 1), edgecolor='black')\n",
    "plt.title(\"Histogram of Sentence Lengths in 'Persuasion'\")\n",
    "plt.xlabel('Sentence Length')\n",
    "plt.ylabel('Frequency')\n",
    "plt.show()"
   ]
  },
  {
   "cell_type": "code",
   "execution_count": 64,
   "metadata": {},
   "outputs": [
    {
     "name": "stdout",
     "output_type": "stream",
     "text": [
      "['[', 'Persuasion', 'by', 'Jane', 'Austen', '1818', ']']\n",
      "['Chapter', '1']\n",
      "['Sir', 'Walter', 'Elliot', ',', 'of', 'Kellynch', 'Hall', ',', 'in', 'Somersetshire', ',', 'was', 'a', 'man', 'who', ',', 'for', 'his', 'own', 'amusement', ',', 'never', 'took', 'up', 'any', 'book', 'but', 'the', 'Baronetage', ';', 'there', 'he', 'found', 'occupation', 'for', 'an', 'idle', 'hour', ',', 'and', 'consolation', 'in', 'a', 'distressed', 'one', ';', 'there', 'his', 'faculties', 'were', 'roused', 'into', 'admiration', 'and', 'respect', ',', 'by', 'contemplating', 'the', 'limited', 'remnant', 'of', 'the', 'earliest', 'patents', ';', 'there', 'any', 'unwelcome', 'sensations', ',', 'arising', 'from', 'domestic', 'affairs', 'changed', 'naturally', 'into', 'pity', 'and', 'contempt', 'as', 'he', 'turned', 'over', 'the', 'almost', 'endless', 'creations', 'of', 'the', 'last', 'century', ';', 'and', 'there', ',', 'if', 'every', 'other', 'leaf', 'were', 'powerless', ',', 'he', 'could', 'read', 'his', 'own', 'history', 'with', 'an', 'interest', 'which', 'never', 'failed', '.']\n",
      "['This', 'was', 'the', 'page', 'at', 'which', 'the', 'favourite', 'volume', 'always', 'opened', ':']\n",
      "['\"', 'ELLIOT', 'OF', 'KELLYNCH', 'HALL', '.']\n"
     ]
    }
   ],
   "source": [
    "count = 0\n",
    "for sentence in sentences: \n",
    "    print(sentence)\n",
    "    count+=1\n",
    "    if count==5:\n",
    "        break"
   ]
  },
  {
   "cell_type": "code",
   "execution_count": 65,
   "metadata": {},
   "outputs": [
    {
     "data": {
      "text/plain": [
       "list"
      ]
     },
     "execution_count": 65,
     "metadata": {},
     "output_type": "execute_result"
    }
   ],
   "source": [
    "type(cleaned_sentences)"
   ]
  },
  {
   "cell_type": "code",
   "execution_count": 66,
   "metadata": {},
   "outputs": [
    {
     "data": {
      "text/plain": [
       "3747"
      ]
     },
     "execution_count": 66,
     "metadata": {},
     "output_type": "execute_result"
    }
   ],
   "source": [
    "len(cleaned_sentences)"
   ]
  },
  {
   "cell_type": "code",
   "execution_count": 70,
   "metadata": {},
   "outputs": [],
   "source": [
    "count = 0\n",
    "for sentence in cleaned_sentences: \n",
    "    sentence_len = len(sentence)\n",
    "    if sentence_len > 55:\n",
    "        count+=1"
   ]
  },
  {
   "cell_type": "code",
   "execution_count": 71,
   "metadata": {},
   "outputs": [
    {
     "data": {
      "text/plain": [
       "392"
      ]
     },
     "execution_count": 71,
     "metadata": {},
     "output_type": "execute_result"
    }
   ],
   "source": [
    "count"
   ]
  },
  {
   "cell_type": "code",
   "execution_count": 69,
   "metadata": {},
   "outputs": [
    {
     "data": {
      "text/plain": [
       "0.15585801974913263"
      ]
     },
     "execution_count": 69,
     "metadata": {},
     "output_type": "execute_result"
    }
   ],
   "source": [
    "392/3747"
   ]
  },
  {
   "cell_type": "markdown",
   "metadata": {},
   "source": [
    "Had this at 45 when pundctuations were not there. Changed to incorporate them"
   ]
  },
  {
   "cell_type": "code",
   "execution_count": 72,
   "metadata": {},
   "outputs": [],
   "source": [
    "filtered_sentences = [sentence for sentence in cleaned_sentences if len(sentence) <= 55]"
   ]
  },
  {
   "cell_type": "code",
   "execution_count": 73,
   "metadata": {},
   "outputs": [
    {
     "data": {
      "image/png": "[encoded data removed]",
      "text/plain": [
       "<Figure size 1000x600 with 1 Axes>"
      ]
     },
     "metadata": {},
     "output_type": "display_data"
    }
   ],
   "source": [
    "sentence_lengths = [len(sentence) for sentence in filtered_sentences]\n",
    "plt.figure(figsize=(10, 6))\n",
    "plt.hist(sentence_lengths, bins=range(1, max(sentence_lengths) + 1), edgecolor='black')\n",
    "plt.title(\"Histogram of Sentence Lengths in 'Persuasion'\")\n",
    "plt.xlabel('Sentence Length')\n",
    "plt.ylabel('Frequency')\n",
    "plt.show()"
   ]
  },
  {
   "cell_type": "code",
   "execution_count": 74,
   "metadata": {},
   "outputs": [],
   "source": [
    "# 450/3747"
   ]
  },
  {
   "cell_type": "code",
   "execution_count": 75,
   "metadata": {},
   "outputs": [],
   "source": [
    "# Define the padding token\n",
    "pad_token = \"<PAD>\"\n",
    "start_token = \"<s>\"\n",
    "end_token = \"</s>\"\n",
    "unknown_token = \"<UNK>\"\n",
    "\n",
    "# Pad each sentence to a length of 55\n",
    "padded_sentences = [[start_token] + sentence + [end_token] + [pad_token] * (55 - len(sentence)) \n",
    "    for sentence in filtered_sentences]\n"
   ]
  },
  {
   "cell_type": "code",
   "execution_count": 76,
   "metadata": {},
   "outputs": [
    {
     "name": "stdout",
     "output_type": "stream",
     "text": [
      "['<s>', 'this', 'was', 'the', 'page', 'at', 'which', 'the', 'favourite', 'volume', 'always', 'opened', ':', '</s>', '<PAD>', '<PAD>', '<PAD>', '<PAD>', '<PAD>', '<PAD>', '<PAD>', '<PAD>', '<PAD>', '<PAD>', '<PAD>', '<PAD>', '<PAD>', '<PAD>', '<PAD>', '<PAD>', '<PAD>', '<PAD>', '<PAD>', '<PAD>', '<PAD>', '<PAD>', '<PAD>', '<PAD>', '<PAD>', '<PAD>', '<PAD>', '<PAD>', '<PAD>', '<PAD>', '<PAD>', '<PAD>', '<PAD>', '<PAD>', '<PAD>', '<PAD>', '<PAD>', '<PAD>', '<PAD>', '<PAD>', '<PAD>', '<PAD>', '<PAD>']\n"
     ]
    }
   ],
   "source": [
    "# Example: Check the first padded sentence\n",
    "print(padded_sentences[2])"
   ]
  },
  {
   "cell_type": "code",
   "execution_count": 77,
   "metadata": {},
   "outputs": [
    {
     "name": "stdout",
     "output_type": "stream",
     "text": [
      "Vocabulary size: 4652\n"
     ]
    }
   ],
   "source": [
    "# Initialize a dictionary for the vocabulary\n",
    "vocabulary = {\n",
    "    pad_token: 0,\n",
    "    start_token: 1,\n",
    "    end_token: 2,\n",
    "    unknown_token :3\n",
    "}\n",
    "\n",
    "# Starting index for actual words\n",
    "word_index = 4\n",
    "\n",
    "# Loop through each sentence and add each unique word to the vocabulary\n",
    "for sentence in padded_sentences:\n",
    "    for word in sentence:\n",
    "        if word not in vocabulary:\n",
    "            vocabulary[word] = word_index\n",
    "            word_index += 1\n",
    "\n",
    "# Now, 'vocabulary' is a dictionary mapping words to their integer index\n",
    "print(\"Vocabulary size:\", len(vocabulary))"
   ]
  },
  {
   "cell_type": "code",
   "execution_count": 81,
   "metadata": {},
   "outputs": [
    {
     "data": {
      "text/plain": [
       "14"
      ]
     },
     "execution_count": 81,
     "metadata": {},
     "output_type": "execute_result"
    }
   ],
   "source": [
    "vocabulary['page']"
   ]
  },
  {
   "cell_type": "markdown",
   "metadata": {},
   "source": [
    "designed to convert each sentence in sentences into a list of integers based on the vocabulary dictionary\n"
   ]
  },
  {
   "cell_type": "code",
   "execution_count": 79,
   "metadata": {},
   "outputs": [],
   "source": [
    "def vectorize_sentences(sentences, vocabulary):\n",
    "    vectorized_data = []\n",
    "    unk_index = vocabulary.get(\"<UNK>\")  # Index for unknown words\n",
    "\n",
    "    for sentence in sentences:\n",
    "        vectorized_sentence = [vocabulary.get(word, unk_index) for word in sentence]\n",
    "        vectorized_data.append(vectorized_sentence)\n",
    "\n",
    "    return vectorized_data\n",
    "\n",
    "# Vectorizing your sentences\n",
    "vectorized_sentences = vectorize_sentences(padded_sentences, vocabulary)"
   ]
  },
  {
   "cell_type": "code",
   "execution_count": 80,
   "metadata": {},
   "outputs": [
    {
     "data": {
      "text/plain": [
       "57"
      ]
     },
     "execution_count": 80,
     "metadata": {},
     "output_type": "execute_result"
    }
   ],
   "source": [
    "len(vectorized_sentences[2])\n",
    "# vectorized_sentences[2]\n"
   ]
  },
  {
   "cell_type": "code",
   "execution_count": 82,
   "metadata": {},
   "outputs": [
    {
     "data": {
      "text/plain": [
       "57"
      ]
     },
     "execution_count": 82,
     "metadata": {},
     "output_type": "execute_result"
    }
   ],
   "source": [
    "len(padded_sentences[2])\n",
    "# padded_sentences[2]"
   ]
  },
  {
   "cell_type": "code",
   "execution_count": null,
   "metadata": {},
   "outputs": [],
   "source": []
  },
  {
   "cell_type": "code",
   "execution_count": null,
   "metadata": {},
   "outputs": [],
   "source": []
  },
  {
   "cell_type": "code",
   "execution_count": null,
   "metadata": {},
   "outputs": [],
   "source": []
  },
  {
   "cell_type": "code",
   "execution_count": 85,
   "metadata": {},
   "outputs": [],
   "source": [
    "# use glove embeddings"
   ]
  },
  {
   "cell_type": "markdown",
   "metadata": {},
   "source": [
    "converts a GloVe (Global Vectors for Word Representation) model file into a Word2Vec format"
   ]
  },
  {
   "cell_type": "code",
   "execution_count": 83,
   "metadata": {},
   "outputs": [
    {
     "name": "stderr",
     "output_type": "stream",
     "text": [
      "/var/folders/3f/x95cmnkn57s5pfth5lygr5k00000gn/T/ipykernel_81711/3076318043.py:4: DeprecationWarning: Call to deprecated `glove2word2vec` (KeyedVectors.load_word2vec_format(.., binary=False, no_header=True) loads GLoVE text vectors.).\n",
      "  glove2word2vec(glove_input_file, word2vec_output_file)\n"
     ]
    },
    {
     "data": {
      "text/plain": [
       "(400000, 200)"
      ]
     },
     "execution_count": 83,
     "metadata": {},
     "output_type": "execute_result"
    }
   ],
   "source": [
    "from gensim.scripts.glove2word2vec import glove2word2vec\n",
    "glove_input_file ='/Users/gauravbindra/desktop/NLP/hw05/glove.6B.200d.txt'\n",
    "word2vec_output_file = 'glove.6B.200d.txt.word2vec'\n",
    "glove2word2vec(glove_input_file, word2vec_output_file)"
   ]
  },
  {
   "cell_type": "markdown",
   "metadata": {},
   "source": []
  },
  {
   "cell_type": "code",
   "execution_count": 84,
   "metadata": {},
   "outputs": [
    {
     "name": "stdout",
     "output_type": "stream",
     "text": [
      "[('queen', 0.6978678107261658)]\n"
     ]
    }
   ],
   "source": [
    "from gensim.models import KeyedVectors\n",
    "# load the Stanford GloVe model\n",
    "filename = 'glove.6B.200d.txt.word2vec'\n",
    "model = KeyedVectors.load_word2vec_format(filename, binary=False)\n",
    "# calculate: (king - man) + woman = ?\n",
    "result = model.most_similar(positive=['woman', 'king'], negative=['man'], topn=1)\n",
    "print(result)"
   ]
  },
  {
   "cell_type": "markdown",
   "metadata": {},
   "source": [
    "creates an embedding matrix that maps your vocabulary to the GloVe embeddings"
   ]
  },
  {
   "cell_type": "code",
   "execution_count": 86,
   "metadata": {},
   "outputs": [],
   "source": [
    "#Creating the embedding matrix \n",
    "\n",
    "import numpy as np\n",
    "\n",
    "embedding_dim = 200  # Dimension of GloVe vectors\n",
    "vocab_size = len(vocabulary)  # Your vocabulary size\n",
    "embedding_matrix = np.zeros((vocab_size, embedding_dim))\n",
    "\n",
    "for word, idx in vocabulary.items():\n",
    "    if word in model:\n",
    "        # Add the GloVe word embedding to the matrix\n",
    "        embedding_matrix[idx] = model[word]\n",
    "    else:\n",
    "        # Initialize with random or zero vector for words not found\n",
    "        embedding_matrix[idx] = np.random.randn(embedding_dim)"
   ]
  },
  {
   "cell_type": "code",
   "execution_count": 87,
   "metadata": {},
   "outputs": [
    {
     "data": {
      "text/plain": [
       "4652"
      ]
     },
     "execution_count": 87,
     "metadata": {},
     "output_type": "execute_result"
    }
   ],
   "source": [
    "len(embedding_matrix)\n",
    "# 4538 X 200"
   ]
  },
  {
   "cell_type": "code",
   "execution_count": 88,
   "metadata": {},
   "outputs": [],
   "source": [
    "import torch\n",
    "import torch.nn as nn\n",
    "\n",
    "class LSTMLanguageModel(nn.Module):\n",
    "    def __init__(self, vocab_size, embedding_dim, hidden_dim, embedding_matrix,num_layers=2):\n",
    "        super(LSTMLanguageModel, self).__init__()\n",
    "        self.embedding = nn.Embedding(vocab_size, embedding_dim)\n",
    "        self.embedding.weight = nn.Parameter(torch.tensor(embedding_matrix, dtype=torch.float32))\n",
    "        self.embedding.weight.requires_grad = False  # Optionally freeze the embeddings\n",
    "        self.hidden_dim = hidden_dim\n",
    "        self.num_layers = num_layers\n",
    "        self.lstm = nn.LSTM(embedding_dim, hidden_dim, num_layers=2, batch_first=True, dropout=0.2)\n",
    "        self.fc = nn.Linear(hidden_dim, vocab_size)\n",
    "\n",
    "    def forward(self, x, hidden):\n",
    "        if hidden is None:\n",
    "            hidden = self.init_hidden(x.size(0))\n",
    "        embedded = self.embedding(x)\n",
    "        lstm_out, hidden = self.lstm(embedded, hidden)\n",
    "        out = self.fc(lstm_out)\n",
    "\n",
    "        return out, hidden\n",
    "\n",
    "    def init_hidden(self, batch_size):\n",
    "        weight = next(self.parameters()).data\n",
    "        hidden = (weight.new(self.num_layers, batch_size, self.hidden_dim).zero_(),\n",
    "                  weight.new(self.num_layers, batch_size, self.hidden_dim).zero_())\n",
    "        return hidden\n",
    "\n",
    "# Parameters\n",
    "vocab_size = len(vocabulary)  # Size of your vocabulary\n",
    "embedding_dim = 200  # Dimension of GloVe embeddings\n",
    "hidden_dim = 256  # Number of features in the hidden state of the LSTM\n",
    "\n",
    "# Model Initialization\n",
    "model = LSTMLanguageModel(vocab_size, embedding_dim, hidden_dim, embedding_matrix)"
   ]
  },
  {
   "cell_type": "code",
   "execution_count": 89,
   "metadata": {},
   "outputs": [],
   "source": [
    "import torch.optim as optim\n",
    "\n",
    "# Assuming 'model' is the instance of your model class\n",
    "pad_index=0\n",
    "# Loss Function\n",
    "criterion = nn.CrossEntropyLoss(ignore_index=pad_index)\n",
    "\n",
    "# Optimizer\n",
    "optimizer = optim.Adam(model.parameters(), lr=0.001)"
   ]
  },
  {
   "cell_type": "code",
   "execution_count": 92,
   "metadata": {},
   "outputs": [],
   "source": [
    "from torch.utils.data import Dataset, DataLoader, random_split\n",
    "import torch\n",
    "\n",
    "class TextDataset(Dataset):\n",
    "    def __init__(self, vectorized_sentences):\n",
    "        self.data = vectorized_sentences\n",
    "\n",
    "    def __len__(self):\n",
    "        return len(self.data)\n",
    "\n",
    "    def __getitem__(self, idx):\n",
    "        x = torch.tensor(self.data[idx][:-1], dtype=torch.long)  # Input sequence (all but last word)\n",
    "        y = torch.tensor(self.data[idx][1:], dtype=torch.long)   # Target sequence (all but first word)\n",
    "        return x, y\n",
    "\n",
    "# Assuming 'vectorized_sentences' is your list of vectorized and padded sentences\n",
    "dataset = TextDataset(vectorized_sentences)\n",
    "\n",
    "# Splitting the dataset\n",
    "train_size = int(0.7 * len(dataset))\n",
    "val_size = (len(dataset) - train_size) // 2\n",
    "test_size = len(dataset) - train_size - val_size\n",
    "train_dataset, val_dataset, test_dataset = random_split(dataset, [train_size, val_size, test_size])\n",
    "\n",
    "# Creating DataLoaders\n",
    "batch_size = 64  # Adjust as needed\n",
    "train_loader = DataLoader(train_dataset, batch_size=batch_size, shuffle=True)\n",
    "val_loader = DataLoader(val_dataset, batch_size=batch_size, shuffle=False)\n",
    "test_loader = DataLoader(test_dataset, batch_size=batch_size, shuffle=False)"
   ]
  },
  {
   "cell_type": "code",
   "execution_count": 93,
   "metadata": {},
   "outputs": [],
   "source": [
    "# import torch\n",
    "\n",
    "\n",
    "# num_epochs = 10  # Number of training epochs\n",
    "\n",
    "# for epoch in tqdm(range(num_epochs)):\n",
    "#     model.train()  # Set model to training mode\n",
    "#     hidden = model.init_hidden(batch_size)  # Initialize hidden state\n",
    "\n",
    "#     for inputs, targets in train_loader:\n",
    "#         hidden = tuple([each.data for each in hidden])  # Detach hidden state\n",
    "\n",
    "#         optimizer.zero_grad()  # Zero the gradients\n",
    "#         outputs, hidden = model(inputs, hidden)  # Forward pass\n",
    "#         loss = criterion(outputs.transpose(1, 2), targets)  # Compute loss\n",
    "#         loss.backward()  # Backpropagation\n",
    "#         optimizer.step()  # Update weights\n",
    "\n",
    "#     # Validation loop\n",
    "#     model.eval()  # Set model to evaluation mode\n",
    "#     with torch.no_grad():\n",
    "#         val_hidden = model.init_hidden(batch_size)\n",
    "#         val_loss = 0\n",
    "#         for inputs, targets in val_loader:\n",
    "#             val_hidden = tuple([each.data for each in val_hidden])\n",
    "#             outputs, val_hidden = model(inputs, val_hidden)\n",
    "#             val_loss += criterion(outputs.transpose(1, 2), targets).item()\n",
    "\n",
    "#     print(f\"Epoch {epoch+1}/{num_epochs}, Train Loss: {loss.item()}, Validation Loss: {val_loss/len(val_loader)}\")"
   ]
  },
  {
   "cell_type": "code",
   "execution_count": 94,
   "metadata": {},
   "outputs": [
    {
     "name": "stderr",
     "output_type": "stream",
     "text": [
      "  3%|▎         | 1/30 [00:37<18:20, 37.96s/it]"
     ]
    },
    {
     "name": "stdout",
     "output_type": "stream",
     "text": [
      "Epoch 1/30, Training Loss: 6.611564004743421, Validation Loss: 6.040038049221039\n"
     ]
    },
    {
     "name": "stderr",
     "output_type": "stream",
     "text": [
      "  7%|▋         | 2/30 [01:12<16:40, 35.72s/it]"
     ]
    },
    {
     "name": "stdout",
     "output_type": "stream",
     "text": [
      "Epoch 2/30, Training Loss: 5.96250429668942, Validation Loss: 6.004546344280243\n"
     ]
    },
    {
     "name": "stderr",
     "output_type": "stream",
     "text": [
      " 10%|█         | 3/30 [01:49<16:23, 36.42s/it]"
     ]
    },
    {
     "name": "stdout",
     "output_type": "stream",
     "text": [
      "Epoch 3/30, Training Loss: 5.910895592457539, Validation Loss: 5.9863440990448\n"
     ]
    },
    {
     "name": "stderr",
     "output_type": "stream",
     "text": [
      " 13%|█▎        | 4/30 [02:23<15:27, 35.68s/it]"
     ]
    },
    {
     "name": "stdout",
     "output_type": "stream",
     "text": [
      "Epoch 4/30, Training Loss: 5.878444207681192, Validation Loss: 5.978936672210693\n"
     ]
    },
    {
     "name": "stderr",
     "output_type": "stream",
     "text": [
      " 17%|█▋        | 5/30 [02:57<14:29, 34.79s/it]"
     ]
    },
    {
     "name": "stdout",
     "output_type": "stream",
     "text": [
      "Epoch 5/30, Training Loss: 5.860545416136046, Validation Loss: 5.969632208347321\n"
     ]
    },
    {
     "name": "stderr",
     "output_type": "stream",
     "text": [
      " 20%|██        | 6/30 [03:30<13:42, 34.27s/it]"
     ]
    },
    {
     "name": "stdout",
     "output_type": "stream",
     "text": [
      "Epoch 6/30, Training Loss: 5.842778811583647, Validation Loss: 5.965262949466705\n"
     ]
    },
    {
     "name": "stderr",
     "output_type": "stream",
     "text": [
      " 23%|██▎       | 7/30 [04:01<12:45, 33.30s/it]"
     ]
    },
    {
     "name": "stdout",
     "output_type": "stream",
     "text": [
      "Epoch 7/30, Training Loss: 5.80839577236691, Validation Loss: 5.9088321924209595\n"
     ]
    },
    {
     "name": "stderr",
     "output_type": "stream",
     "text": [
      " 27%|██▋       | 8/30 [04:33<12:00, 32.73s/it]"
     ]
    },
    {
     "name": "stdout",
     "output_type": "stream",
     "text": [
      "Epoch 8/30, Training Loss: 5.736797242551236, Validation Loss: 5.8539857268333435\n"
     ]
    },
    {
     "name": "stderr",
     "output_type": "stream",
     "text": [
      " 30%|███       | 9/30 [05:09<11:48, 33.75s/it]"
     ]
    },
    {
     "name": "stdout",
     "output_type": "stream",
     "text": [
      "Epoch 9/30, Training Loss: 5.668054387376115, Validation Loss: 5.800485193729401\n"
     ]
    },
    {
     "name": "stderr",
     "output_type": "stream",
     "text": [
      " 33%|███▎      | 10/30 [05:43<11:16, 33.83s/it]"
     ]
    },
    {
     "name": "stdout",
     "output_type": "stream",
     "text": [
      "Epoch 10/30, Training Loss: 5.5935151125933675, Validation Loss: 5.7146897315979\n"
     ]
    },
    {
     "name": "stderr",
     "output_type": "stream",
     "text": [
      " 37%|███▋      | 11/30 [06:16<10:39, 33.68s/it]"
     ]
    },
    {
     "name": "stdout",
     "output_type": "stream",
     "text": [
      "Epoch 11/30, Training Loss: 5.497283883996912, Validation Loss: 5.619724094867706\n"
     ]
    },
    {
     "name": "stderr",
     "output_type": "stream",
     "text": [
      " 40%|████      | 12/30 [06:51<10:12, 34.03s/it]"
     ]
    },
    {
     "name": "stdout",
     "output_type": "stream",
     "text": [
      "Epoch 12/30, Training Loss: 5.399263884570147, Validation Loss: 5.539345145225525\n"
     ]
    },
    {
     "name": "stderr",
     "output_type": "stream",
     "text": [
      " 43%|████▎     | 13/30 [07:20<09:11, 32.43s/it]"
     ]
    },
    {
     "name": "stdout",
     "output_type": "stream",
     "text": [
      "Epoch 13/30, Training Loss: 5.312443604340425, Validation Loss: 5.461858570575714\n"
     ]
    },
    {
     "name": "stderr",
     "output_type": "stream",
     "text": [
      " 47%|████▋     | 14/30 [07:50<08:28, 31.78s/it]"
     ]
    },
    {
     "name": "stdout",
     "output_type": "stream",
     "text": [
      "Epoch 14/30, Training Loss: 5.225260657233161, Validation Loss: 5.392232835292816\n"
     ]
    },
    {
     "name": "stderr",
     "output_type": "stream",
     "text": [
      " 50%|█████     | 15/30 [08:20<07:47, 31.14s/it]"
     ]
    },
    {
     "name": "stdout",
     "output_type": "stream",
     "text": [
      "Epoch 15/30, Training Loss: 5.150775277936781, Validation Loss: 5.331539571285248\n"
     ]
    },
    {
     "name": "stderr",
     "output_type": "stream",
     "text": [
      " 53%|█████▎    | 16/30 [08:49<07:09, 30.67s/it]"
     ]
    },
    {
     "name": "stdout",
     "output_type": "stream",
     "text": [
      "Epoch 16/30, Training Loss: 5.076616441881335, Validation Loss: 5.277029871940613\n"
     ]
    },
    {
     "name": "stderr",
     "output_type": "stream",
     "text": [
      " 57%|█████▋    | 17/30 [09:19<06:35, 30.39s/it]"
     ]
    },
    {
     "name": "stdout",
     "output_type": "stream",
     "text": [
      "Epoch 17/30, Training Loss: 5.009884537877263, Validation Loss: 5.23568320274353\n"
     ]
    },
    {
     "name": "stderr",
     "output_type": "stream",
     "text": [
      " 60%|██████    | 18/30 [09:49<06:04, 30.41s/it]"
     ]
    },
    {
     "name": "stdout",
     "output_type": "stream",
     "text": [
      "Epoch 18/30, Training Loss: 4.951681833009462, Validation Loss: 5.203372895717621\n"
     ]
    },
    {
     "name": "stderr",
     "output_type": "stream",
     "text": [
      " 63%|██████▎   | 19/30 [10:23<05:45, 31.37s/it]"
     ]
    },
    {
     "name": "stdout",
     "output_type": "stream",
     "text": [
      "Epoch 19/30, Training Loss: 4.89495580260818, Validation Loss: 5.170692622661591\n"
     ]
    },
    {
     "name": "stderr",
     "output_type": "stream",
     "text": [
      " 67%|██████▋   | 20/30 [10:53<05:11, 31.12s/it]"
     ]
    },
    {
     "name": "stdout",
     "output_type": "stream",
     "text": [
      "Epoch 20/30, Training Loss: 4.844646041457717, Validation Loss: 5.138916254043579\n"
     ]
    },
    {
     "name": "stderr",
     "output_type": "stream",
     "text": [
      " 70%|███████   | 21/30 [11:31<04:56, 32.98s/it]"
     ]
    },
    {
     "name": "stdout",
     "output_type": "stream",
     "text": [
      "Epoch 21/30, Training Loss: 4.798003789540884, Validation Loss: 5.113717794418335\n"
     ]
    },
    {
     "name": "stderr",
     "output_type": "stream",
     "text": [
      " 73%|███████▎  | 22/30 [22:46<30:06, 225.85s/it]"
     ]
    },
    {
     "name": "stdout",
     "output_type": "stream",
     "text": [
      "Epoch 22/30, Training Loss: 4.749488985216296, Validation Loss: 5.090490818023682\n"
     ]
    },
    {
     "name": "stderr",
     "output_type": "stream",
     "text": [
      " 77%|███████▋  | 23/30 [23:19<19:35, 167.86s/it]"
     ]
    },
    {
     "name": "stdout",
     "output_type": "stream",
     "text": [
      "Epoch 23/30, Training Loss: 4.705512201463854, Validation Loss: 5.071631073951721\n"
     ]
    },
    {
     "name": "stderr",
     "output_type": "stream",
     "text": [
      " 80%|████████  | 24/30 [23:51<12:41, 126.98s/it]"
     ]
    },
    {
     "name": "stdout",
     "output_type": "stream",
     "text": [
      "Epoch 24/30, Training Loss: 4.6623967918189795, Validation Loss: 5.05565071105957\n"
     ]
    },
    {
     "name": "stderr",
     "output_type": "stream",
     "text": [
      " 83%|████████▎ | 25/30 [24:22<08:11, 98.25s/it] "
     ]
    },
    {
     "name": "stdout",
     "output_type": "stream",
     "text": [
      "Epoch 25/30, Training Loss: 4.623549577352163, Validation Loss: 5.037358045578003\n"
     ]
    },
    {
     "name": "stderr",
     "output_type": "stream",
     "text": [
      " 87%|████████▋ | 26/30 [36:30<19:08, 287.22s/it]"
     ]
    },
    {
     "name": "stdout",
     "output_type": "stream",
     "text": [
      "Epoch 26/30, Training Loss: 4.582103355510815, Validation Loss: 5.015509188175201\n"
     ]
    },
    {
     "name": "stderr",
     "output_type": "stream",
     "text": [
      " 90%|█████████ | 27/30 [37:15<10:43, 214.61s/it]"
     ]
    },
    {
     "name": "stdout",
     "output_type": "stream",
     "text": [
      "Epoch 27/30, Training Loss: 4.544340816704002, Validation Loss: 5.002393543720245\n"
     ]
    },
    {
     "name": "stderr",
     "output_type": "stream",
     "text": [
      " 93%|█████████▎| 28/30 [37:48<05:20, 160.17s/it]"
     ]
    },
    {
     "name": "stdout",
     "output_type": "stream",
     "text": [
      "Epoch 28/30, Training Loss: 4.507374505738954, Validation Loss: 4.998869895935059\n"
     ]
    },
    {
     "name": "stderr",
     "output_type": "stream",
     "text": [
      " 97%|█████████▋| 29/30 [38:19<02:01, 121.35s/it]"
     ]
    },
    {
     "name": "stdout",
     "output_type": "stream",
     "text": [
      "Epoch 29/30, Training Loss: 4.471399784088135, Validation Loss: 4.98656302690506\n"
     ]
    },
    {
     "name": "stderr",
     "output_type": "stream",
     "text": [
      "100%|██████████| 30/30 [38:49<00:00, 77.65s/it] "
     ]
    },
    {
     "name": "stdout",
     "output_type": "stream",
     "text": [
      "Epoch 30/30, Training Loss: 4.435467127207163, Validation Loss: 4.970628440380096\n"
     ]
    },
    {
     "name": "stderr",
     "output_type": "stream",
     "text": [
      "\n"
     ]
    }
   ],
   "source": [
    "num_epochs = 30  # Set the number of epochs\n",
    "\n",
    "for epoch in tqdm(range(num_epochs)):\n",
    "    model.train()  # Set model to training mode\n",
    "    total_loss = 0\n",
    "\n",
    "    for inputs, targets in train_loader:\n",
    "        hidden = model.init_hidden(inputs.size(0))  # Initialize hidden state\n",
    "        optimizer.zero_grad()  # Zero the gradients\n",
    "\n",
    "        outputs, hidden = model(inputs, hidden)\n",
    "        loss = criterion(outputs.transpose(1, 2), targets)  # Compute loss\n",
    "        loss.backward()  # Backpropagation\n",
    "        optimizer.step()  # Update weights\n",
    "\n",
    "        total_loss += loss.item()\n",
    "\n",
    "    # Validation loop\n",
    "    model.eval()  # Set model to evaluation mode\n",
    "    total_val_loss = 0\n",
    "    with torch.no_grad():\n",
    "        for inputs, targets in val_loader:\n",
    "            val_hidden = model.init_hidden(inputs.size(0))\n",
    "            outputs, val_hidden = model(inputs, val_hidden)\n",
    "            val_loss = criterion(outputs.transpose(1, 2), targets)\n",
    "            total_val_loss += val_loss.item()\n",
    "\n",
    "    # Print average training and validation loss\n",
    "    print(f'Epoch {epoch+1}/{num_epochs}, Training Loss: {total_loss/len(train_loader)}, Validation Loss: {total_val_loss/len(val_loader)}')"
   ]
  },
  {
   "cell_type": "markdown",
   "metadata": {},
   "source": [
    "30 epochs was enough without the punctuation but for this more training will be helpful. Dont have the time to train more rn "
   ]
  },
  {
   "cell_type": "code",
   "execution_count": 96,
   "metadata": {},
   "outputs": [
    {
     "name": "stdout",
     "output_type": "stream",
     "text": [
      "Average Test Loss: 5.018877923488617\n"
     ]
    }
   ],
   "source": [
    "model.eval()  # Set the model to evaluation mode\n",
    "test_loss = 0\n",
    "\n",
    "with torch.no_grad():  # Disable gradient computations\n",
    "    for inputs, targets in test_loader:\n",
    "        hidden = model.init_hidden(inputs.size(0))  # Initialize hidden state\n",
    "        outputs, hidden = model(inputs, hidden)\n",
    "        loss = criterion(outputs.transpose(1, 2), targets)  # Calculate loss\n",
    "        test_loss += loss.item()\n",
    "\n",
    "average_test_loss = test_loss / len(test_loader)\n",
    "print(f'Average Test Loss: {average_test_loss}')"
   ]
  },
  {
   "cell_type": "code",
   "execution_count": 100,
   "metadata": {},
   "outputs": [],
   "source": [
    "# import torch\n",
    "\n",
    "# def generate_sentence(model, seed_text, max_length, vocab, idx_to_word):\n",
    "#     model.eval()  # Evaluation mode\n",
    "#     hidden = model.init_hidden(1)  # Initialize hidden state for single sequence\n",
    "\n",
    "#     current_sequence = [vocab.get(word, vocab['<UNK>']) for word in seed_text.split()]  # Handle unknown words\n",
    "#     generated_sentence = seed_text\n",
    "\n",
    "#     for _ in range(max_length - len(current_sequence)):\n",
    "#         # Convert current_sequence to PyTorch tensor\n",
    "#         sequence_tensor = torch.tensor([current_sequence], dtype=torch.long)\n",
    "        \n",
    "#         # Get model prediction\n",
    "#         with torch.no_grad():\n",
    "#             output, hidden = model(sequence_tensor, hidden)\n",
    "\n",
    "#         # Get the last word of the output\n",
    "#         last_word_logits = output[0, -1]\n",
    "#         predicted_index = torch.argmax(last_word_logits).item()\n",
    "#         predicted_word = idx_to_word[predicted_index]\n",
    "\n",
    "#         if predicted_word == '<\\s>':  # Assuming you have an end token\n",
    "#             break\n",
    "\n",
    "#         generated_sentence += ' ' + predicted_word\n",
    "#         current_sequence.append(predicted_index)\n",
    "#         current_sequence = current_sequence[1:]  # Move the window\n",
    "\n",
    "#     return generated_sentence"
   ]
  },
  {
   "cell_type": "markdown",
   "metadata": {},
   "source": [
    "This code doesnt have randomness, predicts the same word everytime "
   ]
  },
  {
   "cell_type": "code",
   "execution_count": 104,
   "metadata": {},
   "outputs": [],
   "source": [
    "import torch\n",
    "import torch.nn.functional as F\n",
    "import numpy as np\n",
    "\n",
    "def generate_sentence(model, seed_text, max_length, vocab, idx_to_word, temperature=1.0):\n",
    "    model.eval()  # Evaluation mode\n",
    "    hidden = model.init_hidden(1)  # Initialize hidden state for single sequence\n",
    "\n",
    "    current_sequence = [vocab.get(word, vocab['<UNK>']) for word in seed_text.split()]\n",
    "    generated_sentence = seed_text\n",
    "\n",
    "    for _ in range(max_length - len(current_sequence)):\n",
    "        sequence_tensor = torch.tensor([current_sequence], dtype=torch.long)\n",
    "        \n",
    "        with torch.no_grad():\n",
    "            output, hidden = model(sequence_tensor, hidden)\n",
    "\n",
    "        # Apply softmax and sample from the distribution\n",
    "        probabilities = F.softmax(output[0, -1] / temperature, dim=0).cpu().numpy()\n",
    "        predicted_index = np.random.choice(len(probabilities), p=probabilities)\n",
    "        predicted_word = idx_to_word[predicted_index]\n",
    "\n",
    "        if predicted_word == '</s>':\n",
    "            break\n",
    "\n",
    "        generated_sentence += ' ' + predicted_word\n",
    "        current_sequence.append(predicted_index)\n",
    "        current_sequence = current_sequence[1:]\n",
    "\n",
    "    return generated_sentence"
   ]
  },
  {
   "cell_type": "markdown",
   "metadata": {},
   "source": [
    "This has randomness as seen from the Sentence outputs below "
   ]
  },
  {
   "cell_type": "code",
   "execution_count": 105,
   "metadata": {},
   "outputs": [],
   "source": [
    "idx_to_word = {idx: word for word, idx in vocabulary.items()}"
   ]
  },
  {
   "cell_type": "code",
   "execution_count": 106,
   "metadata": {},
   "outputs": [
    {
     "name": "stdout",
     "output_type": "stream",
     "text": [
      "Sentence 1: <s> no there might her most there of their life .\n",
      "Sentence 2: <s> the croft almost also she considered years in again : in each of the smile as seriously wants as intercourse beyond ; he is now , which sensations my more of those , brilliancy her wife how .\n",
      "Sentence 3: <s> the hill and shame !\n",
      "Sentence 4: <s> the credit park in fields at an soon\n",
      "Sentence 5: <s> the intervals were finding by evening birth each life as not be claim\n",
      "Sentence 6: <s> the to instance myself to give\n",
      "Sentence 7: <s> the invitation object are an point .\n",
      "Sentence 8: <s> the more view and her had intended a order to see every .\n",
      "Sentence 9: <s> the historian which had difficult advantage to model twice , fix the in visits , nothing were compliance again ; but i must be longer , has soon my tone ; she could regard to plain to home .\n",
      "Sentence 10: <s> the few staying of home acquaintance , not never have been afraid since an interchange , and gave and laura to gratify him\n",
      "Sentence 11: <s> the almost of possession , and far if if elliot as you walked by this dignity of twenty ; he would come occasionally unimportant\n"
     ]
    }
   ],
   "source": [
    "seed_texts = [\"<s>\", \"<s> the croft\", \"<s> the hill\", \"<s> the\", \"<s> the\" , \"<s> the\", \n",
    "              \"<s> the\", \"<s> the\", \"<s> the\", \"<s> the\", \"<s> the\"]\n",
    "\n",
    "generated_sentences = []\n",
    "\n",
    "for seed in seed_texts:\n",
    "    sentence = generate_sentence(model, seed, 45, vocabulary, idx_to_word)\n",
    "    generated_sentences.append(sentence)\n",
    "\n",
    "for i, sentence in enumerate(generated_sentences, 1):\n",
    "    print(f\"Sentence {i}: {sentence}\")"
   ]
  },
  {
   "cell_type": "markdown",
   "metadata": {},
   "source": [
    "Example of output when trained without the punctuation "
   ]
  },
  {
   "cell_type": "code",
   "execution_count": 179,
   "metadata": {},
   "outputs": [
    {
     "name": "stdout",
     "output_type": "stream",
     "text": [
      "Sentence 1: <s> i have not been introduced </s> <PAD> <PAD> <PAD> <PAD> <PAD> <PAD> <PAD> <PAD> <PAD> <PAD> <PAD> <PAD> <PAD> <PAD> <PAD> <PAD> <PAD> <PAD> <PAD> <PAD> <PAD> <PAD> <PAD> <PAD> <PAD> <PAD> <PAD> <PAD> <PAD> <PAD> <PAD> <PAD> <PAD> <PAD> <PAD> <PAD> <PAD> <PAD>\n",
      "Sentence 2: <s> the crofts was not to be introduced </s> <PAD> <PAD> <PAD> <PAD> <PAD> <PAD> <PAD> <PAD> <PAD> <PAD> <PAD> <PAD> <PAD> <PAD> <PAD> <PAD> <PAD> <PAD> <PAD> <PAD> <PAD> <PAD> <PAD> <PAD> <PAD> <PAD> <PAD> <PAD> <PAD> <PAD> <PAD> <PAD> <PAD> <PAD> <PAD> <PAD>\n",
      "Sentence 3: <s> the hill was the same of her father </s> <PAD> <PAD> <PAD> <PAD> <PAD> <PAD> <PAD> <PAD> <PAD> <PAD> <PAD> <PAD> <PAD> <PAD> <PAD> <PAD> <PAD> <PAD> <PAD> <PAD> <PAD> <PAD> <PAD> <PAD> <PAD> <PAD> <PAD> <PAD> <PAD> <PAD> <PAD> <PAD> <PAD> <PAD> <PAD>\n",
      "Sentence 4: <s> the crofts was not to be introduced </s> <PAD> <PAD> <PAD> <PAD> <PAD> <PAD> <PAD> <PAD> <PAD> <PAD> <PAD> <PAD> <PAD> <PAD> <PAD> <PAD> <PAD> <PAD> <PAD> <PAD> <PAD> <PAD> <PAD> <PAD> <PAD> <PAD> <PAD> <PAD> <PAD> <PAD> <PAD> <PAD> <PAD> <PAD> <PAD> <PAD>\n",
      "Sentence 5: <s> the crofts was not to be introduced </s> <PAD> <PAD> <PAD> <PAD> <PAD> <PAD> <PAD> <PAD> <PAD> <PAD> <PAD> <PAD> <PAD> <PAD> <PAD> <PAD> <PAD> <PAD> <PAD> <PAD> <PAD> <PAD> <PAD> <PAD> <PAD> <PAD> <PAD> <PAD> <PAD> <PAD> <PAD> <PAD> <PAD> <PAD> <PAD> <PAD>\n",
      "Sentence 6: <s> the crofts was not to be introduced </s> <PAD> <PAD> <PAD> <PAD> <PAD> <PAD> <PAD> <PAD> <PAD> <PAD> <PAD> <PAD> <PAD> <PAD> <PAD> <PAD> <PAD> <PAD> <PAD> <PAD> <PAD> <PAD> <PAD> <PAD> <PAD> <PAD> <PAD> <PAD> <PAD> <PAD> <PAD> <PAD> <PAD> <PAD> <PAD> <PAD>\n",
      "Sentence 7: <s> the crofts was not to be introduced </s> <PAD> <PAD> <PAD> <PAD> <PAD> <PAD> <PAD> <PAD> <PAD> <PAD> <PAD> <PAD> <PAD> <PAD> <PAD> <PAD> <PAD> <PAD> <PAD> <PAD> <PAD> <PAD> <PAD> <PAD> <PAD> <PAD> <PAD> <PAD> <PAD> <PAD> <PAD> <PAD> <PAD> <PAD> <PAD> <PAD>\n",
      "Sentence 8: <s> the crofts was not to be introduced </s> <PAD> <PAD> <PAD> <PAD> <PAD> <PAD> <PAD> <PAD> <PAD> <PAD> <PAD> <PAD> <PAD> <PAD> <PAD> <PAD> <PAD> <PAD> <PAD> <PAD> <PAD> <PAD> <PAD> <PAD> <PAD> <PAD> <PAD> <PAD> <PAD> <PAD> <PAD> <PAD> <PAD> <PAD> <PAD> <PAD>\n",
      "Sentence 9: <s> the crofts was not to be introduced </s> <PAD> <PAD> <PAD> <PAD> <PAD> <PAD> <PAD> <PAD> <PAD> <PAD> <PAD> <PAD> <PAD> <PAD> <PAD> <PAD> <PAD> <PAD> <PAD> <PAD> <PAD> <PAD> <PAD> <PAD> <PAD> <PAD> <PAD> <PAD> <PAD> <PAD> <PAD> <PAD> <PAD> <PAD> <PAD> <PAD>\n",
      "Sentence 10: <s> the crofts was not to be introduced </s> <PAD> <PAD> <PAD> <PAD> <PAD> <PAD> <PAD> <PAD> <PAD> <PAD> <PAD> <PAD> <PAD> <PAD> <PAD> <PAD> <PAD> <PAD> <PAD> <PAD> <PAD> <PAD> <PAD> <PAD> <PAD> <PAD> <PAD> <PAD> <PAD> <PAD> <PAD> <PAD> <PAD> <PAD> <PAD> <PAD>\n",
      "Sentence 11: <s> the crofts was not to be introduced </s> <PAD> <PAD> <PAD> <PAD> <PAD> <PAD> <PAD> <PAD> <PAD> <PAD> <PAD> <PAD> <PAD> <PAD> <PAD> <PAD> <PAD> <PAD> <PAD> <PAD> <PAD> <PAD> <PAD> <PAD> <PAD> <PAD> <PAD> <PAD> <PAD> <PAD> <PAD> <PAD> <PAD> <PAD> <PAD> <PAD>\n"
     ]
    }
   ],
   "source": [
    "seed_texts = [\"<s>\", \"<s> the\", \"<s> the hill\", \"<s> the\", \"<s> the\" , \"<s> the\", \n",
    "              \"<s> the\", \"<s> the\", \"<s> the\", \"<s> the\", \"<s> the\"]\n",
    "\n",
    "generated_sentences = []\n",
    "\n",
    "for seed in seed_texts:\n",
    "    sentence = generate_sentence_beam_search(model, seed, 45, vocabulary, idx_to_word)\n",
    "    generated_sentences.append(sentence)\n",
    "\n",
    "for i, sentence in enumerate(generated_sentences, 1):\n",
    "    print(f\"Sentence {i}: {sentence}\")"
   ]
  },
  {
   "cell_type": "code",
   "execution_count": 95,
   "metadata": {},
   "outputs": [],
   "source": [
    "# def generate_sentence_beam_search(model, seed_text, max_length, vocab, idx_to_word, beam_width=3):\n",
    "#     model.eval()\n",
    "#     hidden = model.init_hidden(1)\n",
    "\n",
    "#     # Initialize the beam as a list of tuples (sequence, score)\n",
    "#     start_idx = [vocab.get(word, vocab['<UNK>']) for word in seed_text.split()]\n",
    "#     beam = [(start_idx, 0)]\n",
    "\n",
    "#     for _ in range(max_length - len(start_idx)):\n",
    "#         candidates = []\n",
    "\n",
    "#         for seq, score in beam:\n",
    "#             sequence_tensor = torch.tensor([seq], dtype=torch.long)\n",
    "#             with torch.no_grad():\n",
    "#                 output, hidden = model(sequence_tensor, hidden)\n",
    "\n",
    "#             probabilities = F.softmax(output[0, -1], dim=0).cpu().numpy()\n",
    "\n",
    "#             # Consider all possible next words and their scores\n",
    "#             for idx, prob in enumerate(probabilities):\n",
    "#                 next_seq = seq + [idx]\n",
    "#                 next_score = score + np.log(prob)  # Use log probabilities for numerical stability\n",
    "#                 candidates.append((next_seq, next_score))\n",
    "\n",
    "#         # Keep only the top beam_width sequences\n",
    "#         ordered = sorted(candidates, key=lambda x: x[1], reverse=True)\n",
    "#         beam = ordered[:beam_width]\n",
    "\n",
    "#     # Select the sequence with the highest score\n",
    "#     best_sequence, _ = max(beam, key=lambda x: x[1])\n",
    "\n",
    "#     # Convert sequence of indices to words\n",
    "#     generated_sentence = ' '.join(idx_to_word[idx] for idx in best_sequence if idx in idx_to_word)\n",
    "\n",
    "#     return generated_sentence"
   ]
  },
  {
   "cell_type": "markdown",
   "metadata": {},
   "source": [
    "this had some issues, improved it below "
   ]
  },
  {
   "cell_type": "markdown",
   "metadata": {},
   "source": [
    "Temperature Parameter: This parameter is used to control the randomness in the prediction process. A higher temperature results in more random outputs, while a lower temperature leads to more predictable outputs."
   ]
  },
  {
   "cell_type": "code",
   "execution_count": 107,
   "metadata": {},
   "outputs": [],
   "source": [
    "def generate_sentence_beam_search(model, seed_text, max_length, vocab, idx_to_word, temp = 1.0, beam_width=10):\n",
    "    model.eval()\n",
    "    hidden = model.init_hidden(1)\n",
    "\n",
    "    # Initialize the beam as a list of tuples (index_seq, score)\n",
    "    index_seq = [vocab.get(word, vocab['<UNK>']) for word in seed_text.split()]\n",
    "    beam = [(index_seq, 0)]\n",
    "\n",
    "    for _ in range(max_length - len(index_seq)): # note: could stop earlier, but this isn't slow\n",
    "        candidates = []\n",
    "\n",
    "        for seq, score in beam:\n",
    "            sequence_tensor = torch.tensor([seq], dtype=torch.long)\n",
    "            with torch.no_grad():\n",
    "                output, hidden = model(sequence_tensor, hidden)\n",
    "\n",
    "            probabilities = F.softmax(output[0, -1] / temp, dim=0).numpy()\n",
    "\n",
    "            # Consider all possible next words and their scores\n",
    "            for idx, prob in enumerate(probabilities):\n",
    "                END_OF_SENT_IDX = 2\n",
    "                if seq[-1] == END_OF_SENT_IDX and idx != END_OF_SENT_IDX:\n",
    "                    # note: this is impossible\n",
    "                    continue\n",
    "                else:\n",
    "                    # perplexity calculation should incentivize stopping earlier than later, without over-incentivizing it, which this dampening\n",
    "                    # calculation is doing -- technically the perplexity_len could be any positive integer and would have a noticeable effect\n",
    "                    if idx == END_OF_SENT_IDX and seq[-1] == END_OF_SENT_IDX:   \n",
    "                        perplexity_len = len(seq)   # NOTE: len(seq) = len(next_seq) - 1 as would be sought, but just using here to dampen probability val\n",
    "                        next_score = score + (np.log(prob) / perplexity_len)   # note: technically exponents become factors of multiplication upon log\n",
    "                    else:\n",
    "                        next_score = score + np.log(prob)\n",
    "                    next_seq = seq + [idx]\n",
    "                    candidates.append((next_seq, next_score))\n",
    "\n",
    "        # Keep only the top beam_width sequences\n",
    "        ordered = sorted(candidates, key=lambda x: x[1], reverse=True)\n",
    "        beam = ordered[:beam_width]\n",
    "\n",
    "\n",
    "    # Convert sequences of indices to strings of words\n",
    "    beam_of_sentences = []\n",
    "    for sentence_list in beam:\n",
    "        generated_sentence = ' '.join(idx_to_word[idx] for idx in sentence_list[0] if idx in idx_to_word)\n",
    "        beam_of_sentences.append(generated_sentence)\n",
    "\n",
    "    return beam_of_sentences"
   ]
  },
  {
   "cell_type": "code",
   "execution_count": 108,
   "metadata": {},
   "outputs": [],
   "source": [
    "idx_to_word = {idx: word for word, idx in vocabulary.items()}"
   ]
  },
  {
   "cell_type": "code",
   "execution_count": 109,
   "metadata": {},
   "outputs": [
    {
     "name": "stdout",
     "output_type": "stream",
     "text": [
      "Sentence 1: <s> she wanted , however could be strong .\n",
      "Sentence 2: <s> the croft she did been uttered of her man , maintaining by the attention - the other she had he of by to humoured her .\n",
      "Sentence 3: <s> the hill at her which not recommend if captain wentworth , and seems of the likely enquiries for her and expressly to comprise for warm of excellent , which an any gentleman .\n",
      "Sentence 4: <s> the very happy had as they , had no tender , and quickly :\n",
      "Sentence 5: <s> the young emotions , may not seem .\n",
      "Sentence 6: <s> the first one spirits and the frightful an apparent observing acquaintance .\n",
      "Sentence 7: <s> the house musgroves in the good , as if unjust ,\n",
      "Sentence 8: <s> the country william ' s\n",
      "Sentence 9: <s> the little thing reached the evening obtrusiveness and a son and declining as a laconia , with offers saying him by itself component what - modes and this character of air ( and mr suddenly to have able met to omit desirable brother ,\n",
      "Sentence 10: <s> the feelings , whether anne , hardly what in\n",
      "Sentence 11: <s> the roused only an these - uppercross , when and the evil might been not , and if i believe he could recollect quite to desirable again .\n"
     ]
    }
   ],
   "source": [
    "seed_texts = [\"<s>\", \"<s> the croft\", \"<s> the hill\", \"<s> the\", \"<s> the\" , \"<s> the\", \n",
    "              \"<s> the\", \"<s> the\", \"<s> the\", \"<s> the\", \"<s> the\"]\n",
    "\n",
    "generated_sentences = []\n",
    "\n",
    "for seed in seed_texts:\n",
    "    sentence = generate_sentence(model, seed, 45, vocabulary, idx_to_word)\n",
    "    generated_sentences.append(sentence)\n",
    "\n",
    "for i, sentence in enumerate(generated_sentences, 1):\n",
    "    print(f\"Sentence {i}: {sentence}\")"
   ]
  },
  {
   "cell_type": "markdown",
   "metadata": {},
   "source": [
    "Below sentences are generateed without beam search. We can see that after beam search the punctuations are better "
   ]
  },
  {
   "cell_type": "code",
   "execution_count": 110,
   "metadata": {},
   "outputs": [],
   "source": [
    "# Sentence 1: <s> no there might her most there of their life .\n",
    "# Sentence 2: <s> the croft almost also she considered years in again : in each of the smile as seriously wants as intercourse beyond ; he is now , which sensations my more of those , brilliancy her wife how .\n",
    "# Sentence 3: <s> the hill and shame !\n",
    "# Sentence 4: <s> the credit park in fields at an soon\n",
    "# Sentence 5: <s> the intervals were finding by evening birth each life as not be claim\n",
    "# Sentence 6: <s> the to instance myself to give\n",
    "# Sentence 7: <s> the invitation object are an point .\n",
    "# Sentence 8: <s> the more view and her had intended a order to see every .\n",
    "# Sentence 9: <s> the historian which had difficult advantage to model twice , fix the in visits , nothing were compliance again ; but i must be longer , has soon my tone ; she could regard to plain to home .\n",
    "# Sentence 10: <s> the few staying of home acquaintance , not never have been afraid since an interchange , and gave and laura to gratify him\n",
    "# Sentence 11: <s> the almost of possession , and far if if elliot as you walked by this dignity of twenty ; he would come occasionally unimportant"
   ]
  },
  {
   "cell_type": "markdown",
   "metadata": {},
   "source": [
    "Asked ChatGPT how good the sentences generated by my word level language model were. This was the response:\n",
    "\n",
    "Vocabulary and Structure: The sentences reflect a good range of vocabulary and mimic the structure of natural language to some extent. They generally start with a clear opening and contain a mix of simple and complex structures.\n",
    "\n",
    "Contextual and Logical Flow: Many sentences lack logical consistency and contextual clarity. For example, Sentence 9 is quite lengthy and seems to lose coherence partway through.\n",
    "\n",
    "Relevance and Completeness: Some sentences (like Sentences 4, 5, 6, and 7) are incomplete or abruptly end, indicating a potential issue with how the model handles sentence termination.\n",
    "\n",
    "Grammatical Accuracy: While some sentences are grammatically correct, others contain errors or awkward constructions.\n",
    "\n",
    "In summary, while the model demonstrates an ability to generate sentences with a variety of structures and vocabulary, the overall coherence, logical flow, and grammatical accuracy are mixed. Fine-tuning the model, adjusting hyperparameters, or training on a more diverse or larger dataset might improve performance."
   ]
  },
  {
   "cell_type": "markdown",
   "metadata": {},
   "source": [
    "## Problem Three:  Part-of-Speech Tagging (40 pts)\n",
    "\n",
    "In this problem, we will experiment with three different approaches to the POS tagging problem, using\n",
    "the Brown Corpus as our data set. \n",
    "\n",
    "Before starting this problem, please review Lecture 13 and download the file <a href=\"https://www.cs.bu.edu/fac/snyder/cs505/Viterbi_Algorithm.ipynb\">Viterbi_Algorithm.ipynb</a> from the \n",
    "class web site. \n",
    "\n",
    "There are four parts to this problem:\n",
    "\n",
    "- Part A: You will establish a baseline accuracy for the task. \n",
    "- Part B: Using the implementation of the Viterbi algorithm for Hidden Markov Models you downloaded, you will determine how much better than the baseline you can do with this very standard method.\n",
    "- Part C: You will repeat the exercise of Part B, but using an LSTM implementation, exploring several options for the implementation of the LSTM layer.\n",
    "- Part D: You will evaluate your results, comparing the various methods in the context of the baseline method from Part A.\n",
    "- Optional: You may wish to try the same task with a transformer such as Bert. \n"
   ]
  },
  {
   "cell_type": "markdown",
   "metadata": {},
   "source": [
    "Recall that the Brown Corpus has a list of all sentences tagged with parts of speech. The tags are\n",
    "a bit odd, and not generally used any more, so we will use a much simpler set of tags the `universal_tagset`. \n",
    "\n",
    "If you run the following cells, you will see that there are 57,340 sentences, tagged with 12 different tags. \n",
    " "
   ]
  },
  {
   "cell_type": "code",
   "execution_count": 111,
   "metadata": {},
   "outputs": [
    {
     "name": "stderr",
     "output_type": "stream",
     "text": [
      "[nltk_data] Downloading package brown to\n",
      "[nltk_data]     /Users/gauravbindra/nltk_data...\n",
      "[nltk_data]   Package brown is already up-to-date!\n",
      "[nltk_data] Downloading package universal_tagset to\n",
      "[nltk_data]     /Users/gauravbindra/nltk_data...\n",
      "[nltk_data]   Package universal_tagset is already up-to-date!\n"
     ]
    },
    {
     "name": "stdout",
     "output_type": "stream",
     "text": [
      "There are 57340 sentences tagged with universal POS tags in the Brown Corpus.\n",
      "\n",
      "Here is the first sentence with universal tags: [('The', 'DET'), ('Fulton', 'NOUN'), ('County', 'NOUN'), ('Grand', 'ADJ'), ('Jury', 'NOUN'), ('said', 'VERB'), ('Friday', 'NOUN'), ('an', 'DET'), ('investigation', 'NOUN'), ('of', 'ADP'), (\"Atlanta's\", 'NOUN'), ('recent', 'ADJ'), ('primary', 'NOUN'), ('election', 'NOUN'), ('produced', 'VERB'), ('``', '.'), ('no', 'DET'), ('evidence', 'NOUN'), (\"''\", '.'), ('that', 'ADP'), ('any', 'DET'), ('irregularities', 'NOUN'), ('took', 'VERB'), ('place', 'NOUN'), ('.', '.')]\n"
     ]
    }
   ],
   "source": [
    "import numpy as np\n",
    "import nltk\n",
    "\n",
    "# The first time you will need to download the corpus:\n",
    "\n",
    "from nltk.corpus import brown\n",
    " \n",
    "nltk.download('brown')\n",
    "nltk.download('universal_tagset')\n",
    "\n",
    "tagged_sentences = brown.tagged_sents(tagset='universal')\n",
    "\n",
    "print(f'There are {len(tagged_sentences)} sentences tagged with universal POS tags in the Brown Corpus.')\n",
    "print(\"\\nHere is the first sentence with universal tags:\",tagged_sentences[0])"
   ]
  },
  {
   "cell_type": "code",
   "execution_count": 112,
   "metadata": {},
   "outputs": [
    {
     "name": "stdout",
     "output_type": "stream",
     "text": [
      "There are 12 universal tags in the Brown Corpus.\n",
      "['.', 'ADJ', 'ADP', 'ADV', 'CONJ', 'DET', 'NOUN', 'NUM', 'PRON', 'PRT', 'VERB', 'X']\n",
      "\n"
     ]
    }
   ],
   "source": [
    "# Uncomment to see the complete list of tags. \n",
    "\n",
    "all_tagged_words = np.concatenate(tagged_sentences)\n",
    "all_tags = sorted(set([pos for (w,pos) in all_tagged_words]))\n",
    "print(f'There are {len(all_tags)} universal tags in the Brown Corpus.')\n",
    "print(all_tags)\n",
    "print()\n"
   ]
  },
  {
   "cell_type": "code",
   "execution_count": null,
   "metadata": {},
   "outputs": [],
   "source": []
  },
  {
   "cell_type": "code",
   "execution_count": 184,
   "metadata": {},
   "outputs": [
    {
     "name": "stdout",
     "output_type": "stream",
     "text": [
      "[['The' 'DET']\n",
      " ['Fulton' 'NOUN']\n",
      " ['County' 'NOUN']\n",
      " ...\n",
      " ['was' 'VERB']\n",
      " ['stupefying' 'VERB']\n",
      " ['.' '.']]\n"
     ]
    }
   ],
   "source": [
    "print(all_tagged_words)"
   ]
  },
  {
   "cell_type": "markdown",
   "metadata": {
    "id": "VnB5z-ZoZEa5"
   },
   "source": [
    "### Part A\n",
    "\n",
    "In this part, you will establish a baseline for the task, using the naive method suggested on slide 35 of Lecture 13:\n",
    "\n",
    "- Tag every word with its most frequent POS tag (for example, if 'recent' is most frequently tagged as 'ADJ', then assume that every time 'recent' appears in a sentence, it should be tagged with 'ADJ'); \n",
    "- If a word has two or more most frequent tags, choose the one that appears first in the list of sorted tags above. \n",
    "\n",
    "Note that there will not be any \"unknown words.\" \n",
    " \n",
    "Use this method to determine your baseline accuracy (it may not be 92% as reported on slide 35!):\n",
    "\n",
    "- Build a dictionary mapping every word to its most frequent tag;\n",
    "- Go through the entire tagged corpus, and report the accuracy (percentage of correct tags) of this baseline method. \n",
    "\n",
    "Do not tokenize or lower-case the words. Use the words and tags exactly as they are in the tagged sentences. "
   ]
  },
  {
   "cell_type": "code",
   "execution_count": 113,
   "metadata": {},
   "outputs": [],
   "source": [
    "words_tags = brown.tagged_words(tagset='universal')\n",
    "\n",
    "# Counting the frequency of each tag for each word\n",
    "tag_freq = defaultdict(Counter)\n",
    "for word, tag in words_tags:\n",
    "    tag_freq[word][tag] += 1  \n",
    "\n",
    "# The list of sorted tags provided by the user\n",
    "user_defined_order = ['.', 'ADJ', 'ADP', 'ADV', 'CONJ', 'DET', 'NOUN', 'NUM', 'PRON', 'PRT', 'VERB', 'X']\n",
    "\n",
    "# Determining the most frequent tag for each word\n",
    "# If a tie exists, choose the tag that appears first in the user-defined order\n",
    "most_freq_tags = {}\n",
    "for word, counter in tag_freq.items():\n",
    "    most_common_tags = counter.most_common()\n",
    "    max_freq = most_common_tags[0][1]\n",
    "    tied_tags = [tag for tag, freq in most_common_tags if freq == max_freq]\n",
    "\n",
    "    # Sort tied tags based on the user-defined order and select the first one\n",
    "    sorted_tied_tags = sorted(tied_tags, key=lambda tag: user_defined_order.index(tag))\n",
    "    most_freq_tags[word] = sorted_tied_tags[0]\n",
    "\n"
   ]
  },
  {
   "cell_type": "code",
   "execution_count": 114,
   "metadata": {},
   "outputs": [
    {
     "data": {
      "text/plain": [
       "[('The', 'DET'),\n",
       " ('quick', 'ADJ'),\n",
       " ('brown', 'ADJ'),\n",
       " ('fox', 'NOUN'),\n",
       " ('jumps', 'NOUN'),\n",
       " ('over', 'ADP'),\n",
       " ('the', 'DET'),\n",
       " ('lazy', 'ADJ'),\n",
       " ('dog', 'NOUN')]"
      ]
     },
     "execution_count": 114,
     "metadata": {},
     "output_type": "execute_result"
    }
   ],
   "source": [
    "# Example of tagging a new sentence\n",
    "sample_sentence = \"The quick brown fox jumps over the lazy dog\".split()\n",
    "tagged_sentence = [(word, most_freq_tags.get(word, 'NOUN')) for word in sample_sentence]\n",
    "\n",
    "tagged_sentence"
   ]
  },
  {
   "cell_type": "markdown",
   "metadata": {},
   "source": [
    " If a word is not found in the dictionary, it defaults to 'NOUN'"
   ]
  },
  {
   "cell_type": "code",
   "execution_count": 115,
   "metadata": {},
   "outputs": [
    {
     "data": {
      "text/plain": [
       "94.69467581588574"
      ]
     },
     "execution_count": 115,
     "metadata": {},
     "output_type": "execute_result"
    }
   ],
   "source": [
    "# Tagging the entire corpus with the most frequent tags\n",
    "re_tagged_corpus = [(word, most_freq_tags.get(word.lower(), 'NOUN')) for word, _ in words_tags]\n",
    "\n",
    "# Calculating accuracy\n",
    "correct_tags = sum(original_tag == re_tagged_tag for (_, original_tag), (_, re_tagged_tag) in zip(words_tags, re_tagged_corpus))\n",
    "accuracy = correct_tags / len(words_tags) * 100\n",
    "\n",
    "accuracy"
   ]
  },
  {
   "cell_type": "markdown",
   "metadata": {},
   "source": [
    "94.69 is pretty good accuracy. This shows that most words just follow their most common POS tagged. "
   ]
  },
  {
   "cell_type": "markdown",
   "metadata": {},
   "source": [
    "### Part B:  \n",
    "\n",
    "Now, review the `Viterbi.ipynb` notebook and read through Section 8.4 in Jurafsky & Martin to understand the basic approach that is used in the \"Janet will back the bill\" example. In detail:\n",
    "\n",
    "- Cut and paste the code from the Viterby notebook below and run your experiments in this notebook. \n",
    "- You need to calculate from the Brown Corpus tagged sentences the probabilities for the various matrices used as input to the method:\n",
    "   - `start_p`: This is the probability that a sentence starts with a given POS (in Figure 8.12 in J & M, this is given as the first line, in the row for `<s>`; simply collect the statistics for the first word in each sentence; it will be of size 1 x 12. \n",
    "   - `trans_p`: This is the matrix of probabilities that one POS follows another in a sentence; build a 12 x 12 matrix of frequencies for whether the column POS follows the row POS in a sentence and then normalize each row so that it is a probability distribution (each row should add to 1.0)\n",
    "   - `emit_p`: This is a matrix of size 12 x N, where N is the number of unique words in the corpus, which for each POS (the row) gives the probability that this POS in the output sequence corresponds to a specific word (the column) in the input sequence; again, you should collect frequency statistics about the relationship between POS and words, and normalize so that every row sums to 1.0. \n",
    "   \n",
    "Then run the algorithm on all the sentences in the tagged corpus, and determine the accuracy of the Viterbi algorithm. Again, the accuracy is calculated on each word, not on sentences as a whole. \n",
    "\n",
    "Report your results as a raw accuracy score, and in the two ways that were suggested on slide 12 of Lecture 11: percentage above the baseline established in Part A, and Cohen's Kappa. "
   ]
  },
  {
   "cell_type": "code",
   "execution_count": 130,
   "metadata": {},
   "outputs": [],
   "source": [
    "# Viterbi code should be pasted here\n",
    "\n",
    "# def viterbi(obs_sequence, obs, states, start_p, trans_p, emit_p, logspace=True):\n",
    "    \n",
    "#     V = [{}]\n",
    "#     for st in states:\n",
    "#         # Check if the word is in the emission probabilities and handle unknown words\n",
    "#         emit_prob = emit_p[st].get(obs_sequence[0].lower(), float('-inf')) if logspace else emit_p[st].get(obs_sequence[0].lower(), 0)\n",
    "#         if logspace:\n",
    "#             V[0][st] = {\"prob\": start_p[st] + emit_prob, \"prev\": None}\n",
    "#         else:\n",
    "#             V[0][st] = {\"prob\": start_p[st] * emit_prob, \"prev\": None}\n",
    "        \n",
    "#     # Run Viterbi when t > 0\n",
    "#     for t in range(1, len(obs_sequence)):\n",
    "#         V.append({})\n",
    "#         for st in states:\n",
    "#             max_tr_prob, prev_st_selected = None, None\n",
    "#             for prev_st in states:\n",
    "#                 tr_prob = V[t - 1][prev_st][\"prob\"] + trans_p[prev_st].get(st, float('-inf')) if logspace else V[t - 1][prev_st][\"prob\"] * trans_p[prev_st].get(st, 0)\n",
    "#                 if max_tr_prob is None or tr_prob > max_tr_prob:\n",
    "#                     max_tr_prob, prev_st_selected = tr_prob, prev_st\n",
    "\n",
    "#             emit_prob = emit_p[st].get(obs_sequence[t].lower(), float('-inf')) if logspace else emit_p[st].get(obs_sequence[t].lower(), 0)\n",
    "#             max_prob = max_tr_prob + emit_prob if logspace else max_tr_prob * emit_prob\n",
    "#             V[t][st] = {\"prob\": max_prob, \"prev\": prev_st_selected}\n",
    "\n",
    "#     # Backtracking to find the best path\n",
    "#     opt, max_prob, best_st = [], float('-inf'), None\n",
    "#     for st, data in V[-1].items():\n",
    "#         if data[\"prob\"] > max_prob:\n",
    "#             max_prob, best_st = data[\"prob\"], st\n",
    "#     opt.append(best_st)\n",
    "#     previous = best_st\n",
    "\n",
    "#     for t in range(len(V) - 2, -1, -1):\n",
    "#         opt.insert(0, V[t + 1][previous][\"prev\"])\n",
    "#         previous = V[t + 1][previous][\"prev\"]\n",
    "\n",
    "#     return opt, max_prob"
   ]
  },
  {
   "cell_type": "code",
   "execution_count": 117,
   "metadata": {},
   "outputs": [],
   "source": [
    "# Counting the frequency of each tag as the first tag in a sentence\n",
    "first_tag_freq = defaultdict(int)\n",
    "for sentence in tagged_sentences:\n",
    "    if sentence:  # Check if the sentence is not empty\n",
    "        first_tag = sentence[0][1]  # Get the tag of the first word in the sentence\n",
    "        first_tag_freq[first_tag] += 1\n",
    "\n",
    "# Calculating the total number of sentences\n",
    "total_sentences = len(tagged_sentences)\n",
    "\n",
    "# Calculating the probability of each tag being the first tag\n",
    "start_p = {tag: count / total_sentences for tag, count in first_tag_freq.items()}"
   ]
  },
  {
   "cell_type": "code",
   "execution_count": 118,
   "metadata": {},
   "outputs": [
    {
     "data": {
      "text/plain": [
       "{'DET': 0.21342867108475758,\n",
       " '.': 0.08892570631321939,\n",
       " 'PRON': 0.15969654691314963,\n",
       " 'NOUN': 0.1411405650505755,\n",
       " 'ADV': 0.0913498430415068,\n",
       " 'ADP': 0.1228461806766655,\n",
       " 'VERB': 0.04513428671084758,\n",
       " 'NUM': 0.016811998604813395,\n",
       " 'CONJ': 0.049128008371119636,\n",
       " 'ADJ': 0.034339030345308684,\n",
       " 'PRT': 0.036675967910708054,\n",
       " 'X': 0.0005231949773282176}"
      ]
     },
     "execution_count": 118,
     "metadata": {},
     "output_type": "execute_result"
    }
   ],
   "source": [
    "start_p"
   ]
  },
  {
   "cell_type": "markdown",
   "metadata": {},
   "source": [
    "These probabilities sum up to 1. Now we will convert these to log probabilities "
   ]
  },
  {
   "cell_type": "code",
   "execution_count": 119,
   "metadata": {},
   "outputs": [],
   "source": [
    "start_p_log = {}\n",
    "for tag, prob in start_p.items():\n",
    "    if prob > 0:\n",
    "        start_p_log[tag] = np.log(prob)\n",
    "    else:\n",
    "        start_p_log[tag] = float('-inf')"
   ]
  },
  {
   "cell_type": "code",
   "execution_count": 120,
   "metadata": {},
   "outputs": [
    {
     "data": {
      "text/plain": [
       "{'DET': -1.5444525954148751,\n",
       " '.': -2.4199540183822053,\n",
       " 'PRON': -1.8344798463296288,\n",
       " 'NOUN': -1.957998969941659,\n",
       " 'ADV': -2.3930587143697037,\n",
       " 'ADP': -2.096822269821264,\n",
       " 'VERB': -3.09811308381657,\n",
       " 'NUM': -4.0856624448268155,\n",
       " 'CONJ': -3.013325971560988,\n",
       " 'ADJ': -3.3714726607982355,\n",
       " 'PRT': -3.305633563734661,\n",
       " 'X': -7.555556357775205}"
      ]
     },
     "execution_count": 120,
     "metadata": {},
     "output_type": "execute_result"
    }
   ],
   "source": [
    "start_p_log "
   ]
  },
  {
   "cell_type": "markdown",
   "metadata": {},
   "source": [
    "These obviously dont sum up to 1 "
   ]
  },
  {
   "cell_type": "markdown",
   "metadata": {},
   "source": [
    "This approach maintains the relative differences between probabilities while making them more manageable for computational purposes, especially when dealing with products of multiple probabilities in sequence models."
   ]
  },
  {
   "cell_type": "code",
   "execution_count": 121,
   "metadata": {},
   "outputs": [],
   "source": [
    "trans_matrix = defaultdict(lambda: defaultdict(int))\n",
    "\n",
    "# Populate the transition matrix with frequencies\n",
    "for sentence in tagged_sentences:\n",
    "    for i in range(len(sentence) - 1):\n",
    "        current_tag = sentence[i][1]\n",
    "        next_tag = sentence[i + 1][1]\n",
    "        trans_matrix[current_tag][next_tag] += 1\n",
    "\n",
    "# Normalize each row to convert frequencies to probabilities\n",
    "trans_p = defaultdict(dict)\n",
    "for current_tag, next_tag_counts in trans_matrix.items():\n",
    "    total_counts = sum(next_tag_counts.values())\n",
    "    for next_tag, count in next_tag_counts.items():\n",
    "        trans_p[current_tag][next_tag] = count / total_counts if total_counts > 0 else 0"
   ]
  },
  {
   "cell_type": "markdown",
   "metadata": {},
   "source": [
    "This trans_p matrix represents the transition probabilities between tags and is a crucial component for the Viterbi algorithm in POS tagging, as it quantifies how likely a tag is to follow another in the corpus."
   ]
  },
  {
   "cell_type": "code",
   "execution_count": 1,
   "metadata": {},
   "outputs": [],
   "source": [
    "# trans_p \n"
   ]
  },
  {
   "cell_type": "code",
   "execution_count": 123,
   "metadata": {},
   "outputs": [],
   "source": [
    "trans_p_log = defaultdict(dict)\n",
    "for current_tag, next_tag_probs in trans_p.items():\n",
    "    for next_tag, prob in next_tag_probs.items():\n",
    "        if prob > 0:\n",
    "            trans_p_log[current_tag][next_tag] = np.log(prob)\n",
    "        else:\n",
    "            trans_p_log[current_tag][next_tag] = float('-inf')"
   ]
  },
  {
   "cell_type": "code",
   "execution_count": 2,
   "metadata": {},
   "outputs": [],
   "source": [
    "# trans_p_log"
   ]
  },
  {
   "cell_type": "code",
   "execution_count": 125,
   "metadata": {},
   "outputs": [],
   "source": [
    "tagged_words = brown.tagged_words(tagset='universal')\n",
    "\n",
    "# Initialize the emission matrix\n",
    "emit_matrix = defaultdict(lambda: defaultdict(int))\n",
    "\n",
    "# Populate the emission matrix with frequencies\n",
    "for word, tag in tagged_words:\n",
    "    emit_matrix[tag][word.lower()] += 1  # Using lower case for generalization\n",
    "\n",
    "# Normalize each row to convert frequencies to probabilities\n",
    "emit_p = defaultdict(dict)\n",
    "for tag, word_counts in emit_matrix.items():\n",
    "    total_counts = sum(word_counts.values())\n",
    "    for word, count in word_counts.items():\n",
    "        emit_p[tag][word] = count / total_counts if total_counts > 0 else 0"
   ]
  },
  {
   "cell_type": "code",
   "execution_count": 3,
   "metadata": {},
   "outputs": [],
   "source": [
    "# emit_p"
   ]
  },
  {
   "cell_type": "markdown",
   "metadata": {},
   "source": [
    "This emit_p matrix is a key component of the Hidden Markov Model (HMM) for POS tagging, as it quantifies the likelihood of each word being generated by each POS tag.\n"
   ]
  },
  {
   "cell_type": "code",
   "execution_count": 127,
   "metadata": {},
   "outputs": [],
   "source": [
    "emit_p_log = defaultdict(dict)\n",
    "for tag, word_probs in emit_p.items():\n",
    "    for word, prob in word_probs.items():\n",
    "        if prob > 0:\n",
    "            emit_p_log[tag][word] = np.log(prob)\n",
    "        else:\n",
    "            emit_p_log[tag][word] = float('-inf')"
   ]
  },
  {
   "cell_type": "code",
   "execution_count": 4,
   "metadata": {},
   "outputs": [],
   "source": [
    "# emit_p_log"
   ]
  },
  {
   "cell_type": "code",
   "execution_count": 129,
   "metadata": {},
   "outputs": [],
   "source": [
    "def viterbi(obs_sequence, obs, states, start_p, trans_p, emit_p, logspace=True):\n",
    "    \n",
    "    V = [{}]\n",
    "    for st in states:\n",
    "        # Check if the word is in the emission probabilities and handle unknown words\n",
    "        emit_prob = emit_p[st].get(obs_sequence[0].lower(), float('-inf')) if logspace else emit_p[st].get(obs_sequence[0].lower(), 0)\n",
    "        if logspace:\n",
    "            V[0][st] = {\"prob\": start_p[st] + emit_prob, \"prev\": None}\n",
    "        else:\n",
    "            V[0][st] = {\"prob\": start_p[st] * emit_prob, \"prev\": None}\n",
    "        \n",
    "    # Run Viterbi when t > 0\n",
    "    for t in range(1, len(obs_sequence)):\n",
    "        V.append({})\n",
    "        for st in states:\n",
    "            max_tr_prob, prev_st_selected = None, None\n",
    "            for prev_st in states:\n",
    "                tr_prob = V[t - 1][prev_st][\"prob\"] + trans_p[prev_st].get(st, float('-inf')) if logspace else V[t - 1][prev_st][\"prob\"] * trans_p[prev_st].get(st, 0)\n",
    "                if max_tr_prob is None or tr_prob > max_tr_prob:\n",
    "                    max_tr_prob, prev_st_selected = tr_prob, prev_st\n",
    "\n",
    "            emit_prob = emit_p[st].get(obs_sequence[t].lower(), float('-inf')) if logspace else emit_p[st].get(obs_sequence[t].lower(), 0)\n",
    "            max_prob = max_tr_prob + emit_prob if logspace else max_tr_prob * emit_prob\n",
    "            V[t][st] = {\"prob\": max_prob, \"prev\": prev_st_selected}\n",
    "\n",
    "    # Backtracking to find the best path\n",
    "    opt, max_prob, best_st = [], float('-inf'), None\n",
    "    for st, data in V[-1].items():\n",
    "        if data[\"prob\"] > max_prob:\n",
    "            max_prob, best_st = data[\"prob\"], st\n",
    "    opt.append(best_st)\n",
    "    previous = best_st\n",
    "\n",
    "    for t in range(len(V) - 2, -1, -1):\n",
    "        opt.insert(0, V[t + 1][previous][\"prev\"])\n",
    "        previous = V[t + 1][previous][\"prev\"]\n",
    "\n",
    "    return opt, max_prob"
   ]
  },
  {
   "cell_type": "markdown",
   "metadata": {},
   "source": [
    "Algorithm steps \n",
    "\n",
    "nitialization: The first step initializes the Viterbi path probability for each state (POS tag) at the first observation (word in the sentence) based on start probabilities (start_p) and emission probabilities (emit_p). The algorithm correctly handles unknown words by assigning the lowest possible probability (or zero in non-log space).\n",
    "\n",
    "Iteration Over Observations: For each subsequent word in the observed sequence, it calculates the maximum probability path to each state, considering the transition probabilities (trans_p) and emission probabilities.\n",
    "\n",
    "Backtracking: After the forward pass through the observation sequence, the algorithm backtracks to find the most probable path of states (POS tags) for the entire sequence.\n",
    "\n",
    "Logarithmic Mode: The algorithm can operate in logarithmic space (logspace=True) to handle the small probabilities effectively and avoid underflow, a common issue in such computations."
   ]
  },
  {
   "cell_type": "code",
   "execution_count": 131,
   "metadata": {},
   "outputs": [
    {
     "name": "stdout",
     "output_type": "stream",
     "text": [
      "Accuracy: 97.39%\n"
     ]
    }
   ],
   "source": [
    "correct_tags = 0\n",
    "total_tags = 0\n",
    "states = set(tag for word, tag in tagged_words)\n",
    "states = list(states)\n",
    "\n",
    "for sentence in tagged_sentences:\n",
    "    # Extract words and actual tags\n",
    "    words = [word for word, tag in sentence]\n",
    "    actual_tags = [tag for word, tag in sentence]\n",
    "\n",
    "    # Run Viterbi algorithm with log probabilities\n",
    "    predicted_tags, _ = viterbi(words, words, states, start_p_log, trans_p_log, emit_p_log, logspace=True)\n",
    "\n",
    "    # Compare predicted tags with actual tags\n",
    "    correct_tags += sum(p_tag == a_tag for p_tag, a_tag in zip(predicted_tags, actual_tags))\n",
    "    total_tags += len(sentence)\n",
    "\n",
    "# Calculate accuracy\n",
    "accuracy = correct_tags / total_tags if total_tags > 0 else 0\n",
    "\n",
    "print(f\"Accuracy: {accuracy * 100:.2f}%\")"
   ]
  },
  {
   "cell_type": "markdown",
   "metadata": {},
   "source": [
    "Improvement over baseline = 2.7%"
   ]
  },
  {
   "cell_type": "code",
   "execution_count": 132,
   "metadata": {},
   "outputs": [
    {
     "data": {
      "text/plain": [
       "2.700000000000003"
      ]
     },
     "execution_count": 132,
     "metadata": {},
     "output_type": "execute_result"
    }
   ],
   "source": [
    "97.39 - 94.69"
   ]
  },
  {
   "cell_type": "code",
   "execution_count": 134,
   "metadata": {},
   "outputs": [],
   "source": [
    "def cohens_kappa(accuracy, baseline_accuracy):\n",
    "    num = accuracy-baseline_accuracy\n",
    "    den = 1.0 - baseline_accuracy \n",
    "    return num/den"
   ]
  },
  {
   "cell_type": "code",
   "execution_count": 136,
   "metadata": {},
   "outputs": [
    {
     "name": "stdout",
     "output_type": "stream",
     "text": [
      "0.5084745762711865\n"
     ]
    }
   ],
   "source": [
    "print(cohens_kappa(.9739, .9469))"
   ]
  },
  {
   "cell_type": "markdown",
   "metadata": {},
   "source": [
    "closer to 1 is desired but .508 suggests moderate agreement \n"
   ]
  },
  {
   "cell_type": "markdown",
   "metadata": {},
   "source": []
  },
  {
   "cell_type": "markdown",
   "metadata": {},
   "source": [
    "### Part C:  \n",
    "\n",
    "Next, you will need to develop an LSTM model to solve this problem. You may find it useful to\n",
    "refer to the following, which presents an approach in Keras.\n",
    "\n",
    "https://www.kaggle.com/code/tanyadayanand/pos-tagging-using-rnn/notebook\n",
    "\n",
    "\n",
    "You must do the following for this part:\n",
    "\n",
    "- Develop your code in Pytorch (of course!);\n",
    "- Use pretrained GloVe embeddings of dimension 200 and update them with the brown sentences; if you run into problems with RAM, you may use a smaller embedding dimension; \n",
    "- Truncate all sentences to a maximum of length 100 tokens, and pad shorter sentences (as in the reference above);\n",
    "- Use an LSTM model and try several different choices for the parameters to the layer:\n",
    "  - `hidden_size`:  Try several different widths for the layer\n",
    "  - `bidirectional`: Try unidirectional (False) and bidirectional (True)\n",
    "  - `num_layers`: Try 1 layer and 2 layers\n",
    "  - `dropout`: In the case of 2 layers, try several different dropouts, including 0.\n",
    "- Use early stopping with `patience = 50`;  \n",
    "You do not have to try every possible combination of these parameter choices; a good strategy is to\n",
    "try them separately, and then try a couple of combinations of the best choices of each. \n",
    "\n",
    "It is your choice about the other hyperparameters.  \n",
    "\n",
    "Provide a brief discussion of what you discovered, your best loss and accuracy measures for\n",
    "validation, and three versions of your testing accuracy, as in Part B.  "
   ]
  },
  {
   "cell_type": "code",
   "execution_count": 245,
   "metadata": {},
   "outputs": [
    {
     "name": "stderr",
     "output_type": "stream",
     "text": [
      "[nltk_data] Downloading package brown to\n",
      "[nltk_data]     /Users/gauravbindra/nltk_data...\n",
      "[nltk_data]   Package brown is already up-to-date!\n",
      "[nltk_data] Downloading package universal_tagset to\n",
      "[nltk_data]     /Users/gauravbindra/nltk_data...\n",
      "[nltk_data]   Package universal_tagset is already up-to-date!\n"
     ]
    },
    {
     "name": "stdout",
     "output_type": "stream",
     "text": [
      "Epoch 1, Train Loss: 0.4415715837229202, Validation Loss: 0.31242254885231574\n",
      "Epoch 2, Train Loss: 0.2373056224017114, Validation Loss: 0.1845006322299977\n",
      "Epoch 3, Train Loss: 0.1614218174164048, Validation Loss: 0.14181793449959273\n",
      "Epoch 4, Train Loss: 0.13103973445236528, Validation Loss: 0.1200516473904304\n",
      "Epoch 5, Train Loss: 0.1135922578904768, Validation Loss: 0.10621499163763863\n",
      "Epoch 6, Train Loss: 0.10208852928206519, Validation Loss: 0.09679583417258196\n",
      "Epoch 7, Train Loss: 0.09403508140948304, Validation Loss: 0.08997246706111921\n",
      "Epoch 8, Train Loss: 0.0880648998905756, Validation Loss: 0.08479324415429959\n",
      "Epoch 9, Train Loss: 0.08339034851052601, Validation Loss: 0.08063952806519299\n",
      "Epoch 10, Train Loss: 0.07954508977850416, Validation Loss: 0.07720213663806483\n",
      "Epoch 11, Train Loss: 0.07626716062140756, Validation Loss: 0.07415783426072124\n",
      "Epoch 12, Train Loss: 0.07336943526123021, Validation Loss: 0.07148689746804769\n",
      "Epoch 13, Train Loss: 0.0707603965600938, Validation Loss: 0.06905944549352035\n",
      "Epoch 14, Train Loss: 0.06837005560215702, Validation Loss: 0.06681932721819196\n",
      "Epoch 15, Train Loss: 0.06614340785582272, Validation Loss: 0.0647114505050282\n",
      "Epoch 16, Train Loss: 0.06406276907898492, Validation Loss: 0.06272005854427606\n",
      "Epoch 17, Train Loss: 0.06210866872523282, Validation Loss: 0.06085360299419443\n",
      "Epoch 18, Train Loss: 0.06026349133554498, Validation Loss: 0.05913479332828356\n",
      "Epoch 19, Train Loss: 0.05852998843142128, Validation Loss: 0.057512512281277454\n",
      "Epoch 20, Train Loss: 0.056891589983323394, Validation Loss: 0.05595372320000303\n",
      "Epoch 21, Train Loss: 0.055353792938026225, Validation Loss: 0.05447604054202186\n",
      "Epoch 22, Train Loss: 0.05390307808062671, Validation Loss: 0.053143224065623634\n",
      "Epoch 23, Train Loss: 0.05253080493967847, Validation Loss: 0.05182574628381779\n",
      "Epoch 24, Train Loss: 0.051249345413749384, Validation Loss: 0.05064835806315576\n",
      "Epoch 25, Train Loss: 0.05004068419057957, Validation Loss: 0.04950602923743816\n",
      "Epoch 26, Train Loss: 0.04890580599236041, Validation Loss: 0.048437679815998474\n",
      "Epoch 27, Train Loss: 0.04782826010115061, Validation Loss: 0.047465667874918994\n",
      "Epoch 28, Train Loss: 0.04681751259814529, Validation Loss: 0.04652351063095319\n",
      "Epoch 29, Train Loss: 0.04586749420109113, Validation Loss: 0.04563887085025734\n",
      "Epoch 30, Train Loss: 0.04496587174372145, Validation Loss: 0.04477887354038318\n",
      "Epoch 31, Train Loss: 0.04410761215098027, Validation Loss: 0.04397315226287584\n",
      "Epoch 32, Train Loss: 0.0432967359042599, Validation Loss: 0.04324803522135738\n",
      "Epoch 33, Train Loss: 0.04253652211483292, Validation Loss: 0.042520466043195246\n",
      "Epoch 34, Train Loss: 0.04180989392530481, Validation Loss: 0.0418886664722647\n",
      "Epoch 35, Train Loss: 0.04112270134221031, Validation Loss: 0.04126261851591308\n",
      "Epoch 36, Train Loss: 0.04046715149832946, Validation Loss: 0.04064619772214092\n",
      "Epoch 37, Train Loss: 0.03983624385379144, Validation Loss: 0.040131845696462574\n",
      "Epoch 38, Train Loss: 0.03924003469984274, Validation Loss: 0.03953665544243225\n",
      "Epoch 39, Train Loss: 0.03867028410032509, Validation Loss: 0.03897337766059184\n",
      "Epoch 40, Train Loss: 0.03813017712810191, Validation Loss: 0.03847402734000508\n",
      "Epoch 41, Train Loss: 0.03761347595020908, Validation Loss: 0.038000272048267336\n",
      "Epoch 42, Train Loss: 0.03711004513490429, Validation Loss: 0.03756972247870957\n",
      "Epoch 43, Train Loss: 0.036631006278169086, Validation Loss: 0.03713012645702537\n",
      "Epoch 44, Train Loss: 0.0361749146948873, Validation Loss: 0.03668021756623473\n",
      "Epoch 45, Train Loss: 0.035738321475899004, Validation Loss: 0.03631438092954898\n",
      "Epoch 46, Train Loss: 0.035307099248600086, Validation Loss: 0.03591221018016131\n",
      "Epoch 47, Train Loss: 0.03489492279692588, Validation Loss: 0.035623251671419325\n",
      "Epoch 48, Train Loss: 0.03450116320937846, Validation Loss: 0.03519142489192378\n",
      "Epoch 49, Train Loss: 0.03412273499884082, Validation Loss: 0.034848060322607434\n",
      "Epoch 50, Train Loss: 0.033755216935897975, Validation Loss: 0.0345504120096097\n",
      "Epoch 51, Train Loss: 0.033398305531185196, Validation Loss: 0.03419811510925509\n",
      "Epoch 52, Train Loss: 0.03306054145604398, Validation Loss: 0.03389021655616029\n",
      "Epoch 53, Train Loss: 0.0327307733300336, Validation Loss: 0.03359941789030198\n",
      "Epoch 54, Train Loss: 0.03240341908820526, Validation Loss: 0.03333979908000509\n",
      "Epoch 55, Train Loss: 0.032089107547283384, Validation Loss: 0.03305591974498295\n",
      "Epoch 56, Train Loss: 0.03178369583368769, Validation Loss: 0.032744309264608376\n",
      "Epoch 57, Train Loss: 0.031489232496570374, Validation Loss: 0.03251628353802377\n",
      "Epoch 58, Train Loss: 0.031204662718521892, Validation Loss: 0.03228027900544608\n",
      "Epoch 59, Train Loss: 0.030932168736111994, Validation Loss: 0.032038695201641175\n",
      "Epoch 60, Train Loss: 0.030657847948638687, Validation Loss: 0.03177019405967267\n",
      "Epoch 61, Train Loss: 0.030397392562554002, Validation Loss: 0.03151613847070247\n",
      "Epoch 62, Train Loss: 0.03014208218074666, Validation Loss: 0.03131634911411938\n",
      "Epoch 63, Train Loss: 0.02989309081936023, Validation Loss: 0.031088481485220615\n",
      "Epoch 64, Train Loss: 0.029645632124248544, Validation Loss: 0.030857188075469347\n",
      "Epoch 65, Train Loss: 0.029410346385997696, Validation Loss: 0.030693163238595587\n",
      "Epoch 66, Train Loss: 0.029182382681469554, Validation Loss: 0.030494886538085207\n",
      "Epoch 67, Train Loss: 0.02895568659140971, Validation Loss: 0.030296228014789393\n",
      "Epoch 68, Train Loss: 0.02873100716955213, Validation Loss: 0.030056752793438966\n",
      "Epoch 69, Train Loss: 0.02852286577936012, Validation Loss: 0.02991861093283115\n",
      "Epoch 70, Train Loss: 0.028307241269118544, Validation Loss: 0.029701533139998074\n",
      "Epoch 71, Train Loss: 0.028106966319005958, Validation Loss: 0.029503149743019912\n",
      "Epoch 72, Train Loss: 0.027904364209761803, Validation Loss: 0.029401253383178328\n",
      "Epoch 73, Train Loss: 0.027705895522026364, Validation Loss: 0.02917227489737476\n",
      "Epoch 74, Train Loss: 0.027512172331226423, Validation Loss: 0.0290351057626333\n",
      "Epoch 75, Train Loss: 0.02732231088693935, Validation Loss: 0.028902323702382708\n",
      "Epoch 76, Train Loss: 0.027142918299243778, Validation Loss: 0.028785097101242493\n",
      "Epoch 77, Train Loss: 0.02696506952121529, Validation Loss: 0.02860715204220304\n",
      "Epoch 78, Train Loss: 0.02678330923627929, Validation Loss: 0.028463598947569675\n",
      "Epoch 79, Train Loss: 0.026611060828925375, Validation Loss: 0.028364272771941867\n",
      "Epoch 80, Train Loss: 0.026440020527206717, Validation Loss: 0.028118218343951562\n",
      "Epoch 81, Train Loss: 0.02627158478964461, Validation Loss: 0.02798411489272886\n",
      "Epoch 82, Train Loss: 0.02610781681809149, Validation Loss: 0.02784874307102027\n",
      "Epoch 83, Train Loss: 0.025952068551296552, Validation Loss: 0.027759899735736306\n",
      "Epoch 84, Train Loss: 0.025788792244986078, Validation Loss: 0.027569189985714306\n",
      "Epoch 85, Train Loss: 0.02563412948215174, Validation Loss: 0.02748513962580248\n",
      "Epoch 86, Train Loss: 0.025487201656162115, Validation Loss: 0.027333489482904354\n",
      "Epoch 87, Train Loss: 0.025334069412770017, Validation Loss: 0.027240296952322593\n",
      "Epoch 88, Train Loss: 0.02519363525007716, Validation Loss: 0.027108706829206245\n",
      "Epoch 89, Train Loss: 0.02504716980910057, Validation Loss: 0.02698360479563371\n",
      "Epoch 90, Train Loss: 0.024903037491942243, Validation Loss: 0.02685099849574761\n",
      "Epoch 91, Train Loss: 0.02475849357973573, Validation Loss: 0.02675855266196387\n",
      "Epoch 92, Train Loss: 0.024628466968737224, Validation Loss: 0.026632287844574203\n",
      "Epoch 93, Train Loss: 0.024493407237212765, Validation Loss: 0.026533631471599022\n",
      "Epoch 94, Train Loss: 0.024354625324399554, Validation Loss: 0.026416720819208473\n",
      "Epoch 95, Train Loss: 0.024222494666517404, Validation Loss: 0.0264459147737832\n",
      "Epoch 96, Train Loss: 0.02409783184184078, Validation Loss: 0.02627199765891875\n",
      "Epoch 97, Train Loss: 0.023974851571971836, Validation Loss: 0.026143274581520607\n",
      "Epoch 98, Train Loss: 0.02385198546097709, Validation Loss: 0.026060424271309002\n",
      "Epoch 99, Train Loss: 0.023728748864259606, Validation Loss: 0.025955333588612413\n",
      "Epoch 100, Train Loss: 0.023606155899945247, Validation Loss: 0.025846895180928166\n"
     ]
    }
   ],
   "source": [
    "import numpy as np\n",
    "import torch\n",
    "import torch.nn as nn\n",
    "import torch.optim as optim\n",
    "from torch.utils.data import Dataset, DataLoader\n",
    "from nltk.corpus import brown\n",
    "import nltk\n",
    "from collections import Counter\n",
    "from sklearn.model_selection import train_test_split\n",
    "\n",
    "# Load the dataset\n",
    "nltk.download('brown')\n",
    "nltk.download('universal_tagset')\n",
    "sentences = brown.tagged_sents(tagset='universal')\n",
    "\n",
    "# Create vocabularies for words and tags\n",
    "word_counts = Counter(word.lower() for sentence in sentences for word, _ in sentence)\n",
    "tag_counts = Counter(tag for sentence in sentences for _, tag in sentence)\n",
    "\n",
    "word2idx = {word: i + 2 for i, (word, _) in enumerate(word_counts.items())}\n",
    "word2idx[\"<PAD>\"] = 0  # Padding token\n",
    "word2idx[\"<UNK>\"] = 1  # Unknown word token\n",
    "tag2idx = {tag: i for i, (tag, _) in enumerate(tag_counts.items())}\n",
    "\n",
    "# Function to load GloVe embeddings\n",
    "def load_glove_embeddings(path, word2idx, embedding_dim):\n",
    "    with open(path, 'r', encoding='utf-8') as f:\n",
    "        embeddings = np.zeros((len(word2idx), embedding_dim))\n",
    "        for line in f:\n",
    "            values = line.split()\n",
    "            word = values[0]\n",
    "            vector = np.asarray(values[1:], dtype='float32')\n",
    "            idx = word2idx.get(word)\n",
    "            if idx:\n",
    "                embeddings[idx] = vector\n",
    "        return torch.tensor(embeddings, dtype=torch.float)\n",
    "\n",
    "# Load GloVe embeddings\n",
    "embedding_dim = 200\n",
    "glove_embeddings = load_glove_embeddings('glove.6B.200d.txt', word2idx, embedding_dim)\n",
    "\n",
    "# Convert sentences to sequences of indices and truncate/pad sentences\n",
    "max_len = 100\n",
    "\n",
    "def pad_and_truncate(sentence, tag, max_len):\n",
    "    if len(sentence) > max_len:\n",
    "        return sentence[:max_len], tag[:max_len]\n",
    "    else:\n",
    "        padding_len = max_len - len(sentence)\n",
    "        return sentence + [word2idx[\"<PAD>\"]] * padding_len, tag + [0] * padding_len\n",
    "\n",
    "data = [pad_and_truncate(\n",
    "    [word2idx.get(word.lower(), word2idx[\"<UNK>\"]) for word, _ in sentence], \n",
    "    [tag2idx[tag] for _, tag in sentence], max_len) \n",
    "    for sentence in sentences]\n",
    "\n",
    "# Split the dataset into training and test sets\n",
    "train_data, test_data = train_test_split(data, test_size=0.2, random_state=42)\n",
    "\n",
    "# Dataset and DataLoader\n",
    "class POSDataset(Dataset):\n",
    "    def __init__(self, data):\n",
    "        self.data = data\n",
    "\n",
    "    def __len__(self):\n",
    "        return len(self.data)\n",
    "\n",
    "    def __getitem__(self, idx):\n",
    "        return torch.tensor(self.data[idx][0], dtype=torch.long), torch.tensor(self.data[idx][1], dtype=torch.long)\n",
    "\n",
    "def collate_fn(batch):\n",
    "    sentences, tags = zip(*batch)\n",
    "    return torch.stack(sentences), torch.stack(tags)\n",
    "\n",
    "train_loader = DataLoader(POSDataset(train_data), batch_size=32, shuffle=True, collate_fn=collate_fn)\n",
    "test_loader = DataLoader(POSDataset(test_data), batch_size=32, collate_fn=collate_fn)\n",
    "\n",
    "# LSTM Tagger Model\n",
    "class LSTMTagger(nn.Module):\n",
    "    def __init__(self, embedding_dim, hidden_dim, vocab_size, tagset_size, pretrained_embeddings):\n",
    "        super(LSTMTagger, self).__init__()\n",
    "        self.hidden_dim = hidden_dim\n",
    "\n",
    "        self.word_embeddings = nn.Embedding.from_pretrained(pretrained_embeddings, freeze=False)\n",
    "        self.lstm = nn.LSTM(embedding_dim, hidden_dim, batch_first=True)\n",
    "        self.hidden2tag = nn.Linear(hidden_dim, tagset_size)\n",
    "\n",
    "    def forward(self, sentence):\n",
    "        embeds = self.word_embeddings(sentence)\n",
    "        lstm_out, _ = self.lstm(embeds)\n",
    "        tag_space = self.hidden2tag(lstm_out.reshape(-1, self.hidden_dim))\n",
    "        tag_scores = nn.functional.log_softmax(tag_space, dim=1)\n",
    "        return tag_scores\n",
    "\n",
    "model = LSTMTagger(embedding_dim, 128, len(word2idx), len(tag2idx), glove_embeddings)\n",
    "\n",
    "# Early Stopping\n",
    "class EarlyStopping:\n",
    "    def __init__(self, patience=50):\n",
    "        self.patience = patience\n",
    "        self.counter = 0\n",
    "        self.best_loss = None\n",
    "        self.early_stop = False\n",
    "\n",
    "    def __call__(self, val_loss):\n",
    "        if self.best_loss is None:\n",
    "            self.best_loss = val_loss\n",
    "        elif val_loss > self.best_loss:\n",
    "            self.counter += 1\n",
    "            if self.counter >= self.patience:\n",
    "                self.early_stop = True\n",
    "        else:\n",
    "            self.best_loss = val_loss\n",
    "            self.counter = 0\n",
    "\n",
    "# Training Loop with Early Stopping\n",
    "loss_function = nn.NLLLoss()\n",
    "optimizer = optim.SGD(model.parameters(), lr=0.1)\n",
    "\n",
    "train_data, val_data = train_test_split(train_data, test_size=0.2, random_state=42)\n",
    "train_loader = DataLoader(POSDataset(train_data), batch_size=32, shuffle=True, collate_fn=collate_fn)\n",
    "val_loader = DataLoader(POSDataset(val_data), batch_size=32, collate_fn=collate_fn)\n",
    "\n",
    "early_stopping = EarlyStopping(patience=50)\n",
    "\n",
    "for epoch in range(100):  # Max number of epochs\n",
    "    model.train()\n",
    "    total_loss = 0\n",
    "    for sentences, tags in train_loader:\n",
    "        optimizer.zero_grad()\n",
    "        tag_scores = model(sentences)\n",
    "        loss = loss_function(tag_scores.view(-1, len(tag2idx)), tags.view(-1))\n",
    "        loss.backward()\n",
    "        optimizer.step()\n",
    "        total_loss += loss.item()\n",
    "\n",
    "    # Validation loop\n",
    "    val_loss = 0\n",
    "    model.eval()\n",
    "    with torch.no_grad():\n",
    "        for sentences, tags in val_loader:\n",
    "            tag_scores = model(sentences)\n",
    "            loss = loss_function(tag_scores.view(-1, len(tag2idx)), tags.view(-1))\n",
    "            val_loss += loss.item()\n",
    "\n",
    "    print(f\"Epoch {epoch + 1}, Train Loss: {total_loss / len(train_loader)}, Validation Loss: {val_loss / len(val_loader)}\")\n",
    "    \n",
    "    # Check early stopping condition\n",
    "    early_stopping(val_loss / len(val_loader))\n",
    "    if early_stopping.early_stop:\n",
    "        print(\"Early stopping triggered\")\n",
    "        break\n"
   ]
  },
  {
   "cell_type": "code",
   "execution_count": 246,
   "metadata": {},
   "outputs": [
    {
     "name": "stdout",
     "output_type": "stream",
     "text": [
      "Test Accuracy: 99.12%\n"
     ]
    }
   ],
   "source": [
    "# Function to calculate accuracy\n",
    "def calculate_accuracy(true_tags, pred_tags):\n",
    "    correct = pred_tags.eq(true_tags).sum().item()\n",
    "    total = true_tags.numel()\n",
    "    return correct / total\n",
    "\n",
    "# Evaluate on test data\n",
    "model.eval()\n",
    "total_accuracy = 0\n",
    "with torch.no_grad():\n",
    "    for sentences, tags in test_loader:\n",
    "        tag_scores = model(sentences)\n",
    "        _, predicted_tags = torch.max(tag_scores, dim=1)\n",
    "        accuracy = calculate_accuracy(tags.view(-1), predicted_tags)\n",
    "        total_accuracy += accuracy\n",
    "\n",
    "# Calculate average accuracy\n",
    "average_accuracy = total_accuracy / len(test_loader)\n",
    "print(f\"Test Accuracy: {average_accuracy * 100:.2f}%\")"
   ]
  },
  {
   "cell_type": "code",
   "execution_count": 139,
   "metadata": {},
   "outputs": [],
   "source": [
    "# Improvement over baseline = 4.43%"
   ]
  },
  {
   "cell_type": "code",
   "execution_count": 137,
   "metadata": {},
   "outputs": [
    {
     "data": {
      "text/plain": [
       "4.430000000000007"
      ]
     },
     "execution_count": 137,
     "metadata": {},
     "output_type": "execute_result"
    }
   ],
   "source": [
    "99.12-94.69"
   ]
  },
  {
   "cell_type": "code",
   "execution_count": 140,
   "metadata": {},
   "outputs": [
    {
     "name": "stdout",
     "output_type": "stream",
     "text": [
      "0.8342749529190202\n"
     ]
    }
   ],
   "source": [
    "print(cohens_kappa(.9912, .9469))"
   ]
  },
  {
   "cell_type": "markdown",
   "metadata": {},
   "source": [
    "This suggests almost perfect agreement "
   ]
  },
  {
   "cell_type": "markdown",
   "metadata": {},
   "source": [
    "### Part D:  "
   ]
  },
  {
   "cell_type": "markdown",
   "metadata": {},
   "source": [
    "Provide an analysis of what experiments you conducted with hyperparameters, what your results were, and in particular comment on how the two methods compare, especially given that one has *no* choice of hyperparameters, and one has *many* choices of parameters. How useful was the flexibility of choice in hyperparameters in Part C?"
   ]
  },
  {
   "cell_type": "markdown",
   "metadata": {},
   "source": [
    "This code follows the above listed objectives for 3C \n",
    "\n",
    "Data Preparation: The Brown Corpus is loaded and processed, with sentences truncated or padded to 100 tokens.\n",
    "\n",
    "GloVe Embeddings: It incorporates GloVe embeddings of dimension 200, updated with the words from the Brown Corpus.\n",
    "\n",
    "LSTM Model: An LSTM model is defined with configurable parameters for hidden_size, bidirectional, num_layers, and dropout.\n",
    "\n",
    "Early Stopping Mechanism: Implemented with a patience of 50 epochs.\n",
    "\n",
    "Training Loop: Includes training and validation phases, with early stopping based on validation loss."
   ]
  },
  {
   "cell_type": "markdown",
   "metadata": {},
   "source": [
    "The various hyperparameters in LSTM POS tagging code include:\n",
    "\n",
    "Embedding Dimension (embedding_dim): Set to 200, this is the size of the GloVe word embeddings.\n",
    "\n",
    "Hidden Size (hidden_dim): Configured as 128, it's the size of the LSTM's hidden layers.\n",
    "\n",
    "Learning Rate: In the optimizer (SGD), the learning rate is set to 0.1.\n",
    "\n",
    "Batch Size: Used in the data loaders, set to 32, determining how many samples per batch to pass through the network.\n",
    "\n",
    "Maximum Sentence Length (max_len): Sentences are truncated or padded to a length of 100 tokens.\n",
    "\n",
    "Patience for Early Stopping: Set to 50, this determines the number of epochs to wait for improvement before stopping."
   ]
  },
  {
   "cell_type": "markdown",
   "metadata": {},
   "source": [
    "Embedding dimension was specified in the last and 200D glove embeddings are apt for the task "
   ]
  },
  {
   "cell_type": "markdown",
   "metadata": {},
   "source": [
    "Various options for Hidden size :  64, 128, 256, 512. \n",
    "i tried 64 and 128 and 128 worked better \n",
    "The \"hidden size\" in an LSTM model refers to the dimensionality of the hidden state of each LSTM cell\n",
    "The optimal hidden size depends on the complexity of the task and the amount of data:\n",
    "Small datasets: A smaller hidden size can prevent overfitting.\n",
    "Large datasets and complex tasks: A larger hidden size may capture more information and improve model performance."
   ]
  },
  {
   "cell_type": "markdown",
   "metadata": {},
   "source": [
    "The learning rate in machine learning models is a crucial hyperparameter that influences how quickly a model learns. Common options for learning rates include:\n",
    "Standard Values: Often between 0.1 and 0.0001. Common choices are 0.1, 0.01, 0.001, 0.0001.\n",
    "The optimal learning rate depends on the specific dataset and model architecture. A rate too high can cause the model to converge too quickly to a suboptimal solution, while a rate too low can make the training process unnecessarily long or cause it to stall.\n",
    "\n",
    "I tried 0.01 but it was taking too long so i terminated it and ran with .1\n",
    "even this took 13 hours to finish running "
   ]
  },
  {
   "cell_type": "markdown",
   "metadata": {},
   "source": [
    "Common options for batch sizes in training neural networks include:\n",
    "Small Batch Sizes: Like 32, 64, or 128. Smaller batches often provide a regularizing effect and lower generalization error.\n",
    "Large Batch Sizes: Like 256, 512, 1024, or even higher. Larger batches allow for more efficient computation (due to better GPU utilization) but might lead to poorer generalization\n",
    "\n",
    "Since i was running on my CPU, i went with 32 and 64"
   ]
  },
  {
   "cell_type": "markdown",
   "metadata": {},
   "source": [
    "Maximum Sentence Length : Prof specified on Piazza to take 100 "
   ]
  },
  {
   "cell_type": "markdown",
   "metadata": {},
   "source": [
    "Patience for Early Stopping: Set to 50 as specified "
   ]
  },
  {
   "cell_type": "markdown",
   "metadata": {},
   "source": [
    "So the 4 models i tried were : hidden_dim 64 - batch size 32, hidden_dum 64 - batch size 64, hidden_dim 128 - batch size 32,hidden_dim 128 - batch size 64"
   ]
  },
  {
   "cell_type": "code",
   "execution_count": 141,
   "metadata": {},
   "outputs": [],
   "source": [
    "\n",
    "# Hidden Dimension (hidden_dim)\tBatch Size\tAccuracy (%)\n",
    "# 64\t32\t98.533\n",
    "# 64\t64\t98.754\n",
    "# 128\t32\t99.12\n",
    "# 128\t64\t98.9"
   ]
  },
  {
   "cell_type": "markdown",
   "metadata": {},
   "source": [
    "the best model was hidden_dim 128 - batch size 32"
   ]
  },
  {
   "cell_type": "markdown",
   "metadata": {},
   "source": [
    "#### Optional:\n",
    "\n",
    "You might want to try doing this problem with a transformer model such as BERT. There are plenty of blog posts out there describing the details, and, as usual, chatGPT would have plenty of things to say about the topic.... "
   ]
  },
  {
   "cell_type": "markdown",
   "metadata": {},
   "source": [
    "\n",
    "Using BERT (Bidirectional Encoder Representations from Transformers) for POS tagging is an advanced approach that leverages deep learning and the power of pre-trained language models. The process typically involves:\n",
    "\n",
    "Selecting a Pre-trained BERT Model: Choose a BERT model pre-trained on a large corpus, like BERT-base or BERT-large.\n",
    "\n",
    "Fine-Tuning the Model: Fine-tune the BERT model on a POS tagging dataset. This involves adding a classification layer on top of BERT to predict POS tags.\n",
    "\n",
    "Data Preparation: Tokenize your data in a format compatible with BERT, which may involve special tokens like [CLS] and [SEP].\n",
    "\n",
    "Training and Evaluation: Train the model on your POS tagging data, then evaluate its performance, optimizing hyperparameters as necessary.\n",
    "\n",
    "Inference: Use the fine-tuned model to predict POS tags on new sentences.\n",
    "\n",
    "This approach benefits from BERT's deep contextualized word representations, potentially leading to superior POS tagging performance compared to traditional methods."
   ]
  },
  {
   "cell_type": "code",
   "execution_count": 1,
   "metadata": {},
   "outputs": [
    {
     "name": "stderr",
     "output_type": "stream",
     "text": [
      "[nltk_data] Downloading package brown to\n",
      "[nltk_data]     /Users/gauravbindra/nltk_data...\n",
      "[nltk_data]   Package brown is already up-to-date!\n",
      "[nltk_data] Downloading package universal_tagset to\n",
      "[nltk_data]     /Users/gauravbindra/nltk_data...\n",
      "[nltk_data]   Package universal_tagset is already up-to-date!\n",
      "huggingface/tokenizers: The current process just got forked, after parallelism has already been used. Disabling parallelism to avoid deadlocks...\n",
      "To disable this warning, you can either:\n",
      "\t- Avoid using `tokenizers` before the fork if possible\n",
      "\t- Explicitly set the environment variable TOKENIZERS_PARALLELISM=(true | false)\n"
     ]
    },
    {
     "data": {
      "application/vnd.jupyter.widget-view+json": {
       "model_id": "1b49ee00b4a44e1e8e175e81bdf6c825",
       "version_major": 2,
       "version_minor": 0
      },
      "text/plain": [
       "model.safetensors:   0%|          | 0.00/440M [00:00<?, ?B/s]"
      ]
     },
     "metadata": {},
     "output_type": "display_data"
    },
    {
     "name": "stderr",
     "output_type": "stream",
     "text": [
      "Some weights of BertForTokenClassification were not initialized from the model checkpoint at bert-base-uncased and are newly initialized: ['classifier.bias', 'classifier.weight']\n",
      "You should probably TRAIN this model on a down-stream task to be able to use it for predictions and inference.\n",
      "/usr/local/lib/python3.11/site-packages/transformers/optimization.py:411: FutureWarning: This implementation of AdamW is deprecated and will be removed in a future version. Use the PyTorch implementation torch.optim.AdamW instead, or set `no_deprecation_warning=True` to disable this warning\n",
      "  warnings.warn(\n",
      "We strongly recommend passing in an `attention_mask` since your input_ids may be padded. See https://huggingface.co/docs/transformers/troubleshooting#incorrect-output-when-padding-tokens-arent-masked.\n"
     ]
    },
    {
     "ename": "KeyboardInterrupt",
     "evalue": "",
     "output_type": "error",
     "traceback": [
      "\u001b[0;31m---------------------------------------------------------------------------\u001b[0m",
      "\u001b[0;31mKeyboardInterrupt\u001b[0m                         Traceback (most recent call last)",
      "\u001b[1;32m/Users/gauravbindra/Desktop/NLP/hw05/HW05_checkpoint1.ipynb Cell 91\u001b[0m line \u001b[0;36m8\n\u001b[1;32m     <a href='vscode-notebook-cell:/Users/gauravbindra/Desktop/NLP/hw05/HW05_checkpoint1.ipynb#Y156sZmlsZQ%3D%3D?line=78'>79</a>\u001b[0m outputs \u001b[39m=\u001b[39m model(batch_input_ids, labels\u001b[39m=\u001b[39mbatch_labels)\n\u001b[1;32m     <a href='vscode-notebook-cell:/Users/gauravbindra/Desktop/NLP/hw05/HW05_checkpoint1.ipynb#Y156sZmlsZQ%3D%3D?line=79'>80</a>\u001b[0m loss \u001b[39m=\u001b[39m outputs\u001b[39m.\u001b[39mloss\n\u001b[0;32m---> <a href='vscode-notebook-cell:/Users/gauravbindra/Desktop/NLP/hw05/HW05_checkpoint1.ipynb#Y156sZmlsZQ%3D%3D?line=80'>81</a>\u001b[0m loss\u001b[39m.\u001b[39;49mbackward()\n\u001b[1;32m     <a href='vscode-notebook-cell:/Users/gauravbindra/Desktop/NLP/hw05/HW05_checkpoint1.ipynb#Y156sZmlsZQ%3D%3D?line=81'>82</a>\u001b[0m total_loss \u001b[39m+\u001b[39m\u001b[39m=\u001b[39m loss\u001b[39m.\u001b[39mitem()\n\u001b[1;32m     <a href='vscode-notebook-cell:/Users/gauravbindra/Desktop/NLP/hw05/HW05_checkpoint1.ipynb#Y156sZmlsZQ%3D%3D?line=82'>83</a>\u001b[0m optimizer\u001b[39m.\u001b[39mstep()\n",
      "File \u001b[0;32m/usr/local/lib/python3.11/site-packages/torch/_tensor.py:492\u001b[0m, in \u001b[0;36mTensor.backward\u001b[0;34m(self, gradient, retain_graph, create_graph, inputs)\u001b[0m\n\u001b[1;32m    482\u001b[0m \u001b[39mif\u001b[39;00m has_torch_function_unary(\u001b[39mself\u001b[39m):\n\u001b[1;32m    483\u001b[0m     \u001b[39mreturn\u001b[39;00m handle_torch_function(\n\u001b[1;32m    484\u001b[0m         Tensor\u001b[39m.\u001b[39mbackward,\n\u001b[1;32m    485\u001b[0m         (\u001b[39mself\u001b[39m,),\n\u001b[0;32m   (...)\u001b[0m\n\u001b[1;32m    490\u001b[0m         inputs\u001b[39m=\u001b[39minputs,\n\u001b[1;32m    491\u001b[0m     )\n\u001b[0;32m--> 492\u001b[0m torch\u001b[39m.\u001b[39;49mautograd\u001b[39m.\u001b[39;49mbackward(\n\u001b[1;32m    493\u001b[0m     \u001b[39mself\u001b[39;49m, gradient, retain_graph, create_graph, inputs\u001b[39m=\u001b[39;49minputs\n\u001b[1;32m    494\u001b[0m )\n",
      "File \u001b[0;32m/usr/local/lib/python3.11/site-packages/torch/autograd/__init__.py:251\u001b[0m, in \u001b[0;36mbackward\u001b[0;34m(tensors, grad_tensors, retain_graph, create_graph, grad_variables, inputs)\u001b[0m\n\u001b[1;32m    246\u001b[0m     retain_graph \u001b[39m=\u001b[39m create_graph\n\u001b[1;32m    248\u001b[0m \u001b[39m# The reason we repeat the same comment below is that\u001b[39;00m\n\u001b[1;32m    249\u001b[0m \u001b[39m# some Python versions print out the first line of a multi-line function\u001b[39;00m\n\u001b[1;32m    250\u001b[0m \u001b[39m# calls in the traceback and some print out the last line\u001b[39;00m\n\u001b[0;32m--> 251\u001b[0m Variable\u001b[39m.\u001b[39;49m_execution_engine\u001b[39m.\u001b[39;49mrun_backward(  \u001b[39m# Calls into the C++ engine to run the backward pass\u001b[39;49;00m\n\u001b[1;32m    252\u001b[0m     tensors,\n\u001b[1;32m    253\u001b[0m     grad_tensors_,\n\u001b[1;32m    254\u001b[0m     retain_graph,\n\u001b[1;32m    255\u001b[0m     create_graph,\n\u001b[1;32m    256\u001b[0m     inputs,\n\u001b[1;32m    257\u001b[0m     allow_unreachable\u001b[39m=\u001b[39;49m\u001b[39mTrue\u001b[39;49;00m,\n\u001b[1;32m    258\u001b[0m     accumulate_grad\u001b[39m=\u001b[39;49m\u001b[39mTrue\u001b[39;49;00m,\n\u001b[1;32m    259\u001b[0m )\n",
      "\u001b[0;31mKeyboardInterrupt\u001b[0m: "
     ]
    }
   ],
   "source": [
    "import torch\n",
    "from torch.utils.data import Dataset, DataLoader\n",
    "from transformers import BertTokenizerFast, BertForTokenClassification, AdamW\n",
    "from nltk.corpus import brown\n",
    "import numpy as np\n",
    "from sklearn.model_selection import train_test_split\n",
    "import nltk\n",
    "\n",
    "# Load the dataset\n",
    "nltk.download('brown')\n",
    "nltk.download('universal_tagset')\n",
    "sentences = brown.tagged_sents(tagset='universal')\n",
    "\n",
    "# Create tag vocabulary\n",
    "tags = {tag for sentence in sentences for _, tag in sentence}\n",
    "tag2idx = {tag: idx for idx, tag in enumerate(tags)}\n",
    "idx2tag = {idx: tag for tag, idx in tag2idx.items()}\n",
    "\n",
    "# Initialize tokenizer\n",
    "tokenizer = BertTokenizerFast.from_pretrained('bert-base-uncased')\n",
    "\n",
    "# Function to encode text and preserve labels\n",
    "def encode_with_labels(sentence, labels):\n",
    "    inputs = tokenizer(sentence, add_special_tokens=True, padding='max_length', truncation=True, max_length=128, return_tensors=\"pt\")\n",
    "    input_ids = inputs['input_ids'].squeeze(0)\n",
    "    label_ids = [-100] + labels[:126] + [-100]  # -100 is the ignore index in PyTorch\n",
    "    label_ids += [-100] * (128 - len(label_ids))  # Padding labels\n",
    "    return input_ids, label_ids\n",
    "\n",
    "# Encode each sentence and its tags\n",
    "encoded_texts_and_labels = [\n",
    "    encode_with_labels(\" \".join([word for word, _ in sent]), [tag2idx[tag] for _, tag in sent])\n",
    "    for sent in sentences\n",
    "]\n",
    "\n",
    "# Prepare dataset\n",
    "input_ids = torch.stack([x[0] for x in encoded_texts_and_labels])\n",
    "labels = torch.stack([torch.tensor(x[1]) for x in encoded_texts_and_labels])\n",
    "\n",
    "# Train/test split\n",
    "train_inputs, val_inputs, train_labels, val_labels = train_test_split(input_ids, labels, random_state=2018, test_size=0.1)\n",
    "\n",
    "# Create Datasets\n",
    "class POSDataset(Dataset):\n",
    "    def __init__(self, inputs, labels):\n",
    "        self.inputs = inputs\n",
    "        self.labels = labels\n",
    "\n",
    "    def __len__(self):\n",
    "        return len(self.inputs)\n",
    "\n",
    "    def __getitem__(self, idx):\n",
    "        return self.inputs[idx], self.labels[idx]\n",
    "\n",
    "train_data = POSDataset(train_inputs, train_labels)\n",
    "val_data = POSDataset(val_inputs, val_labels)\n",
    "\n",
    "train_loader = DataLoader(train_data, batch_size=32, shuffle=True)\n",
    "val_loader = DataLoader(val_data, batch_size=32)\n",
    "\n",
    "# Initialize BERT model for token classification\n",
    "model = BertForTokenClassification.from_pretrained(\"bert-base-uncased\", num_labels=len(tag2idx))\n",
    "\n",
    "# Training settings\n",
    "device = torch.device(\"cuda\" if torch.cuda.is_available() else \"cpu\")\n",
    "model.to(device)\n",
    "optimizer = AdamW(model.parameters(), lr=3e-5)\n",
    "\n",
    "# Training loop\n",
    "for epoch in range(3):  # Number of epochs\n",
    "    model.train()\n",
    "    total_loss = 0\n",
    "    for batch in train_loader:\n",
    "        batch_input_ids, batch_labels = batch\n",
    "        batch_input_ids = batch_input_ids.to(device)\n",
    "        batch_labels = batch_labels.to(device)\n",
    "        \n",
    "        model.zero_grad()\n",
    "        outputs = model(batch_input_ids, labels=batch_labels)\n",
    "        loss = outputs.loss\n",
    "        loss.backward()\n",
    "        total_loss += loss.item()\n",
    "        optimizer.step()\n",
    "\n",
    "    avg_train_loss = total_loss / len(train_loader)\n",
    "    print(f\"Epoch {epoch + 1}, Train Loss: {avg_train_loss}\")\n",
    "\n",
    "# Add your evaluation code here if needed\n"
   ]
  },
  {
   "cell_type": "markdown",
   "metadata": {},
   "source": [
    "Would have taken more than a day just for a few epochs so i stopped running after a couple of hours "
   ]
  },
  {
   "cell_type": "markdown",
   "metadata": {},
   "source": [
    "The code follows key steps:\n",
    "\n",
    "Data Preparation: You load the Brown Corpus, create a tag vocabulary, and tokenize the sentences using BERT's tokenizer, ensuring labels are aligned with tokenized inputs.\n",
    "\n",
    "BERT Model Initialization: You use BertForTokenClassification from Hugging Face's Transformers library, specifying the number of labels for classification.\n",
    "\n",
    "Dataset and DataLoader: You create a custom dataset and dataloaders for both training and validation data.\n",
    "\n",
    "Training Loop: The model is trained for 3 epochs with the AdamW optimizer. Loss is calculated and used for backpropagation."
   ]
  },
  {
   "cell_type": "code",
   "execution_count": 142,
   "metadata": {},
   "outputs": [],
   "source": [
    "# NEXT STEPS "
   ]
  },
  {
   "cell_type": "markdown",
   "metadata": {},
   "source": [
    "Next steps would include implementing an evaluation loop on the validation data to measure the model's performance, and potentially fine-tuning hyperparameters or training for more epochs for improved results. Remember to handle special tokens and alignment issues between BERT's subword tokenization and the POS tags."
   ]
  },
  {
   "cell_type": "code",
   "execution_count": null,
   "metadata": {},
   "outputs": [],
   "source": []
  }
 ],
 "metadata": {
  "kernelspec": {
   "display_name": "Python 3 (ipykernel)",
   "language": "python",
   "name": "python3"
  },
  "language_info": {
   "codemirror_mode": {
    "name": "ipython",
    "version": 3
   },
   "file_extension": ".py",
   "mimetype": "text/x-python",
   "name": "python",
   "nbconvert_exporter": "python",
   "pygments_lexer": "ipython3",
   "version": "3.11.6"
  }
 },
 "nbformat": 4,
 "nbformat_minor": 4
}
